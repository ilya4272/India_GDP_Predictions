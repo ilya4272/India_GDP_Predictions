{
 "cells": [
  {
   "cell_type": "code",
   "execution_count": 1,
   "metadata": {},
   "outputs": [],
   "source": [
    "# Import necessary libarary\n",
    "\n",
    "import pandas as pd \n",
    "import numpy  as np\n",
    "\n",
    "import os\n",
    "import matplotlib.pyplot as plt\n",
    "import seaborn as sns\n",
    "\n",
    "import warnings\n",
    "warnings.filterwarnings('ignore')"
   ]
  },
  {
   "cell_type": "code",
   "execution_count": 2,
   "metadata": {},
   "outputs": [],
   "source": [
    "# Upload necessary libararies for ML\n",
    "\n",
    "from sklearn.model_selection import train_test_split\n",
    "from sklearn import preprocessing\n",
    "from sklearn.preprocessing import StandardScaler\n",
    "from sklearn.linear_model import LinearRegression\n",
    "from sklearn.preprocessing import PolynomialFeatures"
   ]
  },
  {
   "cell_type": "code",
   "execution_count": 3,
   "metadata": {},
   "outputs": [],
   "source": [
    "# Display for all row and column \n",
    "\n",
    "pd.set_option('display.max_rows', None, 'display.max_columns', None)"
   ]
  },
  {
   "cell_type": "code",
   "execution_count": 4,
   "metadata": {},
   "outputs": [],
   "source": [
    "# Upload Files\n",
    "\n",
    "temp_detail = pd.read_csv('/Users/ilyasozgur/Desktop/Thesis/Models/Model_for_Thesis/Model_3/India_CL/Complex_Data/Comp_Delphi.csv')\n",
    "gdp = pd.read_excel('/Users/ilyasozgur/Desktop/Thesis/Models/Model_for_Thesis/Model_3/India_CL/Complex_Data/New_Delhi_GDP.xlsx')\n",
    "weather_quality = pd.read_csv('/Users/ilyasozgur/Desktop/Thesis/Models/Model_for_Thesis/Model_3/India_CL/Complex_Data/New_Delhi_Weather_Quality.csv')\n",
    "labor_pro_1 = pd.read_excel('/Users/ilyasozgur/Desktop/Thesis/Models/Model_for_Thesis/Model_3/India_CL/Complex_Data/Indian_Labor_Productivity.xlsx')\n",
    "labor_pro_2 = pd.read_excel('/Users/ilyasozgur/Desktop/Thesis/Models/Model_for_Thesis/Model_3/India_CL/Complex_Data/Labor_Productivity_GDP.xlsx')"
   ]
  },
  {
   "cell_type": "markdown",
   "metadata": {},
   "source": [
    "## Feature 1 - Mean Temperature"
   ]
  },
  {
   "cell_type": "code",
   "execution_count": 5,
   "metadata": {},
   "outputs": [],
   "source": [
    "# Select necessary columns\n",
    "mean_temp = temp_detail.copy()\n",
    "mean_temp = mean_temp[['date_time','tempC','FeelsLikeC','uvIndex','WindChillC','humidity','precipMM']]"
   ]
  },
  {
   "cell_type": "code",
   "execution_count": 6,
   "metadata": {
    "scrolled": false
   },
   "outputs": [],
   "source": [
    "# Prepare the data frame for calculation\n",
    "mean_temp[['Year','Month','Rest']] = mean_temp['date_time'].str.split('-',n=3,expand=True)\n",
    "mean_temp = mean_temp[['Rest','Month','Year','tempC','FeelsLikeC','uvIndex','WindChillC','humidity','precipMM']]\n",
    "mean_temp[['Day','Hour']] = mean_temp['Rest'].str.split(' ',n=1,expand=True)\n",
    "mean_temp = mean_temp[['Hour','Day','Month','Year','tempC','FeelsLikeC','uvIndex','WindChillC','humidity','precipMM']]"
   ]
  },
  {
   "cell_type": "code",
   "execution_count": 7,
   "metadata": {},
   "outputs": [],
   "source": [
    "# Calculate annual mean temperature\n",
    "mean_temp_daily = mean_temp[['Year','tempC']]\n",
    "mean_temp_daily = mean_temp_daily.groupby(['Year'])['tempC'].mean().reset_index()"
   ]
  },
  {
   "cell_type": "code",
   "execution_count": 8,
   "metadata": {},
   "outputs": [
    {
     "data": {
      "text/plain": [
       "[<matplotlib.lines.Line2D at 0x7fc8dc420b90>]"
      ]
     },
     "execution_count": 8,
     "metadata": {},
     "output_type": "execute_result"
    },
    {
     "data": {
      "image/png": "[encoded data removed]",
      "text/plain": [
       "<Figure size 432x288 with 1 Axes>"
      ]
     },
     "metadata": {
      "needs_background": "light"
     },
     "output_type": "display_data"
    }
   ],
   "source": [
    "plt.plot(mean_temp_daily['Year'], mean_temp_daily['tempC']) "
   ]
  },
  {
   "cell_type": "markdown",
   "metadata": {},
   "source": [
    "Obviously 2019 is not completed data, therefore better to ffill for the 2019"
   ]
  },
  {
   "cell_type": "code",
   "execution_count": 9,
   "metadata": {},
   "outputs": [],
   "source": [
    "# Drop 2020 and forward fill with 2019\n",
    "\n",
    "if mean_temp_daily['tempC'][len(mean_temp_daily['tempC'])-1] < mean_temp_daily['tempC'][len(mean_temp_daily['tempC'])-2]:\n",
    "    mean_temp_daily['tempC'][len(mean_temp_daily['tempC'])-1] = mean_temp_daily['tempC'][len(mean_temp_daily['tempC'])-2]"
   ]
  },
  {
   "cell_type": "code",
   "execution_count": 10,
   "metadata": {},
   "outputs": [
    {
     "data": {
      "image/png": "[encoded data removed]",
      "text/plain": [
       "<Figure size 432x288 with 1 Axes>"
      ]
     },
     "metadata": {
      "needs_background": "light"
     },
     "output_type": "display_data"
    }
   ],
   "source": [
    "plt.title('Mean Temperature of New Delhi')\n",
    "\n",
    "plt.plot(mean_temp_daily['Year'], mean_temp_daily['tempC']) \n",
    "\n",
    "plt.xlabel('Years')\n",
    "plt.ylabel('Temperature °C')\n",
    "\n",
    "#plt.legend(loc=\"upper left\")\n",
    "plt.show()"
   ]
  },
  {
   "cell_type": "code",
   "execution_count": 11,
   "metadata": {},
   "outputs": [],
   "source": [
    "mean_temp_daily.rename({'tempC':'Mean_Temp'}, axis=1, inplace=True)"
   ]
  },
  {
   "cell_type": "code",
   "execution_count": 12,
   "metadata": {},
   "outputs": [],
   "source": [
    "mean_temp_daily = mean_temp_daily.reset_index(drop=True)"
   ]
  },
  {
   "cell_type": "markdown",
   "metadata": {},
   "source": [
    "## Feature 2 - Summer Mean Temp."
   ]
  },
  {
   "cell_type": "code",
   "execution_count": 13,
   "metadata": {},
   "outputs": [],
   "source": [
    "# Prepare dataframe frame for calculation\n",
    "summer_mean_temp = mean_temp.groupby(['Day','Month','Year'])['tempC'].mean().reset_index()\n",
    "summer_mean_temp = summer_mean_temp.sort_values(['Year','Month','Day'],ascending=[True,True,True])\n",
    "summer_mean_temp.reset_index(inplace=True)\n",
    "summer_mean_temp.drop(columns=['index'],inplace=True)"
   ]
  },
  {
   "cell_type": "code",
   "execution_count": 14,
   "metadata": {},
   "outputs": [],
   "source": [
    "# Change the data types\n",
    "\n",
    "summer_mean_temp['Day'] = summer_mean_temp['Day'].astype(int)\n",
    "summer_mean_temp['Month'] = summer_mean_temp['Month'].astype(int)\n",
    "summer_mean_temp['Year'] = summer_mean_temp['Year'].astype(str)"
   ]
  },
  {
   "cell_type": "code",
   "execution_count": 15,
   "metadata": {
    "scrolled": false
   },
   "outputs": [],
   "source": [
    "# Chose necessary months\n",
    "summer_mean_temp =  summer_mean_temp[(summer_mean_temp['Month'] == 6) |\n",
    "                                     (summer_mean_temp['Month'] == 7) |\n",
    "                                     (summer_mean_temp['Month'] == 8) ]"
   ]
  },
  {
   "cell_type": "code",
   "execution_count": 16,
   "metadata": {},
   "outputs": [],
   "source": [
    "# Calculate Summer Temperature Average\n",
    "\n",
    "summer_mean_temp = summer_mean_temp.groupby(['Year'])['tempC'].mean().reset_index()\n",
    "summer_mean_temp.reset_index(inplace=True)\n",
    "summer_mean_temp.drop(columns=['index'],inplace=True)"
   ]
  },
  {
   "cell_type": "code",
   "execution_count": 17,
   "metadata": {},
   "outputs": [
    {
     "data": {
      "image/png": "[encoded data removed]",
      "text/plain": [
       "<Figure size 432x288 with 1 Axes>"
      ]
     },
     "metadata": {
      "needs_background": "light"
     },
     "output_type": "display_data"
    }
   ],
   "source": [
    "plt.title('Summer Mean Temperature of New Delhi')\n",
    "\n",
    "plt.plot(summer_mean_temp['Year'], summer_mean_temp['tempC']) \n",
    "\n",
    "plt.xlabel('Years')\n",
    "plt.ylabel('Temperature °C')\n",
    "\n",
    "#plt.legend(loc=\"upper left\")\n",
    "plt.show()"
   ]
  },
  {
   "cell_type": "code",
   "execution_count": 18,
   "metadata": {},
   "outputs": [],
   "source": [
    "# Drop 2020 and forward fill with 2019\n",
    "\n",
    "if summer_mean_temp['tempC'][len(summer_mean_temp['tempC'])-1] < summer_mean_temp['tempC'][len(summer_mean_temp['tempC'])-2]:\n",
    "    summer_mean_temp['tempC'][len(summer_mean_temp['tempC'])-1] = summer_mean_temp['tempC'][len(summer_mean_temp['tempC'])-2]"
   ]
  },
  {
   "cell_type": "code",
   "execution_count": 19,
   "metadata": {},
   "outputs": [],
   "source": [
    "summer_mean_temp.rename({'tempC':'Summer_Mean_Temp'}, axis=1, inplace=True)"
   ]
  },
  {
   "cell_type": "code",
   "execution_count": 20,
   "metadata": {},
   "outputs": [],
   "source": [
    "# Create new rows\n",
    "\n",
    "summer_mean_temp_after = {'Year':[2020],'Summer_Mean_Temp':[np.nan]}\n",
    "summer_mean_temp_after = pd.DataFrame(summer_mean_temp_after)"
   ]
  },
  {
   "cell_type": "code",
   "execution_count": 21,
   "metadata": {},
   "outputs": [],
   "source": [
    "# Fill to backwards\n",
    "\n",
    "summer_mean_temp = pd.concat([summer_mean_temp,summer_mean_temp_after])\n",
    "summer_mean_temp = summer_mean_temp.ffill(axis ='rows')"
   ]
  },
  {
   "cell_type": "code",
   "execution_count": 22,
   "metadata": {},
   "outputs": [],
   "source": [
    "summer_mean_temp = summer_mean_temp.reset_index(drop=True)\n",
    "summer_mean_temp['Year'] = summer_mean_temp['Year'].astype(str)"
   ]
  },
  {
   "cell_type": "markdown",
   "metadata": {},
   "source": [
    "## Feature 3 - Extremely Hot Days"
   ]
  },
  {
   "cell_type": "code",
   "execution_count": 23,
   "metadata": {},
   "outputs": [],
   "source": [
    "# Prepare data Set\n",
    "ext_hot_days = mean_temp.groupby(['Day','Month','Year'])['tempC'].mean().reset_index()\n",
    "ext_hot_days = ext_hot_days.sort_values(['Year','Month','Day'],ascending=[True,True,True])\n",
    "ext_hot_days.reset_index(inplace=True)\n",
    "ext_hot_days.drop(columns=['index'],inplace=True)"
   ]
  },
  {
   "cell_type": "code",
   "execution_count": 24,
   "metadata": {},
   "outputs": [],
   "source": [
    "# If equal or higher then 28 degree call as extremely hot days\n",
    "ext_hot_days['Number_of_Hot_Days'] = ext_hot_days['tempC'].apply(lambda x: 1 if x >= 30 else 0)\n",
    "ext_hot_days = ext_hot_days[ext_hot_days['Number_of_Hot_Days'] == 1]\n",
    "ext_hot_days = ext_hot_days.groupby(['Year'])['Number_of_Hot_Days'].count().reset_index()"
   ]
  },
  {
   "cell_type": "code",
   "execution_count": 25,
   "metadata": {},
   "outputs": [
    {
     "data": {
      "image/png": "[encoded data removed]",
      "text/plain": [
       "<Figure size 432x288 with 1 Axes>"
      ]
     },
     "metadata": {
      "needs_background": "light"
     },
     "output_type": "display_data"
    }
   ],
   "source": [
    "plt.title('Number of Ext. Hot Days in New Delhi')\n",
    "\n",
    "plt.plot(ext_hot_days['Year'], ext_hot_days['Number_of_Hot_Days'])  \n",
    "\n",
    "plt.xlabel('Years')\n",
    "plt.ylabel('Temperature °C')\n",
    "\n",
    "#plt.legend(loc=\"upper left\")\n",
    "plt.show()"
   ]
  },
  {
   "cell_type": "code",
   "execution_count": 26,
   "metadata": {},
   "outputs": [],
   "source": [
    "# Drop 2020 and forward fill with 2019\n",
    "\n",
    "if ext_hot_days['Number_of_Hot_Days'][len(ext_hot_days['Number_of_Hot_Days'])-1] < ext_hot_days['Number_of_Hot_Days'][len(ext_hot_days['Number_of_Hot_Days'])-2]:\n",
    "    ext_hot_days['Number_of_Hot_Days'][len(ext_hot_days['Number_of_Hot_Days'])-1] = ext_hot_days['Number_of_Hot_Days'][len(ext_hot_days['Number_of_Hot_Days'])-2]"
   ]
  },
  {
   "cell_type": "code",
   "execution_count": 27,
   "metadata": {},
   "outputs": [],
   "source": [
    "# Create new rows\n",
    "\n",
    "ext_hot_days_after = {'Year':[2020],'Number_of_Hot_Days':[np.nan]}\n",
    "ext_hot_days_after = pd.DataFrame(ext_hot_days_after)"
   ]
  },
  {
   "cell_type": "code",
   "execution_count": 28,
   "metadata": {},
   "outputs": [],
   "source": [
    "# Fill to backwards\n",
    "\n",
    "ext_hot_days = pd.concat([ext_hot_days,ext_hot_days_after])\n",
    "ext_hot_days = ext_hot_days.ffill(axis ='rows')"
   ]
  },
  {
   "cell_type": "code",
   "execution_count": 29,
   "metadata": {},
   "outputs": [],
   "source": [
    "ext_hot_days = ext_hot_days.reset_index(drop=True)\n",
    "ext_hot_days['Year'] = ext_hot_days['Year'].astype(str)"
   ]
  },
  {
   "cell_type": "markdown",
   "metadata": {},
   "source": [
    "# Feature 4 - Max Daily Temp"
   ]
  },
  {
   "cell_type": "code",
   "execution_count": 30,
   "metadata": {},
   "outputs": [],
   "source": [
    "# Prepare data Set\n",
    "max_daily_temp = mean_temp.groupby(['Day','Month','Year'])['tempC'].mean().reset_index()\n",
    "max_daily_temp = max_daily_temp.sort_values(['Year','Month','Day'],ascending=[True,True,True])\n",
    "max_daily_temp.reset_index(inplace=True)\n",
    "max_daily_temp.drop(columns=['index'],inplace=True)"
   ]
  },
  {
   "cell_type": "code",
   "execution_count": 31,
   "metadata": {},
   "outputs": [],
   "source": [
    "# Taken Max temp. for each year\n",
    "max_daily_temp = max_daily_temp.groupby(['Year'])['tempC'].apply(lambda x: x.max()).reset_index()"
   ]
  },
  {
   "cell_type": "code",
   "execution_count": 32,
   "metadata": {},
   "outputs": [],
   "source": [
    "if max_daily_temp['tempC'][len(max_daily_temp['tempC'])-1] < max_daily_temp['tempC'][len(max_daily_temp['tempC'])-2]:\n",
    "    max_daily_temp['tempC'][len(max_daily_temp['tempC'])-1] = max_daily_temp['tempC'][len(max_daily_temp['tempC'])-2]"
   ]
  },
  {
   "cell_type": "code",
   "execution_count": 33,
   "metadata": {},
   "outputs": [
    {
     "data": {
      "image/png": "[encoded data removed]",
      "text/plain": [
       "<Figure size 432x288 with 1 Axes>"
      ]
     },
     "metadata": {
      "needs_background": "light"
     },
     "output_type": "display_data"
    }
   ],
   "source": [
    "plt.title('Max DailyTemperature of year in New Delhi')\n",
    "\n",
    "plt.plot(max_daily_temp['Year'], max_daily_temp['tempC']) \n",
    "\n",
    "plt.xlabel('Years')\n",
    "plt.ylabel('Temperature °C')\n",
    "\n",
    "#plt.legend(loc=\"upper left\")\n",
    "plt.show()"
   ]
  },
  {
   "cell_type": "code",
   "execution_count": 34,
   "metadata": {},
   "outputs": [],
   "source": [
    "max_daily_temp.rename({'tempC':'Max_Daily_Temp'}, axis=1, inplace=True)"
   ]
  },
  {
   "cell_type": "code",
   "execution_count": 35,
   "metadata": {},
   "outputs": [],
   "source": [
    "max_daily_temp = max_daily_temp.reset_index(drop=True)"
   ]
  },
  {
   "cell_type": "markdown",
   "metadata": {},
   "source": [
    "# Feature 5 - Mean Feels Temperature"
   ]
  },
  {
   "cell_type": "code",
   "execution_count": 36,
   "metadata": {},
   "outputs": [],
   "source": [
    "# Prepare data Set\n",
    "mean_feel_temp = mean_temp.groupby(['Day','Month','Year'])['FeelsLikeC'].mean().reset_index()\n",
    "mean_feel_temp = mean_feel_temp.sort_values(['Year','Month','Day'],ascending=[True,True,True])\n",
    "mean_feel_temp.reset_index(inplace=True)\n",
    "mean_feel_temp.drop(columns=['index'],inplace=True)"
   ]
  },
  {
   "cell_type": "code",
   "execution_count": 37,
   "metadata": {},
   "outputs": [],
   "source": [
    "# Calculate annual mean feel temperature\n",
    "mean_feel_temp = mean_feel_temp[['Year','FeelsLikeC']]\n",
    "mean_feel_temp = mean_feel_temp.groupby(['Year'])['FeelsLikeC'].mean().reset_index()"
   ]
  },
  {
   "cell_type": "code",
   "execution_count": 38,
   "metadata": {},
   "outputs": [
    {
     "data": {
      "text/plain": [
       "[<matplotlib.lines.Line2D at 0x7fc8dc7d5450>]"
      ]
     },
     "execution_count": 38,
     "metadata": {},
     "output_type": "execute_result"
    },
    {
     "data": {
      "image/png": "[encoded data removed]",
      "text/plain": [
       "<Figure size 432x288 with 1 Axes>"
      ]
     },
     "metadata": {
      "needs_background": "light"
     },
     "output_type": "display_data"
    }
   ],
   "source": [
    "plt.plot(mean_feel_temp['Year'], mean_feel_temp['FeelsLikeC']) "
   ]
  },
  {
   "cell_type": "code",
   "execution_count": 39,
   "metadata": {},
   "outputs": [],
   "source": [
    "# Drop 2020 and forward fill with 2019\n",
    "\n",
    "if mean_feel_temp['FeelsLikeC'][len(mean_feel_temp['FeelsLikeC'])-1] < mean_feel_temp['FeelsLikeC'][len(mean_feel_temp['FeelsLikeC'])-2]:\n",
    "    mean_feel_temp['FeelsLikeC'][len(mean_feel_temp['FeelsLikeC'])-1] = mean_feel_temp['FeelsLikeC'][len(mean_feel_temp['FeelsLikeC'])-2]"
   ]
  },
  {
   "cell_type": "code",
   "execution_count": 40,
   "metadata": {},
   "outputs": [
    {
     "data": {
      "text/plain": [
       "[<matplotlib.lines.Line2D at 0x7fc8dc78d150>]"
      ]
     },
     "execution_count": 40,
     "metadata": {},
     "output_type": "execute_result"
    },
    {
     "data": {
      "image/png": "[encoded data removed]",
      "text/plain": [
       "<Figure size 432x288 with 1 Axes>"
      ]
     },
     "metadata": {
      "needs_background": "light"
     },
     "output_type": "display_data"
    }
   ],
   "source": [
    "plt.plot(mean_feel_temp['Year'], mean_feel_temp['FeelsLikeC']) "
   ]
  },
  {
   "cell_type": "code",
   "execution_count": 41,
   "metadata": {},
   "outputs": [],
   "source": [
    "mean_feel_temp.rename({'FeelsLikeC':'Mean_Feels_Temp'}, axis=1, inplace=True)"
   ]
  },
  {
   "cell_type": "code",
   "execution_count": 42,
   "metadata": {},
   "outputs": [],
   "source": [
    "mean_feel_temp = mean_feel_temp.reset_index(drop=True)"
   ]
  },
  {
   "cell_type": "markdown",
   "metadata": {},
   "source": [
    "# Feature 6 - Summer Mean Feel Temp"
   ]
  },
  {
   "cell_type": "code",
   "execution_count": 43,
   "metadata": {},
   "outputs": [],
   "source": [
    "# Prepare data Set\n",
    "summer_mean_feel_temp = mean_temp.groupby(['Day','Month','Year'])['FeelsLikeC'].mean().reset_index()\n",
    "summer_mean_feel_temp = summer_mean_feel_temp.sort_values(['Year','Month','Day'],ascending=[True,True,True])\n",
    "summer_mean_feel_temp.reset_index(inplace=True)\n",
    "summer_mean_feel_temp.drop(columns=['index'],inplace=True)"
   ]
  },
  {
   "cell_type": "code",
   "execution_count": 44,
   "metadata": {},
   "outputs": [],
   "source": [
    "# Change the data types\n",
    "\n",
    "summer_mean_feel_temp['Day']   = summer_mean_feel_temp['Day'].astype(int)\n",
    "summer_mean_feel_temp['Month'] = summer_mean_feel_temp['Month'].astype(int)\n",
    "summer_mean_feel_temp['Year']  = summer_mean_feel_temp['Year'].astype(str)"
   ]
  },
  {
   "cell_type": "code",
   "execution_count": 45,
   "metadata": {},
   "outputs": [],
   "source": [
    "# Chose necessary months\n",
    "summer_mean_feel_temp =  summer_mean_feel_temp[(summer_mean_feel_temp['Month'] == 6) |\n",
    "                                               (summer_mean_feel_temp['Month'] == 7) |\n",
    "                                               (summer_mean_feel_temp['Month'] == 8) ]"
   ]
  },
  {
   "cell_type": "code",
   "execution_count": 46,
   "metadata": {},
   "outputs": [],
   "source": [
    "# Calculate Summer Temperature Average\n",
    "\n",
    "summer_mean_feel_temp = summer_mean_feel_temp.groupby(['Year'])['FeelsLikeC'].mean().reset_index()\n",
    "summer_mean_feel_temp.reset_index(inplace=True)\n",
    "summer_mean_feel_temp.drop(columns=['index'],inplace=True)"
   ]
  },
  {
   "cell_type": "code",
   "execution_count": 47,
   "metadata": {},
   "outputs": [
    {
     "data": {
      "text/plain": [
       "[<matplotlib.lines.Line2D at 0x7fc8dc73fbd0>]"
      ]
     },
     "execution_count": 47,
     "metadata": {},
     "output_type": "execute_result"
    },
    {
     "data": {
      "image/png": "[encoded data removed]",
      "text/plain": [
       "<Figure size 432x288 with 1 Axes>"
      ]
     },
     "metadata": {
      "needs_background": "light"
     },
     "output_type": "display_data"
    }
   ],
   "source": [
    "plt.plot(summer_mean_feel_temp['Year'], summer_mean_feel_temp['FeelsLikeC']) "
   ]
  },
  {
   "cell_type": "code",
   "execution_count": 48,
   "metadata": {},
   "outputs": [],
   "source": [
    "# Drop 2020 and forward fill with 2019\n",
    "\n",
    "if summer_mean_feel_temp['FeelsLikeC'][len(summer_mean_feel_temp['FeelsLikeC'])-1] < summer_mean_feel_temp['FeelsLikeC'][len(summer_mean_feel_temp['FeelsLikeC'])-2]:\n",
    "    summer_mean_feel_temp['FeelsLikeC'][len(summer_mean_feel_temp['FeelsLikeC'])-1] = summer_mean_feel_temp['FeelsLikeC'][len(summer_mean_feel_temp['FeelsLikeC'])-2]"
   ]
  },
  {
   "cell_type": "code",
   "execution_count": 49,
   "metadata": {},
   "outputs": [],
   "source": [
    "summer_mean_feel_temp.rename({'FeelsLikeC':'Summer_Mean_Feels_Temp'}, axis=1, inplace=True)"
   ]
  },
  {
   "cell_type": "code",
   "execution_count": 50,
   "metadata": {},
   "outputs": [],
   "source": [
    "# Create new rows\n",
    "\n",
    "summer_mean_feel_temp_after = {'Year':[2020],'Summer_Mean_Feels_Temp':[np.nan]}\n",
    "summer_mean_feel_temp_after = pd.DataFrame(summer_mean_feel_temp_after)\n",
    "\n",
    "# Fill to backwards\n",
    "\n",
    "summer_mean_feel_temp = pd.concat([summer_mean_feel_temp,summer_mean_feel_temp_after])\n",
    "summer_mean_feel_temp = summer_mean_feel_temp.ffill(axis ='rows')"
   ]
  },
  {
   "cell_type": "code",
   "execution_count": 51,
   "metadata": {},
   "outputs": [],
   "source": [
    "summer_mean_feel_temp = summer_mean_feel_temp.reset_index(drop=True)"
   ]
  },
  {
   "cell_type": "code",
   "execution_count": 52,
   "metadata": {},
   "outputs": [],
   "source": [
    "summer_mean_feel_temp['Year']  = summer_mean_feel_temp['Year'].astype(str)"
   ]
  },
  {
   "cell_type": "markdown",
   "metadata": {},
   "source": [
    "# Feature 7 - Mean uvIndex"
   ]
  },
  {
   "cell_type": "code",
   "execution_count": 53,
   "metadata": {},
   "outputs": [],
   "source": [
    "# Prepare data Set\n",
    "mean_uv = mean_temp.groupby(['Day','Month','Year'])['uvIndex'].mean().reset_index()\n",
    "mean_uv = mean_uv.sort_values(['Year','Month','Day'],ascending=[True,True,True])\n",
    "mean_uv.reset_index(inplace=True)\n",
    "mean_uv.drop(columns=['index'],inplace=True)"
   ]
  },
  {
   "cell_type": "code",
   "execution_count": 54,
   "metadata": {},
   "outputs": [],
   "source": [
    "# Calculate annual mean feel temperature\n",
    "mean_uv = mean_uv[['Year','uvIndex']]\n",
    "mean_uv = mean_uv.groupby(['Year'])['uvIndex'].mean().reset_index()"
   ]
  },
  {
   "cell_type": "code",
   "execution_count": 55,
   "metadata": {},
   "outputs": [
    {
     "data": {
      "text/plain": [
       "[<matplotlib.lines.Line2D at 0x7fc8dc6f0690>]"
      ]
     },
     "execution_count": 55,
     "metadata": {},
     "output_type": "execute_result"
    },
    {
     "data": {
      "image/png": "[encoded data removed]",
      "text/plain": [
       "<Figure size 432x288 with 1 Axes>"
      ]
     },
     "metadata": {
      "needs_background": "light"
     },
     "output_type": "display_data"
    }
   ],
   "source": [
    "plt.plot(mean_uv['Year'], mean_uv['uvIndex']) "
   ]
  },
  {
   "cell_type": "code",
   "execution_count": 56,
   "metadata": {},
   "outputs": [],
   "source": [
    "# Drop 2020 and forward fill with 2019\n",
    "\n",
    "if mean_uv['uvIndex'][len(mean_uv['uvIndex'])-1] < mean_uv['uvIndex'][len(mean_uv['uvIndex'])-2]:\n",
    "    mean_uv['uvIndex'][len(mean_uv['uvIndex'])-1] = mean_uv['uvIndex'][len(mean_uv['uvIndex'])-2]"
   ]
  },
  {
   "cell_type": "code",
   "execution_count": 57,
   "metadata": {},
   "outputs": [
    {
     "data": {
      "image/png": "[encoded data removed]",
      "text/plain": [
       "<Figure size 432x288 with 1 Axes>"
      ]
     },
     "metadata": {
      "needs_background": "light"
     },
     "output_type": "display_data"
    }
   ],
   "source": [
    "plt.title('Mean UV Index of year in New Delhi')\n",
    "\n",
    "plt.plot(mean_uv['Year'], mean_uv['uvIndex']) \n",
    "\n",
    "plt.xlabel('Years')\n",
    "plt.ylabel('UV Index')\n",
    "\n",
    "#plt.legend(loc=\"upper left\")\n",
    "plt.show()"
   ]
  },
  {
   "cell_type": "code",
   "execution_count": 58,
   "metadata": {},
   "outputs": [],
   "source": [
    "mean_uv = mean_uv.reset_index(drop=True)"
   ]
  },
  {
   "cell_type": "markdown",
   "metadata": {},
   "source": [
    "# Feature 8 - Summer Mean uvIndex"
   ]
  },
  {
   "cell_type": "code",
   "execution_count": 59,
   "metadata": {},
   "outputs": [],
   "source": [
    "# Prepare data Set\n",
    "summer_mean_uv = mean_temp.groupby(['Day','Month','Year'])['uvIndex'].mean().reset_index()\n",
    "summer_mean_uv = summer_mean_uv.sort_values(['Year','Month','Day'],ascending=[True,True,True])\n",
    "summer_mean_uv.reset_index(inplace=True)\n",
    "summer_mean_uv.drop(columns=['index'],inplace=True)"
   ]
  },
  {
   "cell_type": "code",
   "execution_count": 60,
   "metadata": {},
   "outputs": [],
   "source": [
    "# Change the data types\n",
    "\n",
    "summer_mean_uv['Day']   = summer_mean_uv['Day'].astype(int)\n",
    "summer_mean_uv['Month'] = summer_mean_uv['Month'].astype(int)\n",
    "summer_mean_uv['Year']  = summer_mean_uv['Year'].astype(int)"
   ]
  },
  {
   "cell_type": "code",
   "execution_count": 61,
   "metadata": {},
   "outputs": [],
   "source": [
    "# Chose necessary months\n",
    "summer_mean_uv =  summer_mean_uv[(summer_mean_uv['Month'] == 6) |\n",
    "                                 (summer_mean_uv['Month'] == 7) |\n",
    "                                 (summer_mean_uv['Month'] == 8) ]"
   ]
  },
  {
   "cell_type": "code",
   "execution_count": 62,
   "metadata": {},
   "outputs": [],
   "source": [
    "# Calculate Summer Temperature Average\n",
    "\n",
    "summer_mean_uv = summer_mean_uv.groupby(['Year'])['uvIndex'].mean().reset_index()\n",
    "summer_mean_uv.reset_index(inplace=True)\n",
    "summer_mean_uv.drop(columns=['index'],inplace=True)"
   ]
  },
  {
   "cell_type": "code",
   "execution_count": 63,
   "metadata": {},
   "outputs": [
    {
     "data": {
      "text/plain": [
       "[<matplotlib.lines.Line2D at 0x7fc8dc661750>]"
      ]
     },
     "execution_count": 63,
     "metadata": {},
     "output_type": "execute_result"
    },
    {
     "data": {
      "image/png": "[encoded data removed]",
      "text/plain": [
       "<Figure size 432x288 with 1 Axes>"
      ]
     },
     "metadata": {
      "needs_background": "light"
     },
     "output_type": "display_data"
    }
   ],
   "source": [
    "plt.plot(summer_mean_uv['Year'], summer_mean_uv['uvIndex']) "
   ]
  },
  {
   "cell_type": "code",
   "execution_count": 64,
   "metadata": {},
   "outputs": [],
   "source": [
    "# Drop 2020 and forward fill with 2019\n",
    "\n",
    "if summer_mean_uv['uvIndex'][len(summer_mean_uv['uvIndex'])-1] < summer_mean_uv['uvIndex'][len(summer_mean_uv['uvIndex'])-2]:\n",
    "    summer_mean_uv['uvIndex'][len(summer_mean_uv['uvIndex'])-1] = summer_mean_uv['uvIndex'][len(summer_mean_uv['uvIndex'])-2]"
   ]
  },
  {
   "cell_type": "code",
   "execution_count": 65,
   "metadata": {},
   "outputs": [
    {
     "data": {
      "text/plain": [
       "[<matplotlib.lines.Line2D at 0x7fc8dc6238d0>]"
      ]
     },
     "execution_count": 65,
     "metadata": {},
     "output_type": "execute_result"
    },
    {
     "data": {
      "image/png": "[encoded data removed]",
      "text/plain": [
       "<Figure size 432x288 with 1 Axes>"
      ]
     },
     "metadata": {
      "needs_background": "light"
     },
     "output_type": "display_data"
    }
   ],
   "source": [
    "plt.plot(summer_mean_uv['Year'], summer_mean_uv['uvIndex']) "
   ]
  },
  {
   "cell_type": "code",
   "execution_count": 66,
   "metadata": {},
   "outputs": [],
   "source": [
    "# Create new rows\n",
    "\n",
    "summer_mean_uv_after = {'Year':[2020],'uvIndex':[np.nan]}\n",
    "summer_mean_uv_after = pd.DataFrame(summer_mean_uv_after)\n",
    "\n",
    "# Fill to backwards\n",
    "\n",
    "summer_mean_uv = pd.concat([summer_mean_uv,summer_mean_uv_after])\n",
    "summer_mean_uv = summer_mean_uv.ffill(axis ='rows')"
   ]
  },
  {
   "cell_type": "code",
   "execution_count": 67,
   "metadata": {},
   "outputs": [],
   "source": [
    "summer_mean_uv = summer_mean_uv.reset_index(drop=True)"
   ]
  },
  {
   "cell_type": "code",
   "execution_count": 68,
   "metadata": {},
   "outputs": [],
   "source": [
    "summer_mean_uv.rename({'uvIndex':'Summer_uvIndex'}, axis=1, inplace=True)"
   ]
  },
  {
   "cell_type": "markdown",
   "metadata": {},
   "source": [
    "# Feature 9 - Heat Waves Temperature"
   ]
  },
  {
   "cell_type": "code",
   "execution_count": 69,
   "metadata": {},
   "outputs": [],
   "source": [
    "# Prepare data Set\n",
    "heat_temp = mean_temp.groupby(['Day','Month','Year'])['WindChillC'].mean().reset_index()\n",
    "heat_temp = heat_temp.sort_values(['Year','Month','Day'],ascending=[True,True,True])\n",
    "heat_temp.reset_index(inplace=True)\n",
    "heat_temp.drop(columns=['index'],inplace=True)"
   ]
  },
  {
   "cell_type": "code",
   "execution_count": 70,
   "metadata": {},
   "outputs": [],
   "source": [
    "# Calculate annual mean feel temperature\n",
    "heat_temp = heat_temp[['Year','WindChillC']]\n",
    "heat_temp = heat_temp.groupby(['Year'])['WindChillC'].mean().reset_index()"
   ]
  },
  {
   "cell_type": "code",
   "execution_count": 71,
   "metadata": {},
   "outputs": [
    {
     "data": {
      "text/plain": [
       "[<matplotlib.lines.Line2D at 0x7fc8dc5e0390>]"
      ]
     },
     "execution_count": 71,
     "metadata": {},
     "output_type": "execute_result"
    },
    {
     "data": {
      "image/png": "[encoded data removed]",
      "text/plain": [
       "<Figure size 432x288 with 1 Axes>"
      ]
     },
     "metadata": {
      "needs_background": "light"
     },
     "output_type": "display_data"
    }
   ],
   "source": [
    "plt.plot(heat_temp['Year'], heat_temp['WindChillC']) "
   ]
  },
  {
   "cell_type": "code",
   "execution_count": 72,
   "metadata": {},
   "outputs": [],
   "source": [
    "# Drop 2020 and forward fill with 2019\n",
    "\n",
    "if heat_temp['WindChillC'][len(heat_temp['WindChillC'])-1] < heat_temp['WindChillC'][len(heat_temp['WindChillC'])-2]:\n",
    "    heat_temp['WindChillC'][len(heat_temp['WindChillC'])-1] = heat_temp['WindChillC'][len(heat_temp['WindChillC'])-2]"
   ]
  },
  {
   "cell_type": "code",
   "execution_count": 73,
   "metadata": {},
   "outputs": [
    {
     "data": {
      "image/png": "[encoded data removed]",
      "text/plain": [
       "<Figure size 432x288 with 1 Axes>"
      ]
     },
     "metadata": {
      "needs_background": "light"
     },
     "output_type": "display_data"
    }
   ],
   "source": [
    "plt.title('Heat Waves Mean Temp in New Delhi')\n",
    "\n",
    "plt.plot(heat_temp['Year'], heat_temp['WindChillC']) \n",
    "\n",
    "plt.xlabel('Years')\n",
    "plt.ylabel('Temperature °C')\n",
    "\n",
    "#plt.legend(loc=\"upper left\")\n",
    "plt.show()"
   ]
  },
  {
   "cell_type": "code",
   "execution_count": 74,
   "metadata": {},
   "outputs": [],
   "source": [
    "heat_temp.rename({'WindChillC':'Mean_Heat_Waves_Temp'}, axis=1, inplace=True)"
   ]
  },
  {
   "cell_type": "code",
   "execution_count": 75,
   "metadata": {},
   "outputs": [],
   "source": [
    "heat_temp = heat_temp.reset_index(drop=True)"
   ]
  },
  {
   "cell_type": "markdown",
   "metadata": {},
   "source": [
    "# Feature 10 - Heat Waves Summer Temperature"
   ]
  },
  {
   "cell_type": "code",
   "execution_count": 76,
   "metadata": {},
   "outputs": [],
   "source": [
    "# Prepare data Set\n",
    "summer_wind_temp = mean_temp.groupby(['Day','Month','Year'])['WindChillC'].mean().reset_index()\n",
    "summer_wind_temp = summer_wind_temp.sort_values(['Year','Month','Day'],ascending=[True,True,True])\n",
    "summer_wind_temp.reset_index(inplace=True)\n",
    "summer_wind_temp.drop(columns=['index'],inplace=True)"
   ]
  },
  {
   "cell_type": "code",
   "execution_count": 77,
   "metadata": {},
   "outputs": [],
   "source": [
    "# Change the data types\n",
    "\n",
    "summer_wind_temp['Day']   = summer_wind_temp['Day'].astype(int)\n",
    "summer_wind_temp['Month'] = summer_wind_temp['Month'].astype(int)\n",
    "summer_wind_temp['Year']  = summer_wind_temp['Year'].astype(int)"
   ]
  },
  {
   "cell_type": "code",
   "execution_count": 78,
   "metadata": {},
   "outputs": [],
   "source": [
    "# Chose necessary months\n",
    "summer_wind_temp =  summer_wind_temp[(summer_wind_temp['Month'] == 6) |\n",
    "                                     (summer_wind_temp['Month'] == 7) |\n",
    "                                     (summer_wind_temp['Month'] == 8) ]"
   ]
  },
  {
   "cell_type": "code",
   "execution_count": 79,
   "metadata": {},
   "outputs": [],
   "source": [
    "# Calculate Summer Temperature Average\n",
    "\n",
    "summer_wind_temp = summer_wind_temp.groupby(['Year'])['WindChillC'].mean().reset_index()\n",
    "summer_wind_temp.reset_index(inplace=True)\n",
    "summer_wind_temp.drop(columns=['index'],inplace=True)"
   ]
  },
  {
   "cell_type": "code",
   "execution_count": 80,
   "metadata": {},
   "outputs": [
    {
     "data": {
      "text/plain": [
       "[<matplotlib.lines.Line2D at 0x7fc8dc814510>]"
      ]
     },
     "execution_count": 80,
     "metadata": {},
     "output_type": "execute_result"
    },
    {
     "data": {
      "image/png": "[encoded data removed]",
      "text/plain": [
       "<Figure size 432x288 with 1 Axes>"
      ]
     },
     "metadata": {
      "needs_background": "light"
     },
     "output_type": "display_data"
    }
   ],
   "source": [
    "plt.plot(summer_wind_temp['Year'], summer_wind_temp['WindChillC']) "
   ]
  },
  {
   "cell_type": "code",
   "execution_count": 81,
   "metadata": {},
   "outputs": [],
   "source": [
    "# Drop 2020 and forward fill with 2019\n",
    "\n",
    "if summer_wind_temp['WindChillC'][len(summer_wind_temp['WindChillC'])-1] < summer_wind_temp['WindChillC'][len(summer_wind_temp['WindChillC'])-2]:\n",
    "    summer_wind_temp['WindChillC'][len(summer_wind_temp['WindChillC'])-1] = summer_wind_temp['WindChillC'][len(summer_wind_temp['WindChillC'])-2]"
   ]
  },
  {
   "cell_type": "code",
   "execution_count": 82,
   "metadata": {},
   "outputs": [],
   "source": [
    "summer_wind_temp.rename({'WindChillC':'Summer_Mean_Heat_Waves_Temp'}, axis=1, inplace=True)"
   ]
  },
  {
   "cell_type": "code",
   "execution_count": 83,
   "metadata": {},
   "outputs": [],
   "source": [
    "# Create new rows\n",
    "\n",
    "summer_wind_temp_after = {'Year':[2020],'Summer_Mean_Heat_Waves_Temp':[np.nan]}\n",
    "summer_wind_temp_after = pd.DataFrame(summer_wind_temp_after)\n",
    "\n",
    "# Fill to backwards\n",
    "\n",
    "summer_wind_temp = pd.concat([summer_wind_temp,summer_wind_temp_after])\n",
    "summer_wind_temp = summer_wind_temp.ffill(axis ='rows')"
   ]
  },
  {
   "cell_type": "code",
   "execution_count": 84,
   "metadata": {},
   "outputs": [],
   "source": [
    "summer_wind_temp = summer_wind_temp.reset_index(drop=True)"
   ]
  },
  {
   "cell_type": "markdown",
   "metadata": {},
   "source": [
    "# Feature 11 - Max Heat Waves Temperature"
   ]
  },
  {
   "cell_type": "code",
   "execution_count": 85,
   "metadata": {},
   "outputs": [],
   "source": [
    "# Prepare data Set\n",
    "max_daily_heat_waves_temp = mean_temp.groupby(['Day','Month','Year'])['WindChillC'].mean().reset_index()\n",
    "max_daily_heat_waves_temp = max_daily_heat_waves_temp.sort_values(['Year','Month','Day'],ascending=[True,True,True])\n",
    "max_daily_heat_waves_temp.reset_index(inplace=True)\n",
    "max_daily_heat_waves_temp.drop(columns=['index'],inplace=True)"
   ]
  },
  {
   "cell_type": "code",
   "execution_count": 86,
   "metadata": {},
   "outputs": [],
   "source": [
    "# Taken Max temp. for each year\n",
    "max_daily_heat_waves_temp = max_daily_heat_waves_temp.groupby(['Year'])['WindChillC'].apply(lambda x: x.max()).reset_index()"
   ]
  },
  {
   "cell_type": "code",
   "execution_count": 87,
   "metadata": {},
   "outputs": [],
   "source": [
    "if max_daily_heat_waves_temp['WindChillC'][len(max_daily_heat_waves_temp['WindChillC'])-1] < max_daily_heat_waves_temp['WindChillC'][len(max_daily_heat_waves_temp['WindChillC'])-2]:\n",
    "    max_daily_heat_waves_temp['WindChillC'][len(max_daily_heat_waves_temp['WindChillC'])-1] = max_daily_heat_waves_temp['WindChillC'][len(max_daily_heat_waves_temp['WindChillC'])-2]"
   ]
  },
  {
   "cell_type": "code",
   "execution_count": 88,
   "metadata": {},
   "outputs": [
    {
     "data": {
      "image/png": "[encoded data removed]",
      "text/plain": [
       "<Figure size 432x288 with 1 Axes>"
      ]
     },
     "metadata": {
      "needs_background": "light"
     },
     "output_type": "display_data"
    }
   ],
   "source": [
    "plt.title('Max Heat Waves Temp in New Delhi')\n",
    "\n",
    "plt.plot(max_daily_heat_waves_temp['Year'], max_daily_heat_waves_temp['WindChillC']) \n",
    "\n",
    "plt.xlabel('Years')\n",
    "plt.ylabel('Temperature °C')\n",
    "\n",
    "#plt.legend(loc=\"upper left\")\n",
    "plt.show()"
   ]
  },
  {
   "cell_type": "code",
   "execution_count": 89,
   "metadata": {},
   "outputs": [],
   "source": [
    "max_daily_heat_waves_temp.rename({'WindChillC':'max_daily_heat_waves_temp'}, axis=1, inplace=True)"
   ]
  },
  {
   "cell_type": "code",
   "execution_count": 90,
   "metadata": {},
   "outputs": [],
   "source": [
    "max_daily_heat_waves_temp = max_daily_heat_waves_temp.reset_index(drop=True)"
   ]
  },
  {
   "cell_type": "markdown",
   "metadata": {},
   "source": [
    "# Feature 12 - Number of Extreme Heat Waves Days"
   ]
  },
  {
   "cell_type": "code",
   "execution_count": 91,
   "metadata": {},
   "outputs": [],
   "source": [
    "# Prepare data Set\n",
    "ext_heat_waves_temp = mean_temp.groupby(['Day','Month','Year'])['WindChillC'].mean().reset_index()\n",
    "ext_heat_waves_temp = ext_heat_waves_temp.sort_values(['Year','Month','Day'],ascending=[True,True,True])\n",
    "ext_heat_waves_temp.reset_index(inplace=True)\n",
    "ext_heat_waves_temp.drop(columns=['index'],inplace=True)"
   ]
  },
  {
   "cell_type": "code",
   "execution_count": 92,
   "metadata": {},
   "outputs": [],
   "source": [
    "# If equal or higher then 28 degree call as extremely hot days\n",
    "ext_heat_waves_temp['Number_of_Hot_Days'] = ext_heat_waves_temp['WindChillC'].apply(lambda x: 1 if x >= 30 else 0)\n",
    "ext_heat_waves_temp = ext_heat_waves_temp[ext_heat_waves_temp['Number_of_Hot_Days'] == 1]\n",
    "ext_heat_waves_temp = ext_heat_waves_temp.groupby(['Year'])['Number_of_Hot_Days'].count().reset_index()"
   ]
  },
  {
   "cell_type": "code",
   "execution_count": 93,
   "metadata": {},
   "outputs": [],
   "source": [
    "if ext_heat_waves_temp['Number_of_Hot_Days'][len(ext_heat_waves_temp['Number_of_Hot_Days'])-1] < ext_heat_waves_temp['Number_of_Hot_Days'][len(ext_heat_waves_temp['Number_of_Hot_Days'])-2]:\n",
    "    ext_heat_waves_temp['Number_of_Hot_Days'][len(ext_heat_waves_temp['Number_of_Hot_Days'])-1] = ext_heat_waves_temp['Number_of_Hot_Days'][len(ext_heat_waves_temp['Number_of_Hot_Days'])-2]"
   ]
  },
  {
   "cell_type": "code",
   "execution_count": 94,
   "metadata": {},
   "outputs": [
    {
     "data": {
      "image/png": "[encoded data removed]",
      "text/plain": [
       "<Figure size 432x288 with 1 Axes>"
      ]
     },
     "metadata": {
      "needs_background": "light"
     },
     "output_type": "display_data"
    }
   ],
   "source": [
    "plt.title('Number of Extreme Heat Waves in New Delhi')\n",
    "\n",
    "plt.plot(ext_heat_waves_temp['Year'], ext_heat_waves_temp['Number_of_Hot_Days']) \n",
    "\n",
    "plt.xlabel('Years')\n",
    "plt.ylabel('Number of HeatWaves')\n",
    "\n",
    "#plt.legend(loc=\"upper left\")\n",
    "plt.show()"
   ]
  },
  {
   "cell_type": "code",
   "execution_count": 95,
   "metadata": {},
   "outputs": [],
   "source": [
    "ext_heat_waves_temp.rename({'Number_of_Hot_Days':'Number_of_Ext_Heat_Waves_Days'}, axis=1, inplace=True)"
   ]
  },
  {
   "cell_type": "code",
   "execution_count": 96,
   "metadata": {},
   "outputs": [],
   "source": [
    "# Create new rows\n",
    "\n",
    "ext_heat_waves_temp_after = {'Year':[2020],'Number_of_Ext_Heat_Waves_Days':[np.nan]}\n",
    "ext_heat_waves_temp_after = pd.DataFrame(ext_heat_waves_temp_after)\n",
    "\n",
    "# Fill to backwards\n",
    "\n",
    "ext_heat_waves_temp = pd.concat([ext_heat_waves_temp,ext_heat_waves_temp_after])\n",
    "ext_heat_waves_temp = ext_heat_waves_temp.ffill(axis ='rows')"
   ]
  },
  {
   "cell_type": "code",
   "execution_count": 97,
   "metadata": {},
   "outputs": [],
   "source": [
    "ext_heat_waves_temp = ext_heat_waves_temp.reset_index(drop=True)"
   ]
  },
  {
   "cell_type": "markdown",
   "metadata": {},
   "source": [
    "# Feature 13 - Mean Humidity"
   ]
  },
  {
   "cell_type": "code",
   "execution_count": 98,
   "metadata": {},
   "outputs": [],
   "source": [
    "# Prepare data Set\n",
    "mean_humidity = mean_temp.groupby(['Day','Month','Year'])['humidity'].mean().reset_index()\n",
    "mean_humidity = mean_humidity.sort_values(['Year','Month','Day'],ascending=[True,True,True])\n",
    "mean_humidity.reset_index(inplace=True)\n",
    "mean_humidity.drop(columns=['index'],inplace=True)"
   ]
  },
  {
   "cell_type": "code",
   "execution_count": 99,
   "metadata": {},
   "outputs": [],
   "source": [
    "# Calculate annual mean feel temperature\n",
    "mean_humidity = mean_humidity[['Year','humidity']]\n",
    "mean_humidity = mean_humidity.groupby(['Year'])['humidity'].mean().reset_index()"
   ]
  },
  {
   "cell_type": "code",
   "execution_count": 100,
   "metadata": {},
   "outputs": [
    {
     "data": {
      "text/plain": [
       "[<matplotlib.lines.Line2D at 0x7fc8dc835150>]"
      ]
     },
     "execution_count": 100,
     "metadata": {},
     "output_type": "execute_result"
    },
    {
     "data": {
      "image/png": "[encoded data removed]",
      "text/plain": [
       "<Figure size 432x288 with 1 Axes>"
      ]
     },
     "metadata": {
      "needs_background": "light"
     },
     "output_type": "display_data"
    }
   ],
   "source": [
    "plt.plot(mean_humidity['Year'], mean_humidity['humidity']) "
   ]
  },
  {
   "cell_type": "code",
   "execution_count": 101,
   "metadata": {},
   "outputs": [],
   "source": [
    "mean_humidity = mean_humidity.reset_index(drop=True)"
   ]
  },
  {
   "cell_type": "markdown",
   "metadata": {},
   "source": [
    "# Feature 14 - Mean precipation"
   ]
  },
  {
   "cell_type": "code",
   "execution_count": 102,
   "metadata": {},
   "outputs": [],
   "source": [
    "# Prepare data Set\n",
    "mean_precipetion = mean_temp.groupby(['Day','Month','Year'])['precipMM'].mean().reset_index()\n",
    "mean_precipetion = mean_precipetion.sort_values(['Year','Month','Day'],ascending=[True,True,True])\n",
    "mean_precipetion.reset_index(inplace=True)\n",
    "mean_precipetion.drop(columns=['index'],inplace=True)"
   ]
  },
  {
   "cell_type": "code",
   "execution_count": 103,
   "metadata": {},
   "outputs": [],
   "source": [
    "# Calculate annual mean feel temperature\n",
    "mean_precipetion = mean_precipetion[['Year','precipMM']]\n",
    "mean_precipetion = mean_precipetion.groupby(['Year'])['precipMM'].mean().reset_index()"
   ]
  },
  {
   "cell_type": "code",
   "execution_count": 104,
   "metadata": {},
   "outputs": [
    {
     "data": {
      "text/plain": [
       "[<matplotlib.lines.Line2D at 0x7fc8dc5888d0>]"
      ]
     },
     "execution_count": 104,
     "metadata": {},
     "output_type": "execute_result"
    },
    {
     "data": {
      "image/png": "[encoded data removed]",
      "text/plain": [
       "<Figure size 432x288 with 1 Axes>"
      ]
     },
     "metadata": {
      "needs_background": "light"
     },
     "output_type": "display_data"
    }
   ],
   "source": [
    "plt.plot(mean_precipetion['Year'], mean_precipetion['precipMM']) "
   ]
  },
  {
   "cell_type": "code",
   "execution_count": 105,
   "metadata": {},
   "outputs": [],
   "source": [
    "if mean_precipetion['precipMM'][len(mean_precipetion['precipMM'])-1] < mean_precipetion['precipMM'][len(mean_precipetion['precipMM'])-2]:\n",
    "    mean_precipetion['precipMM'][len(mean_precipetion['precipMM'])-1] = mean_precipetion['precipMM'][len(mean_precipetion['precipMM'])-2]"
   ]
  },
  {
   "cell_type": "code",
   "execution_count": 106,
   "metadata": {},
   "outputs": [
    {
     "data": {
      "text/plain": [
       "[<matplotlib.lines.Line2D at 0x7fc8dc528690>]"
      ]
     },
     "execution_count": 106,
     "metadata": {},
     "output_type": "execute_result"
    },
    {
     "data": {
      "image/png": "[encoded data removed]",
      "text/plain": [
       "<Figure size 432x288 with 1 Axes>"
      ]
     },
     "metadata": {
      "needs_background": "light"
     },
     "output_type": "display_data"
    }
   ],
   "source": [
    "plt.plot(mean_precipetion['Year'], mean_precipetion['precipMM']) "
   ]
  },
  {
   "cell_type": "code",
   "execution_count": 107,
   "metadata": {},
   "outputs": [],
   "source": [
    "mean_precipetion.rename({'precipMM':'Precipetion'}, axis=1, inplace=True)"
   ]
  },
  {
   "cell_type": "code",
   "execution_count": 108,
   "metadata": {},
   "outputs": [],
   "source": [
    "mean_precipetion = mean_precipetion.reset_index(drop=True)"
   ]
  },
  {
   "cell_type": "markdown",
   "metadata": {},
   "source": [
    "# Feature 15 - GDP"
   ]
  },
  {
   "cell_type": "code",
   "execution_count": 109,
   "metadata": {},
   "outputs": [],
   "source": [
    "# Create new rows\n",
    "\n",
    "gdp_before = {'Year':[2009,2010],'GDP':[np.nan,np.nan]}\n",
    "gdp_before = pd.DataFrame(gdp_before)"
   ]
  },
  {
   "cell_type": "code",
   "execution_count": 110,
   "metadata": {},
   "outputs": [],
   "source": [
    "# Concat two dataframes\n",
    "\n",
    "gdp = pd.concat([gdp_before,gdp])"
   ]
  },
  {
   "cell_type": "code",
   "execution_count": 111,
   "metadata": {},
   "outputs": [],
   "source": [
    "# Fill to backwards\n",
    "\n",
    "gdp = gdp.bfill(axis ='rows')"
   ]
  },
  {
   "cell_type": "code",
   "execution_count": 112,
   "metadata": {},
   "outputs": [
    {
     "data": {
      "image/png": "[encoded data removed]",
      "text/plain": [
       "<Figure size 432x288 with 1 Axes>"
      ]
     },
     "metadata": {
      "needs_background": "light"
     },
     "output_type": "display_data"
    }
   ],
   "source": [
    "plt.title('New Delhi GDP')\n",
    "\n",
    "plt.plot(gdp['Year'], gdp['GDP']) \n",
    "\n",
    "plt.xlabel('Years')\n",
    "plt.ylabel('bn $')\n",
    "\n",
    "#plt.legend(loc=\"upper left\")\n",
    "plt.show()"
   ]
  },
  {
   "cell_type": "code",
   "execution_count": 113,
   "metadata": {},
   "outputs": [],
   "source": [
    "gdp = gdp.reset_index(drop=True)"
   ]
  },
  {
   "cell_type": "markdown",
   "metadata": {},
   "source": [
    "# Feature 16 - Weather Quality"
   ]
  },
  {
   "cell_type": "code",
   "execution_count": 114,
   "metadata": {},
   "outputs": [],
   "source": [
    "weather_quality = weather_quality[weather_quality['City'] == 'Delhi']\n",
    "weather_quality = weather_quality.reset_index(drop=True)"
   ]
  },
  {
   "cell_type": "code",
   "execution_count": 115,
   "metadata": {},
   "outputs": [],
   "source": [
    "weather_quality[['Year','Month-Date']] = weather_quality['Date'].str.split('-',n=1,expand=True)"
   ]
  },
  {
   "cell_type": "code",
   "execution_count": 116,
   "metadata": {},
   "outputs": [],
   "source": [
    "weather_quality = weather_quality[['Year','AQI']]"
   ]
  },
  {
   "cell_type": "code",
   "execution_count": 117,
   "metadata": {},
   "outputs": [],
   "source": [
    "weather_quality = weather_quality.groupby(['Year'])['AQI'].mean().reset_index()"
   ]
  },
  {
   "cell_type": "code",
   "execution_count": 118,
   "metadata": {},
   "outputs": [],
   "source": [
    "# Create new rows\n",
    "\n",
    "weather_before = {'Year':[2009,2010,2011,2012,2013,2014],'AQI':[np.nan,np.nan,np.nan,np.nan,np.nan,np.nan]}\n",
    "weather_before = pd.DataFrame(weather_before)"
   ]
  },
  {
   "cell_type": "code",
   "execution_count": 119,
   "metadata": {},
   "outputs": [],
   "source": [
    "weather_quality = pd.concat([weather_before,weather_quality])\n",
    "weather_quality = weather_quality.bfill(axis ='rows')"
   ]
  },
  {
   "cell_type": "code",
   "execution_count": 120,
   "metadata": {},
   "outputs": [
    {
     "data": {
      "text/plain": [
       "[<matplotlib.lines.Line2D at 0x7fc8dc3bdf90>]"
      ]
     },
     "execution_count": 120,
     "metadata": {},
     "output_type": "execute_result"
    },
    {
     "data": {
      "image/png": "[encoded data removed]",
      "text/plain": [
       "<Figure size 432x288 with 1 Axes>"
      ]
     },
     "metadata": {
      "needs_background": "light"
     },
     "output_type": "display_data"
    }
   ],
   "source": [
    "plt.plot(weather_quality['Year'], weather_quality['AQI']) "
   ]
  },
  {
   "cell_type": "code",
   "execution_count": 121,
   "metadata": {},
   "outputs": [],
   "source": [
    "weather_quality.rename({'AQI':'Weather Quality'}, axis=1, inplace=True)"
   ]
  },
  {
   "cell_type": "code",
   "execution_count": 122,
   "metadata": {},
   "outputs": [],
   "source": [
    "weather_quality = weather_quality.reset_index(drop=True)"
   ]
  },
  {
   "cell_type": "markdown",
   "metadata": {},
   "source": [
    "# Feature 17 - Labor Productivity_1"
   ]
  },
  {
   "cell_type": "code",
   "execution_count": 123,
   "metadata": {},
   "outputs": [],
   "source": [
    "# fill the nan data with ffill\n",
    "labor_pro_1 = labor_pro_1.iloc[1:,]\n",
    "labor_pro_1 = labor_pro_1.ffill(axis ='rows')"
   ]
  },
  {
   "cell_type": "code",
   "execution_count": 124,
   "metadata": {},
   "outputs": [
    {
     "data": {
      "text/plain": [
       "[<matplotlib.lines.Line2D at 0x7fc8dc3ff990>]"
      ]
     },
     "execution_count": 124,
     "metadata": {},
     "output_type": "execute_result"
    },
    {
     "data": {
      "image/png": "[encoded data removed]",
      "text/plain": [
       "<Figure size 432x288 with 1 Axes>"
      ]
     },
     "metadata": {
      "needs_background": "light"
     },
     "output_type": "display_data"
    }
   ],
   "source": [
    "plt.plot(labor_pro_1['Year'], labor_pro_1['Labor Productivity']) "
   ]
  },
  {
   "cell_type": "code",
   "execution_count": 125,
   "metadata": {},
   "outputs": [],
   "source": [
    "labor_pro_1 = labor_pro_1.reset_index(drop=True)"
   ]
  },
  {
   "cell_type": "markdown",
   "metadata": {},
   "source": [
    "# Feature 18 - Labor Productivity_2"
   ]
  },
  {
   "cell_type": "code",
   "execution_count": 126,
   "metadata": {},
   "outputs": [],
   "source": [
    "# fill the nan data with ffill\n",
    "labor_pro_2 = labor_pro_2.iloc[1:,]\n",
    "labor_pro_2 = labor_pro_2[['Time','Value']]\n",
    "labor_pro_2.rename({'Time':'Year','Value':'Labor_Productivity_2'}, axis=1, inplace=True)"
   ]
  },
  {
   "cell_type": "code",
   "execution_count": 127,
   "metadata": {},
   "outputs": [],
   "source": [
    "labor_pro_2 = labor_pro_2.reset_index(drop=True)\n",
    "labor_pro_2['Year'] = labor_pro_2['Year'].astype(str)"
   ]
  },
  {
   "cell_type": "code",
   "execution_count": 128,
   "metadata": {},
   "outputs": [
    {
     "data": {
      "text/plain": [
       "[<matplotlib.lines.Line2D at 0x7fc8dc441990>]"
      ]
     },
     "execution_count": 128,
     "metadata": {},
     "output_type": "execute_result"
    },
    {
     "data": {
      "image/png": "[encoded data removed]",
      "text/plain": [
       "<Figure size 432x288 with 1 Axes>"
      ]
     },
     "metadata": {
      "needs_background": "light"
     },
     "output_type": "display_data"
    }
   ],
   "source": [
    "plt.plot(labor_pro_2['Year'], labor_pro_2['Labor_Productivity_2']) "
   ]
  },
  {
   "cell_type": "code",
   "execution_count": 129,
   "metadata": {},
   "outputs": [],
   "source": [
    "# Create new rows\n",
    "\n",
    "labor_pro_2_after = {'Year':[2020],'Labor_Productivity_2':[np.nan]}\n",
    "labor_pro_2_after = pd.DataFrame(labor_pro_2_after)\n",
    "\n",
    "# Fill to backwards\n",
    "\n",
    "labor_pro_2 = pd.concat([labor_pro_2,labor_pro_2_after])\n",
    "labor_pro_2 = labor_pro_2.ffill(axis ='rows')\n",
    "labor_pro_2 = labor_pro_2.reset_index(drop=True)"
   ]
  },
  {
   "cell_type": "markdown",
   "metadata": {},
   "source": [
    "# Concat the Features"
   ]
  },
  {
   "cell_type": "code",
   "execution_count": 130,
   "metadata": {},
   "outputs": [],
   "source": [
    "final_dataset = pd.concat([mean_temp_daily,summer_mean_temp,ext_hot_days,max_daily_temp,mean_feel_temp,\n",
    "                           summer_mean_feel_temp,mean_uv,summer_mean_uv,heat_temp,summer_wind_temp,max_daily_heat_waves_temp,\n",
    "                           ext_heat_waves_temp,mean_humidity,mean_precipetion,gdp,weather_quality,labor_pro_1,\n",
    "                           labor_pro_2],axis=1)"
   ]
  },
  {
   "cell_type": "code",
   "execution_count": 131,
   "metadata": {},
   "outputs": [],
   "source": [
    "final_dataset = final_dataset[['Year','Mean_Temp','Summer_Mean_Temp','Number_of_Hot_Days','Max_Daily_Temp',\n",
    "                               'Mean_Feels_Temp','Summer_Mean_Feels_Temp','uvIndex','Summer_uvIndex',\n",
    "                               'Mean_Heat_Waves_Temp','Summer_Mean_Heat_Waves_Temp','max_daily_heat_waves_temp',\n",
    "                               'Number_of_Ext_Heat_Waves_Days','humidity','Precipetion', 'Weather Quality',\n",
    "                               'Labor Productivity','Labor_Productivity_2','GDP']]"
   ]
  },
  {
   "cell_type": "code",
   "execution_count": 132,
   "metadata": {},
   "outputs": [],
   "source": [
    "final_dataset = final_dataset.iloc[:,17:]"
   ]
  },
  {
   "cell_type": "code",
   "execution_count": 133,
   "metadata": {},
   "outputs": [],
   "source": [
    "final_dataset['Year'] = final_dataset['Year'].astype(float)"
   ]
  },
  {
   "cell_type": "code",
   "execution_count": 134,
   "metadata": {},
   "outputs": [
    {
     "data": {
      "text/html": [
       "<div>\n",
       "<style scoped>\n",
       "    .dataframe tbody tr th:only-of-type {\n",
       "        vertical-align: middle;\n",
       "    }\n",
       "\n",
       "    .dataframe tbody tr th {\n",
       "        vertical-align: top;\n",
       "    }\n",
       "\n",
       "    .dataframe thead th {\n",
       "        text-align: right;\n",
       "    }\n",
       "</style>\n",
       "<table border=\"1\" class=\"dataframe\">\n",
       "  <thead>\n",
       "    <tr style=\"text-align: right;\">\n",
       "      <th></th>\n",
       "      <th>Year</th>\n",
       "      <th>Mean_Temp</th>\n",
       "      <th>Summer_Mean_Temp</th>\n",
       "      <th>Number_of_Hot_Days</th>\n",
       "      <th>Max_Daily_Temp</th>\n",
       "      <th>Mean_Feels_Temp</th>\n",
       "      <th>Summer_Mean_Feels_Temp</th>\n",
       "      <th>uvIndex</th>\n",
       "      <th>Summer_uvIndex</th>\n",
       "      <th>Mean_Heat_Waves_Temp</th>\n",
       "      <th>Summer_Mean_Heat_Waves_Temp</th>\n",
       "      <th>max_daily_heat_waves_temp</th>\n",
       "      <th>Number_of_Ext_Heat_Waves_Days</th>\n",
       "      <th>humidity</th>\n",
       "      <th>Precipetion</th>\n",
       "      <th>Weather Quality</th>\n",
       "      <th>Labor Productivity</th>\n",
       "      <th>Labor_Productivity_2</th>\n",
       "      <th>GDP</th>\n",
       "    </tr>\n",
       "  </thead>\n",
       "  <tbody>\n",
       "    <tr>\n",
       "      <th>0</th>\n",
       "      <td>2009.0</td>\n",
       "      <td>26.067808</td>\n",
       "      <td>33.861866</td>\n",
       "      <td>142.0</td>\n",
       "      <td>41.208333</td>\n",
       "      <td>30.504338</td>\n",
       "      <td>40.293931</td>\n",
       "      <td>6.638356</td>\n",
       "      <td>8.043478</td>\n",
       "      <td>28.795890</td>\n",
       "      <td>35.579257</td>\n",
       "      <td>44.500000</td>\n",
       "      <td>168.0</td>\n",
       "      <td>43.089269</td>\n",
       "      <td>0.020068</td>\n",
       "      <td>288.723288</td>\n",
       "      <td>8229.0</td>\n",
       "      <td>7.50</td>\n",
       "      <td>7.173982e+10</td>\n",
       "    </tr>\n",
       "    <tr>\n",
       "      <th>1</th>\n",
       "      <td>2010.0</td>\n",
       "      <td>25.749315</td>\n",
       "      <td>32.528986</td>\n",
       "      <td>117.0</td>\n",
       "      <td>39.750000</td>\n",
       "      <td>30.600000</td>\n",
       "      <td>38.850543</td>\n",
       "      <td>6.493151</td>\n",
       "      <td>7.652174</td>\n",
       "      <td>28.591324</td>\n",
       "      <td>33.968750</td>\n",
       "      <td>44.041667</td>\n",
       "      <td>165.0</td>\n",
       "      <td>49.544635</td>\n",
       "      <td>0.046769</td>\n",
       "      <td>288.723288</td>\n",
       "      <td>9745.0</td>\n",
       "      <td>7.90</td>\n",
       "      <td>7.173982e+10</td>\n",
       "    </tr>\n",
       "    <tr>\n",
       "      <th>2</th>\n",
       "      <td>2011.0</td>\n",
       "      <td>24.794521</td>\n",
       "      <td>31.234149</td>\n",
       "      <td>90.0</td>\n",
       "      <td>38.666667</td>\n",
       "      <td>29.535160</td>\n",
       "      <td>38.250906</td>\n",
       "      <td>6.287671</td>\n",
       "      <td>7.326087</td>\n",
       "      <td>27.525114</td>\n",
       "      <td>32.442935</td>\n",
       "      <td>42.625000</td>\n",
       "      <td>146.0</td>\n",
       "      <td>51.273744</td>\n",
       "      <td>0.062842</td>\n",
       "      <td>288.723288</td>\n",
       "      <td>6565.0</td>\n",
       "      <td>5.06</td>\n",
       "      <td>7.173982e+10</td>\n",
       "    </tr>\n",
       "    <tr>\n",
       "      <th>3</th>\n",
       "      <td>2012.0</td>\n",
       "      <td>25.531193</td>\n",
       "      <td>34.258605</td>\n",
       "      <td>129.0</td>\n",
       "      <td>40.208333</td>\n",
       "      <td>29.338798</td>\n",
       "      <td>39.782609</td>\n",
       "      <td>6.510929</td>\n",
       "      <td>8.141304</td>\n",
       "      <td>28.137750</td>\n",
       "      <td>35.615942</td>\n",
       "      <td>43.500000</td>\n",
       "      <td>183.0</td>\n",
       "      <td>42.503529</td>\n",
       "      <td>0.017065</td>\n",
       "      <td>288.723288</td>\n",
       "      <td>5447.0</td>\n",
       "      <td>5.24</td>\n",
       "      <td>7.354429e+10</td>\n",
       "    </tr>\n",
       "    <tr>\n",
       "      <th>4</th>\n",
       "      <td>2013.0</td>\n",
       "      <td>25.950000</td>\n",
       "      <td>33.366848</td>\n",
       "      <td>153.0</td>\n",
       "      <td>40.541667</td>\n",
       "      <td>29.682306</td>\n",
       "      <td>39.341033</td>\n",
       "      <td>6.627397</td>\n",
       "      <td>7.978261</td>\n",
       "      <td>28.355023</td>\n",
       "      <td>34.593750</td>\n",
       "      <td>44.708333</td>\n",
       "      <td>187.0</td>\n",
       "      <td>43.023744</td>\n",
       "      <td>0.012763</td>\n",
       "      <td>288.723288</td>\n",
       "      <td>4532.0</td>\n",
       "      <td>5.41</td>\n",
       "      <td>7.337951e+10</td>\n",
       "    </tr>\n",
       "    <tr>\n",
       "      <th>5</th>\n",
       "      <td>2014.0</td>\n",
       "      <td>25.958676</td>\n",
       "      <td>35.116395</td>\n",
       "      <td>156.0</td>\n",
       "      <td>41.458333</td>\n",
       "      <td>29.368151</td>\n",
       "      <td>40.010870</td>\n",
       "      <td>6.627397</td>\n",
       "      <td>8.478261</td>\n",
       "      <td>28.492808</td>\n",
       "      <td>36.634964</td>\n",
       "      <td>44.791667</td>\n",
       "      <td>188.0</td>\n",
       "      <td>39.759132</td>\n",
       "      <td>0.009715</td>\n",
       "      <td>288.723288</td>\n",
       "      <td>5400.0</td>\n",
       "      <td>6.38</td>\n",
       "      <td>8.092474e+10</td>\n",
       "    </tr>\n",
       "    <tr>\n",
       "      <th>6</th>\n",
       "      <td>2015.0</td>\n",
       "      <td>26.665183</td>\n",
       "      <td>33.348732</td>\n",
       "      <td>164.0</td>\n",
       "      <td>39.583333</td>\n",
       "      <td>30.026826</td>\n",
       "      <td>37.982337</td>\n",
       "      <td>6.739726</td>\n",
       "      <td>8.054348</td>\n",
       "      <td>29.073516</td>\n",
       "      <td>34.385417</td>\n",
       "      <td>42.333333</td>\n",
       "      <td>200.0</td>\n",
       "      <td>38.453311</td>\n",
       "      <td>0.032158</td>\n",
       "      <td>288.723288</td>\n",
       "      <td>6313.0</td>\n",
       "      <td>7.05</td>\n",
       "      <td>8.413267e+10</td>\n",
       "    </tr>\n",
       "    <tr>\n",
       "      <th>7</th>\n",
       "      <td>2016.0</td>\n",
       "      <td>27.001366</td>\n",
       "      <td>33.132699</td>\n",
       "      <td>169.0</td>\n",
       "      <td>40.250000</td>\n",
       "      <td>30.956967</td>\n",
       "      <td>39.504529</td>\n",
       "      <td>6.841530</td>\n",
       "      <td>7.847826</td>\n",
       "      <td>29.581967</td>\n",
       "      <td>34.272192</td>\n",
       "      <td>44.166667</td>\n",
       "      <td>206.0</td>\n",
       "      <td>37.858379</td>\n",
       "      <td>0.016393</td>\n",
       "      <td>299.301370</td>\n",
       "      <td>5300.0</td>\n",
       "      <td>7.32</td>\n",
       "      <td>9.185428e+10</td>\n",
       "    </tr>\n",
       "    <tr>\n",
       "      <th>8</th>\n",
       "      <td>2017.0</td>\n",
       "      <td>27.483105</td>\n",
       "      <td>33.921196</td>\n",
       "      <td>197.0</td>\n",
       "      <td>40.833333</td>\n",
       "      <td>31.183790</td>\n",
       "      <td>39.226449</td>\n",
       "      <td>6.915068</td>\n",
       "      <td>8.065217</td>\n",
       "      <td>30.096119</td>\n",
       "      <td>35.056159</td>\n",
       "      <td>43.083333</td>\n",
       "      <td>230.0</td>\n",
       "      <td>35.196689</td>\n",
       "      <td>0.017146</td>\n",
       "      <td>256.323034</td>\n",
       "      <td>4816.0</td>\n",
       "      <td>6.19</td>\n",
       "      <td>1.051743e+11</td>\n",
       "    </tr>\n",
       "    <tr>\n",
       "      <th>9</th>\n",
       "      <td>2018.0</td>\n",
       "      <td>28.009132</td>\n",
       "      <td>34.366848</td>\n",
       "      <td>177.0</td>\n",
       "      <td>40.958333</td>\n",
       "      <td>32.436986</td>\n",
       "      <td>40.542572</td>\n",
       "      <td>6.986301</td>\n",
       "      <td>8.054348</td>\n",
       "      <td>30.907877</td>\n",
       "      <td>35.524004</td>\n",
       "      <td>45.166667</td>\n",
       "      <td>223.0</td>\n",
       "      <td>36.552055</td>\n",
       "      <td>0.031678</td>\n",
       "      <td>247.178082</td>\n",
       "      <td>5802.0</td>\n",
       "      <td>5.36</td>\n",
       "      <td>1.073986e+11</td>\n",
       "    </tr>\n",
       "    <tr>\n",
       "      <th>10</th>\n",
       "      <td>2019.0</td>\n",
       "      <td>30.222603</td>\n",
       "      <td>37.327899</td>\n",
       "      <td>211.0</td>\n",
       "      <td>46.750000</td>\n",
       "      <td>31.761758</td>\n",
       "      <td>41.729620</td>\n",
       "      <td>7.441096</td>\n",
       "      <td>8.673913</td>\n",
       "      <td>30.282420</td>\n",
       "      <td>37.327899</td>\n",
       "      <td>46.750000</td>\n",
       "      <td>223.0</td>\n",
       "      <td>37.326941</td>\n",
       "      <td>0.086370</td>\n",
       "      <td>231.156164</td>\n",
       "      <td>5517.0</td>\n",
       "      <td>3.45</td>\n",
       "      <td>1.180117e+11</td>\n",
       "    </tr>\n",
       "    <tr>\n",
       "      <th>11</th>\n",
       "      <td>2020.0</td>\n",
       "      <td>30.222603</td>\n",
       "      <td>37.327899</td>\n",
       "      <td>211.0</td>\n",
       "      <td>46.750000</td>\n",
       "      <td>31.761758</td>\n",
       "      <td>41.729620</td>\n",
       "      <td>7.441096</td>\n",
       "      <td>8.673913</td>\n",
       "      <td>30.282420</td>\n",
       "      <td>37.327899</td>\n",
       "      <td>46.750000</td>\n",
       "      <td>223.0</td>\n",
       "      <td>34.250000</td>\n",
       "      <td>0.086370</td>\n",
       "      <td>220.504950</td>\n",
       "      <td>5517.0</td>\n",
       "      <td>3.45</td>\n",
       "      <td>1.076873e+11</td>\n",
       "    </tr>\n",
       "  </tbody>\n",
       "</table>\n",
       "</div>"
      ],
      "text/plain": [
       "      Year  Mean_Temp  Summer_Mean_Temp  Number_of_Hot_Days  Max_Daily_Temp  \\\n",
       "0   2009.0  26.067808         33.861866               142.0       41.208333   \n",
       "1   2010.0  25.749315         32.528986               117.0       39.750000   \n",
       "2   2011.0  24.794521         31.234149                90.0       38.666667   \n",
       "3   2012.0  25.531193         34.258605               129.0       40.208333   \n",
       "4   2013.0  25.950000         33.366848               153.0       40.541667   \n",
       "5   2014.0  25.958676         35.116395               156.0       41.458333   \n",
       "6   2015.0  26.665183         33.348732               164.0       39.583333   \n",
       "7   2016.0  27.001366         33.132699               169.0       40.250000   \n",
       "8   2017.0  27.483105         33.921196               197.0       40.833333   \n",
       "9   2018.0  28.009132         34.366848               177.0       40.958333   \n",
       "10  2019.0  30.222603         37.327899               211.0       46.750000   \n",
       "11  2020.0  30.222603         37.327899               211.0       46.750000   \n",
       "\n",
       "    Mean_Feels_Temp  Summer_Mean_Feels_Temp   uvIndex  Summer_uvIndex  \\\n",
       "0         30.504338               40.293931  6.638356        8.043478   \n",
       "1         30.600000               38.850543  6.493151        7.652174   \n",
       "2         29.535160               38.250906  6.287671        7.326087   \n",
       "3         29.338798               39.782609  6.510929        8.141304   \n",
       "4         29.682306               39.341033  6.627397        7.978261   \n",
       "5         29.368151               40.010870  6.627397        8.478261   \n",
       "6         30.026826               37.982337  6.739726        8.054348   \n",
       "7         30.956967               39.504529  6.841530        7.847826   \n",
       "8         31.183790               39.226449  6.915068        8.065217   \n",
       "9         32.436986               40.542572  6.986301        8.054348   \n",
       "10        31.761758               41.729620  7.441096        8.673913   \n",
       "11        31.761758               41.729620  7.441096        8.673913   \n",
       "\n",
       "    Mean_Heat_Waves_Temp  Summer_Mean_Heat_Waves_Temp  \\\n",
       "0              28.795890                    35.579257   \n",
       "1              28.591324                    33.968750   \n",
       "2              27.525114                    32.442935   \n",
       "3              28.137750                    35.615942   \n",
       "4              28.355023                    34.593750   \n",
       "5              28.492808                    36.634964   \n",
       "6              29.073516                    34.385417   \n",
       "7              29.581967                    34.272192   \n",
       "8              30.096119                    35.056159   \n",
       "9              30.907877                    35.524004   \n",
       "10             30.282420                    37.327899   \n",
       "11             30.282420                    37.327899   \n",
       "\n",
       "    max_daily_heat_waves_temp  Number_of_Ext_Heat_Waves_Days   humidity  \\\n",
       "0                   44.500000                          168.0  43.089269   \n",
       "1                   44.041667                          165.0  49.544635   \n",
       "2                   42.625000                          146.0  51.273744   \n",
       "3                   43.500000                          183.0  42.503529   \n",
       "4                   44.708333                          187.0  43.023744   \n",
       "5                   44.791667                          188.0  39.759132   \n",
       "6                   42.333333                          200.0  38.453311   \n",
       "7                   44.166667                          206.0  37.858379   \n",
       "8                   43.083333                          230.0  35.196689   \n",
       "9                   45.166667                          223.0  36.552055   \n",
       "10                  46.750000                          223.0  37.326941   \n",
       "11                  46.750000                          223.0  34.250000   \n",
       "\n",
       "    Precipetion  Weather Quality  Labor Productivity  Labor_Productivity_2  \\\n",
       "0      0.020068       288.723288              8229.0                  7.50   \n",
       "1      0.046769       288.723288              9745.0                  7.90   \n",
       "2      0.062842       288.723288              6565.0                  5.06   \n",
       "3      0.017065       288.723288              5447.0                  5.24   \n",
       "4      0.012763       288.723288              4532.0                  5.41   \n",
       "5      0.009715       288.723288              5400.0                  6.38   \n",
       "6      0.032158       288.723288              6313.0                  7.05   \n",
       "7      0.016393       299.301370              5300.0                  7.32   \n",
       "8      0.017146       256.323034              4816.0                  6.19   \n",
       "9      0.031678       247.178082              5802.0                  5.36   \n",
       "10     0.086370       231.156164              5517.0                  3.45   \n",
       "11     0.086370       220.504950              5517.0                  3.45   \n",
       "\n",
       "             GDP  \n",
       "0   7.173982e+10  \n",
       "1   7.173982e+10  \n",
       "2   7.173982e+10  \n",
       "3   7.354429e+10  \n",
       "4   7.337951e+10  \n",
       "5   8.092474e+10  \n",
       "6   8.413267e+10  \n",
       "7   9.185428e+10  \n",
       "8   1.051743e+11  \n",
       "9   1.073986e+11  \n",
       "10  1.180117e+11  \n",
       "11  1.076873e+11  "
      ]
     },
     "execution_count": 134,
     "metadata": {},
     "output_type": "execute_result"
    }
   ],
   "source": [
    "final_dataset"
   ]
  },
  {
   "cell_type": "markdown",
   "metadata": {},
   "source": [
    "# APPLY MACHINE LEARNING"
   ]
  },
  {
   "cell_type": "markdown",
   "metadata": {},
   "source": [
    "# TASK 1"
   ]
  },
  {
   "cell_type": "markdown",
   "metadata": {},
   "source": [
    "# Test and Train Split"
   ]
  },
  {
   "cell_type": "code",
   "execution_count": 135,
   "metadata": {},
   "outputs": [],
   "source": [
    "x = final_dataset.iloc[:,:18]"
   ]
  },
  {
   "cell_type": "code",
   "execution_count": 136,
   "metadata": {},
   "outputs": [],
   "source": [
    "y = final_dataset['GDP']"
   ]
  },
  {
   "cell_type": "code",
   "execution_count": 137,
   "metadata": {},
   "outputs": [],
   "source": [
    "x_train, x_test, y_train, y_test = train_test_split(x,y,test_size=0.33, random_state=0)"
   ]
  },
  {
   "cell_type": "markdown",
   "metadata": {},
   "source": [
    "# Model Building"
   ]
  },
  {
   "cell_type": "markdown",
   "metadata": {},
   "source": [
    "## Model_1 - Linear Regression"
   ]
  },
  {
   "cell_type": "code",
   "execution_count": 138,
   "metadata": {},
   "outputs": [
    {
     "data": {
      "text/plain": [
       "LinearRegression(copy_X=True, fit_intercept=True, n_jobs=None, normalize=False)"
      ]
     },
     "execution_count": 138,
     "metadata": {},
     "output_type": "execute_result"
    }
   ],
   "source": [
    "lr_1 = LinearRegression()\n",
    "lr_1.fit(x_train, y_train)"
   ]
  },
  {
   "cell_type": "code",
   "execution_count": 139,
   "metadata": {},
   "outputs": [],
   "source": [
    "# Calculates Error Rates\n",
    "\n",
    "LR_prediction = lr_1.predict(x_test)\n",
    "LR_prediction = pd.DataFrame(LR_prediction, columns=['Prediction_LR'])\n",
    "LR_prediction = LR_prediction.astype(float)\n",
    "y_test = y_test.reset_index(drop=True)\n",
    "LR_prediction = pd.concat([LR_prediction,y_test],axis=1)\n",
    "\n",
    "# MSE\n",
    "\n",
    "#LR_prediction['diff'] = LR_prediction['Prediction_LR'] - LR_prediction['GDP']\n",
    "#LR_prediction['diff'] = LR_prediction['diff'] ** 2\n",
    "#Sum_Squared_Error_LR = np.sum(LR_prediction['diff'])/LR_prediction['diff'].size\n",
    "\n",
    "# MAE\n",
    "\n",
    "LR_prediction['diff2'] = abs(LR_prediction['Prediction_LR'] - LR_prediction['GDP'])\n",
    "Sum_Absolute_Error_LR = np.sum(LR_prediction['diff2'])\n",
    "Sum_Absolute_Error_LR = Sum_Absolute_Error_LR/LR_prediction['diff2'].size"
   ]
  },
  {
   "cell_type": "code",
   "execution_count": 140,
   "metadata": {},
   "outputs": [
    {
     "name": "stdout",
     "output_type": "stream",
     "text": [
      "MAE is 7128624671.730541\n",
      "MAE % is 7.440934909886403\n"
     ]
    }
   ],
   "source": [
    "print('MAE is', float(Sum_Absolute_Error_LR))\n",
    "print('MAE % is', (LR_prediction['diff2'].sum()/LR_prediction['GDP'].sum()*100))"
   ]
  },
  {
   "cell_type": "markdown",
   "metadata": {},
   "source": [
    "## Model_2 - SVM Regression"
   ]
  },
  {
   "cell_type": "code",
   "execution_count": 141,
   "metadata": {},
   "outputs": [],
   "source": [
    "from sklearn import svm"
   ]
  },
  {
   "cell_type": "code",
   "execution_count": 142,
   "metadata": {},
   "outputs": [
    {
     "data": {
      "text/plain": [
       "SVR(C=1.0, cache_size=200, coef0=0.0, degree=3, epsilon=0.1,\n",
       "    gamma='auto_deprecated', kernel='rbf', max_iter=-1, shrinking=True,\n",
       "    tol=0.001, verbose=False)"
      ]
     },
     "execution_count": 142,
     "metadata": {},
     "output_type": "execute_result"
    }
   ],
   "source": [
    "svr_reg_1 = svm.SVR()\n",
    "svr_reg_1.fit(x_train,y_train)"
   ]
  },
  {
   "cell_type": "code",
   "execution_count": 143,
   "metadata": {},
   "outputs": [],
   "source": [
    "# Calculates Error Rates\n",
    "\n",
    "SVM_Prediction = svr_reg_1.predict(x_test)\n",
    "SVM_Prediction = pd.DataFrame(SVM_Prediction, columns=['Prediction_SVM'])\n",
    "SVM_Prediction = SVM_Prediction.astype(float)\n",
    "y_test = y_test.reset_index(drop=True)\n",
    "SVM_Prediction = pd.concat([SVM_Prediction,y_test],axis=1)\n",
    "\n",
    "# MSE\n",
    "\n",
    "#LR_prediction['diff'] = LR_prediction['Prediction_LR'] - LR_prediction['GDP']\n",
    "#LR_prediction['diff'] = LR_prediction['diff'] ** 2\n",
    "#Sum_Squared_Error_LR = np.sum(LR_prediction['diff'])/LR_prediction['diff'].size\n",
    "\n",
    "# MAE\n",
    "\n",
    "SVM_Prediction['diff2'] = abs(SVM_Prediction['Prediction_SVM'] - SVM_Prediction['GDP'])\n",
    "Sum_Absolute_Error_SV = np.sum(SVM_Prediction['diff2'])\n",
    "Sum_Absolute_Error_SV = Sum_Absolute_Error_SV/SVM_Prediction['diff2'].size"
   ]
  },
  {
   "cell_type": "code",
   "execution_count": 144,
   "metadata": {},
   "outputs": [
    {
     "data": {
      "text/html": [
       "<div>\n",
       "<style scoped>\n",
       "    .dataframe tbody tr th:only-of-type {\n",
       "        vertical-align: middle;\n",
       "    }\n",
       "\n",
       "    .dataframe tbody tr th {\n",
       "        vertical-align: top;\n",
       "    }\n",
       "\n",
       "    .dataframe thead th {\n",
       "        text-align: right;\n",
       "    }\n",
       "</style>\n",
       "<table border=\"1\" class=\"dataframe\">\n",
       "  <thead>\n",
       "    <tr style=\"text-align: right;\">\n",
       "      <th></th>\n",
       "      <th>Prediction_SVM</th>\n",
       "      <th>GDP</th>\n",
       "      <th>diff2</th>\n",
       "    </tr>\n",
       "  </thead>\n",
       "  <tbody>\n",
       "    <tr>\n",
       "      <th>0</th>\n",
       "      <td>7.723452e+10</td>\n",
       "      <td>8.413267e+10</td>\n",
       "      <td>6.898158e+09</td>\n",
       "    </tr>\n",
       "    <tr>\n",
       "      <th>1</th>\n",
       "      <td>7.723452e+10</td>\n",
       "      <td>1.076873e+11</td>\n",
       "      <td>3.045283e+10</td>\n",
       "    </tr>\n",
       "    <tr>\n",
       "      <th>2</th>\n",
       "      <td>7.723452e+10</td>\n",
       "      <td>7.337951e+10</td>\n",
       "      <td>3.855003e+09</td>\n",
       "    </tr>\n",
       "    <tr>\n",
       "      <th>3</th>\n",
       "      <td>7.723452e+10</td>\n",
       "      <td>1.180117e+11</td>\n",
       "      <td>4.077718e+10</td>\n",
       "    </tr>\n",
       "  </tbody>\n",
       "</table>\n",
       "</div>"
      ],
      "text/plain": [
       "   Prediction_SVM           GDP         diff2\n",
       "0    7.723452e+10  8.413267e+10  6.898158e+09\n",
       "1    7.723452e+10  1.076873e+11  3.045283e+10\n",
       "2    7.723452e+10  7.337951e+10  3.855003e+09\n",
       "3    7.723452e+10  1.180117e+11  4.077718e+10"
      ]
     },
     "execution_count": 144,
     "metadata": {},
     "output_type": "execute_result"
    }
   ],
   "source": [
    "SVM_Prediction"
   ]
  },
  {
   "cell_type": "code",
   "execution_count": 145,
   "metadata": {},
   "outputs": [
    {
     "name": "stdout",
     "output_type": "stream",
     "text": [
      "MAE is 20495794181.0\n",
      "MAE % is 21.39\n"
     ]
    }
   ],
   "source": [
    "print('MAE is', Sum_Absolute_Error_SV.round())\n",
    "print('MAE % is', ((SVM_Prediction['diff2'].sum()/SVM_Prediction['GDP'].sum()*100).round(decimals=2)))"
   ]
  },
  {
   "cell_type": "markdown",
   "metadata": {},
   "source": [
    "## Model_3 - DecisionTree Regressor"
   ]
  },
  {
   "cell_type": "code",
   "execution_count": 146,
   "metadata": {},
   "outputs": [],
   "source": [
    "from sklearn.tree import DecisionTreeRegressor"
   ]
  },
  {
   "cell_type": "code",
   "execution_count": 147,
   "metadata": {},
   "outputs": [
    {
     "data": {
      "text/plain": [
       "DecisionTreeRegressor(criterion='mse', max_depth=None, max_features=None,\n",
       "                      max_leaf_nodes=None, min_impurity_decrease=0.0,\n",
       "                      min_impurity_split=None, min_samples_leaf=1,\n",
       "                      min_samples_split=2, min_weight_fraction_leaf=0.0,\n",
       "                      presort=False, random_state=0, splitter='best')"
      ]
     },
     "execution_count": 147,
     "metadata": {},
     "output_type": "execute_result"
    }
   ],
   "source": [
    "DT_reg_1 = DecisionTreeRegressor(random_state=0)\n",
    "DT_reg_1.fit(x_train,y_train)"
   ]
  },
  {
   "cell_type": "code",
   "execution_count": 148,
   "metadata": {},
   "outputs": [],
   "source": [
    "# Calculates Error Rates\n",
    "\n",
    "DTR_Prediction = DT_reg_1.predict(x_test)\n",
    "DTR_Prediction = pd.DataFrame(DTR_Prediction, columns=['DTR_Prediction'])\n",
    "DTR_Prediction = DTR_Prediction.astype(float)\n",
    "y_test = y_test.reset_index(drop=True)\n",
    "DTR_Prediction = pd.concat([DTR_Prediction,y_test],axis=1)\n",
    "\n",
    "# MSE\n",
    "\n",
    "#LR_prediction['diff'] = LR_prediction['Prediction_LR'] - LR_prediction['GDP']\n",
    "#LR_prediction['diff'] = LR_prediction['diff'] ** 2\n",
    "#Sum_Squared_Error_LR = np.sum(LR_prediction['diff'])/LR_prediction['diff'].size\n",
    "\n",
    "# MAE\n",
    "\n",
    "DTR_Prediction['diff2'] = abs(DTR_Prediction['DTR_Prediction'] - DTR_Prediction['GDP'])\n",
    "Sum_Absolute_Error_DTR = np.sum(DTR_Prediction['diff2'])\n",
    "Sum_Absolute_Error_DTR = Sum_Absolute_Error_DTR/DTR_Prediction['diff2'].size"
   ]
  },
  {
   "cell_type": "code",
   "execution_count": 149,
   "metadata": {},
   "outputs": [
    {
     "data": {
      "text/html": [
       "<div>\n",
       "<style scoped>\n",
       "    .dataframe tbody tr th:only-of-type {\n",
       "        vertical-align: middle;\n",
       "    }\n",
       "\n",
       "    .dataframe tbody tr th {\n",
       "        vertical-align: top;\n",
       "    }\n",
       "\n",
       "    .dataframe thead th {\n",
       "        text-align: right;\n",
       "    }\n",
       "</style>\n",
       "<table border=\"1\" class=\"dataframe\">\n",
       "  <thead>\n",
       "    <tr style=\"text-align: right;\">\n",
       "      <th></th>\n",
       "      <th>DTR_Prediction</th>\n",
       "      <th>GDP</th>\n",
       "      <th>diff2</th>\n",
       "    </tr>\n",
       "  </thead>\n",
       "  <tbody>\n",
       "    <tr>\n",
       "      <th>0</th>\n",
       "      <td>7.173982e+10</td>\n",
       "      <td>8.413267e+10</td>\n",
       "      <td>1.239286e+10</td>\n",
       "    </tr>\n",
       "    <tr>\n",
       "      <th>1</th>\n",
       "      <td>1.073986e+11</td>\n",
       "      <td>1.076873e+11</td>\n",
       "      <td>2.887702e+08</td>\n",
       "    </tr>\n",
       "    <tr>\n",
       "      <th>2</th>\n",
       "      <td>8.092474e+10</td>\n",
       "      <td>7.337951e+10</td>\n",
       "      <td>7.545227e+09</td>\n",
       "    </tr>\n",
       "    <tr>\n",
       "      <th>3</th>\n",
       "      <td>1.073986e+11</td>\n",
       "      <td>1.180117e+11</td>\n",
       "      <td>1.061312e+10</td>\n",
       "    </tr>\n",
       "  </tbody>\n",
       "</table>\n",
       "</div>"
      ],
      "text/plain": [
       "   DTR_Prediction           GDP         diff2\n",
       "0    7.173982e+10  8.413267e+10  1.239286e+10\n",
       "1    1.073986e+11  1.076873e+11  2.887702e+08\n",
       "2    8.092474e+10  7.337951e+10  7.545227e+09\n",
       "3    1.073986e+11  1.180117e+11  1.061312e+10"
      ]
     },
     "execution_count": 149,
     "metadata": {},
     "output_type": "execute_result"
    }
   ],
   "source": [
    "DTR_Prediction"
   ]
  },
  {
   "cell_type": "code",
   "execution_count": 150,
   "metadata": {},
   "outputs": [
    {
     "name": "stdout",
     "output_type": "stream",
     "text": [
      "MAE is 7709994948.0\n",
      "MAE % is 8.05\n"
     ]
    }
   ],
   "source": [
    "print('MAE is', Sum_Absolute_Error_DTR.round())\n",
    "print('MAE % is', ((DTR_Prediction['diff2'].sum()/DTR_Prediction['GDP'].sum()*100).round(decimals=2)))"
   ]
  },
  {
   "cell_type": "markdown",
   "metadata": {},
   "source": [
    "## Model_4 - Random Forest Regression"
   ]
  },
  {
   "cell_type": "code",
   "execution_count": 151,
   "metadata": {},
   "outputs": [],
   "source": [
    "from sklearn.ensemble import RandomForestRegressor"
   ]
  },
  {
   "cell_type": "code",
   "execution_count": 152,
   "metadata": {},
   "outputs": [
    {
     "data": {
      "text/plain": [
       "RandomForestRegressor(bootstrap=True, criterion='mse', max_depth=2,\n",
       "                      max_features='auto', max_leaf_nodes=None,\n",
       "                      min_impurity_decrease=0.0, min_impurity_split=None,\n",
       "                      min_samples_leaf=1, min_samples_split=2,\n",
       "                      min_weight_fraction_leaf=0.0, n_estimators=10,\n",
       "                      n_jobs=None, oob_score=False, random_state=0, verbose=0,\n",
       "                      warm_start=False)"
      ]
     },
     "execution_count": 152,
     "metadata": {},
     "output_type": "execute_result"
    }
   ],
   "source": [
    "RFR_1 = RandomForestRegressor(max_depth=2, random_state=0)\n",
    "RFR_1.fit(x_train,y_train)"
   ]
  },
  {
   "cell_type": "code",
   "execution_count": 153,
   "metadata": {},
   "outputs": [],
   "source": [
    "# Calculates Error Rates\n",
    "\n",
    "RFR_Prediction = RFR_1.predict(x_test)\n",
    "RFR_Prediction = pd.DataFrame(RFR_Prediction, columns=['RFR_Prediction'])\n",
    "RFR_Prediction = RFR_Prediction.astype(float)\n",
    "y_test = y_test.reset_index(drop=True)\n",
    "RFR_Prediction = pd.concat([RFR_Prediction,y_test],axis=1)\n",
    "\n",
    "# MSE\n",
    "\n",
    "#LR_prediction['diff'] = LR_prediction['Prediction_LR'] - LR_prediction['GDP']\n",
    "#LR_prediction['diff'] = LR_prediction['diff'] ** 2\n",
    "#Sum_Squared_Error_LR = np.sum(LR_prediction['diff'])/LR_prediction['diff'].size\n",
    "\n",
    "# MAE\n",
    "\n",
    "RFR_Prediction['diff2'] = abs(RFR_Prediction['RFR_Prediction'] - RFR_Prediction['GDP'])\n",
    "Sum_Absolute_Error_RFR = np.sum(RFR_Prediction['diff2'])\n",
    "Sum_Absolute_Error_RFR = Sum_Absolute_Error_RFR/RFR_Prediction['diff2'].size"
   ]
  },
  {
   "cell_type": "code",
   "execution_count": 154,
   "metadata": {},
   "outputs": [
    {
     "data": {
      "text/html": [
       "<div>\n",
       "<style scoped>\n",
       "    .dataframe tbody tr th:only-of-type {\n",
       "        vertical-align: middle;\n",
       "    }\n",
       "\n",
       "    .dataframe tbody tr th {\n",
       "        vertical-align: top;\n",
       "    }\n",
       "\n",
       "    .dataframe thead th {\n",
       "        text-align: right;\n",
       "    }\n",
       "</style>\n",
       "<table border=\"1\" class=\"dataframe\">\n",
       "  <thead>\n",
       "    <tr style=\"text-align: right;\">\n",
       "      <th></th>\n",
       "      <th>RFR_Prediction</th>\n",
       "      <th>GDP</th>\n",
       "      <th>diff2</th>\n",
       "    </tr>\n",
       "  </thead>\n",
       "  <tbody>\n",
       "    <tr>\n",
       "      <th>0</th>\n",
       "      <td>8.566367e+10</td>\n",
       "      <td>8.413267e+10</td>\n",
       "      <td>1.530993e+09</td>\n",
       "    </tr>\n",
       "    <tr>\n",
       "      <th>1</th>\n",
       "      <td>1.049544e+11</td>\n",
       "      <td>1.076873e+11</td>\n",
       "      <td>2.732905e+09</td>\n",
       "    </tr>\n",
       "    <tr>\n",
       "      <th>2</th>\n",
       "      <td>8.168872e+10</td>\n",
       "      <td>7.337951e+10</td>\n",
       "      <td>8.309207e+09</td>\n",
       "    </tr>\n",
       "    <tr>\n",
       "      <th>3</th>\n",
       "      <td>1.049544e+11</td>\n",
       "      <td>1.180117e+11</td>\n",
       "      <td>1.305726e+10</td>\n",
       "    </tr>\n",
       "  </tbody>\n",
       "</table>\n",
       "</div>"
      ],
      "text/plain": [
       "   RFR_Prediction           GDP         diff2\n",
       "0    8.566367e+10  8.413267e+10  1.530993e+09\n",
       "1    1.049544e+11  1.076873e+11  2.732905e+09\n",
       "2    8.168872e+10  7.337951e+10  8.309207e+09\n",
       "3    1.049544e+11  1.180117e+11  1.305726e+10"
      ]
     },
     "execution_count": 154,
     "metadata": {},
     "output_type": "execute_result"
    }
   ],
   "source": [
    "RFR_Prediction"
   ]
  },
  {
   "cell_type": "code",
   "execution_count": 155,
   "metadata": {},
   "outputs": [
    {
     "name": "stdout",
     "output_type": "stream",
     "text": [
      "MAE is 6407590884.0\n",
      "MAE % is 6.69\n"
     ]
    }
   ],
   "source": [
    "print('MAE is', Sum_Absolute_Error_RFR.round())\n",
    "print('MAE % is', ((RFR_Prediction['diff2'].sum()/RFR_Prediction['GDP'].sum()*100).round(decimals=2)))"
   ]
  },
  {
   "cell_type": "markdown",
   "metadata": {},
   "source": [
    "The selected Model are Linear Regression and Random Forest Regression. They have the lowest the MSE and MAE. "
   ]
  },
  {
   "cell_type": "markdown",
   "metadata": {},
   "source": [
    "# Future Selection"
   ]
  },
  {
   "cell_type": "code",
   "execution_count": 156,
   "metadata": {},
   "outputs": [],
   "source": [
    "final_dataset = final_dataset\n",
    "final_dataset_2 = final_dataset.drop(columns=['Precipetion','humidity'])"
   ]
  },
  {
   "cell_type": "markdown",
   "metadata": {},
   "source": [
    "Take out the 'Precipetion' and 'humidity, then run the model again to test error rate"
   ]
  },
  {
   "cell_type": "markdown",
   "metadata": {},
   "source": [
    "# CONTINUE..."
   ]
  },
  {
   "cell_type": "markdown",
   "metadata": {},
   "source": [
    "# Test and Train Split"
   ]
  },
  {
   "cell_type": "code",
   "execution_count": 157,
   "metadata": {},
   "outputs": [],
   "source": [
    "x_2 = final_dataset_2.iloc[:,:16]"
   ]
  },
  {
   "cell_type": "code",
   "execution_count": 158,
   "metadata": {},
   "outputs": [],
   "source": [
    "y_2 = final_dataset_2['GDP']"
   ]
  },
  {
   "cell_type": "code",
   "execution_count": 159,
   "metadata": {},
   "outputs": [],
   "source": [
    "x_train_2, x_test_2, y_train_2, y_test_2 = train_test_split(x_2,y_2,test_size=0.33, random_state=0)"
   ]
  },
  {
   "cell_type": "markdown",
   "metadata": {},
   "source": [
    "## Model_1 - Linear Regression"
   ]
  },
  {
   "cell_type": "code",
   "execution_count": 160,
   "metadata": {},
   "outputs": [
    {
     "data": {
      "text/plain": [
       "LinearRegression(copy_X=True, fit_intercept=True, n_jobs=None, normalize=False)"
      ]
     },
     "execution_count": 160,
     "metadata": {},
     "output_type": "execute_result"
    }
   ],
   "source": [
    "lr_2 = LinearRegression()\n",
    "lr_2.fit(x_train_2, y_train_2)"
   ]
  },
  {
   "cell_type": "code",
   "execution_count": 161,
   "metadata": {},
   "outputs": [],
   "source": [
    "# Calculates Error Rates\n",
    "\n",
    "LR_prediction_final = lr_2.predict(x_test_2)\n",
    "LR_prediction_final = pd.DataFrame(LR_prediction_final, columns=['Prediction_LR'])\n",
    "LR_prediction_final = LR_prediction_final.astype(float)\n",
    "y_test_2 = y_test_2.reset_index(drop=True)\n",
    "LR_prediction_final = pd.concat([LR_prediction_final,y_test_2],axis=1)\n",
    "\n",
    "# MSE\n",
    "\n",
    "#LR_prediction['diff'] = LR_prediction['Prediction_LR'] - LR_prediction['GDP']\n",
    "#LR_prediction['diff'] = LR_prediction['diff'] ** 2\n",
    "#Sum_Squared_Error_LR = np.sum(LR_prediction['diff'])/LR_prediction['diff'].size\n",
    "\n",
    "# MAE\n",
    "\n",
    "LR_prediction_final['diff2'] = abs(LR_prediction_final['Prediction_LR'] - LR_prediction_final['GDP'])\n",
    "Sum_Absolute_Error_LR = np.sum(LR_prediction_final['diff2'])\n",
    "Sum_Absolute_Error_LR = Sum_Absolute_Error_LR/LR_prediction_final['diff2'].size"
   ]
  },
  {
   "cell_type": "code",
   "execution_count": 162,
   "metadata": {
    "scrolled": true
   },
   "outputs": [
    {
     "data": {
      "text/html": [
       "<div>\n",
       "<style scoped>\n",
       "    .dataframe tbody tr th:only-of-type {\n",
       "        vertical-align: middle;\n",
       "    }\n",
       "\n",
       "    .dataframe tbody tr th {\n",
       "        vertical-align: top;\n",
       "    }\n",
       "\n",
       "    .dataframe thead th {\n",
       "        text-align: right;\n",
       "    }\n",
       "</style>\n",
       "<table border=\"1\" class=\"dataframe\">\n",
       "  <thead>\n",
       "    <tr style=\"text-align: right;\">\n",
       "      <th></th>\n",
       "      <th>Prediction_LR</th>\n",
       "      <th>GDP</th>\n",
       "      <th>diff2</th>\n",
       "    </tr>\n",
       "  </thead>\n",
       "  <tbody>\n",
       "    <tr>\n",
       "      <th>0</th>\n",
       "      <td>8.826356e+10</td>\n",
       "      <td>8.413267e+10</td>\n",
       "      <td>4.130886e+09</td>\n",
       "    </tr>\n",
       "    <tr>\n",
       "      <th>1</th>\n",
       "      <td>1.169766e+11</td>\n",
       "      <td>1.076873e+11</td>\n",
       "      <td>9.289297e+09</td>\n",
       "    </tr>\n",
       "    <tr>\n",
       "      <th>2</th>\n",
       "      <td>8.344798e+10</td>\n",
       "      <td>7.337951e+10</td>\n",
       "      <td>1.006846e+10</td>\n",
       "    </tr>\n",
       "    <tr>\n",
       "      <th>3</th>\n",
       "      <td>1.127849e+11</td>\n",
       "      <td>1.180117e+11</td>\n",
       "      <td>5.226789e+09</td>\n",
       "    </tr>\n",
       "  </tbody>\n",
       "</table>\n",
       "</div>"
      ],
      "text/plain": [
       "   Prediction_LR           GDP         diff2\n",
       "0   8.826356e+10  8.413267e+10  4.130886e+09\n",
       "1   1.169766e+11  1.076873e+11  9.289297e+09\n",
       "2   8.344798e+10  7.337951e+10  1.006846e+10\n",
       "3   1.127849e+11  1.180117e+11  5.226789e+09"
      ]
     },
     "execution_count": 162,
     "metadata": {},
     "output_type": "execute_result"
    }
   ],
   "source": [
    "LR_prediction_final"
   ]
  },
  {
   "cell_type": "code",
   "execution_count": 163,
   "metadata": {},
   "outputs": [
    {
     "name": "stdout",
     "output_type": "stream",
     "text": [
      "MAE is 7178858636.0\n",
      "MAE % is 7.49\n"
     ]
    }
   ],
   "source": [
    "print('MAE is', Sum_Absolute_Error_LR.round())\n",
    "print('MAE % is', ((LR_prediction_final['diff2'].sum()/LR_prediction_final['GDP'].sum()*100).round(decimals=2)))"
   ]
  },
  {
   "cell_type": "markdown",
   "metadata": {},
   "source": [
    "# Model_2 - Random Forest Regression"
   ]
  },
  {
   "cell_type": "code",
   "execution_count": 164,
   "metadata": {},
   "outputs": [],
   "source": [
    "from sklearn.ensemble import RandomForestRegressor"
   ]
  },
  {
   "cell_type": "code",
   "execution_count": 165,
   "metadata": {},
   "outputs": [
    {
     "data": {
      "text/plain": [
       "RandomForestRegressor(bootstrap=True, criterion='mse', max_depth=2,\n",
       "                      max_features='auto', max_leaf_nodes=None,\n",
       "                      min_impurity_decrease=0.0, min_impurity_split=None,\n",
       "                      min_samples_leaf=1, min_samples_split=2,\n",
       "                      min_weight_fraction_leaf=0.0, n_estimators=10,\n",
       "                      n_jobs=None, oob_score=False, random_state=0, verbose=0,\n",
       "                      warm_start=False)"
      ]
     },
     "execution_count": 165,
     "metadata": {},
     "output_type": "execute_result"
    }
   ],
   "source": [
    "RFR_2 = RandomForestRegressor(max_depth=2, random_state=0)\n",
    "RFR_2.fit(x_train_2, y_train_2)"
   ]
  },
  {
   "cell_type": "code",
   "execution_count": 166,
   "metadata": {},
   "outputs": [],
   "source": [
    "# Calculates Error Rates\n",
    "\n",
    "RFR_Prediction_final = RFR_2.predict(x_test_2)\n",
    "RFR_Prediction_final = pd.DataFrame(RFR_Prediction_final, columns=['RFR_Prediction'])\n",
    "RFR_Prediction_final = RFR_Prediction_final.astype(float)\n",
    "y_test_2 = y_test_2.reset_index(drop=True)\n",
    "RFR_Prediction_final = pd.concat([RFR_Prediction_final,y_test_2],axis=1)\n",
    "\n",
    "# MSE\n",
    "\n",
    "#LR_prediction['diff'] = LR_prediction['Prediction_LR'] - LR_prediction['GDP']\n",
    "#LR_prediction['diff'] = LR_prediction['diff'] ** 2\n",
    "#Sum_Squared_Error_LR = np.sum(LR_prediction['diff'])/LR_prediction['diff'].size\n",
    "\n",
    "# MAE\n",
    "\n",
    "RFR_Prediction_final['diff2'] = abs(RFR_Prediction_final['RFR_Prediction'] - RFR_Prediction_final['GDP'])\n",
    "Sum_Absolute_Error_RFR = np.sum(RFR_Prediction_final['diff2'])\n",
    "Sum_Absolute_Error_RFR = Sum_Absolute_Error_RFR/RFR_Prediction_final['diff2'].size"
   ]
  },
  {
   "cell_type": "code",
   "execution_count": 167,
   "metadata": {},
   "outputs": [
    {
     "data": {
      "text/html": [
       "<div>\n",
       "<style scoped>\n",
       "    .dataframe tbody tr th:only-of-type {\n",
       "        vertical-align: middle;\n",
       "    }\n",
       "\n",
       "    .dataframe tbody tr th {\n",
       "        vertical-align: top;\n",
       "    }\n",
       "\n",
       "    .dataframe thead th {\n",
       "        text-align: right;\n",
       "    }\n",
       "</style>\n",
       "<table border=\"1\" class=\"dataframe\">\n",
       "  <thead>\n",
       "    <tr style=\"text-align: right;\">\n",
       "      <th></th>\n",
       "      <th>RFR_Prediction</th>\n",
       "      <th>GDP</th>\n",
       "      <th>diff2</th>\n",
       "    </tr>\n",
       "  </thead>\n",
       "  <tbody>\n",
       "    <tr>\n",
       "      <th>0</th>\n",
       "      <td>8.824180e+10</td>\n",
       "      <td>8.413267e+10</td>\n",
       "      <td>4.109122e+09</td>\n",
       "    </tr>\n",
       "    <tr>\n",
       "      <th>1</th>\n",
       "      <td>1.027519e+11</td>\n",
       "      <td>1.076873e+11</td>\n",
       "      <td>4.935436e+09</td>\n",
       "    </tr>\n",
       "    <tr>\n",
       "      <th>2</th>\n",
       "      <td>7.618974e+10</td>\n",
       "      <td>7.337951e+10</td>\n",
       "      <td>2.810225e+09</td>\n",
       "    </tr>\n",
       "    <tr>\n",
       "      <th>3</th>\n",
       "      <td>1.027519e+11</td>\n",
       "      <td>1.180117e+11</td>\n",
       "      <td>1.525979e+10</td>\n",
       "    </tr>\n",
       "  </tbody>\n",
       "</table>\n",
       "</div>"
      ],
      "text/plain": [
       "   RFR_Prediction           GDP         diff2\n",
       "0    8.824180e+10  8.413267e+10  4.109122e+09\n",
       "1    1.027519e+11  1.076873e+11  4.935436e+09\n",
       "2    7.618974e+10  7.337951e+10  2.810225e+09\n",
       "3    1.027519e+11  1.180117e+11  1.525979e+10"
      ]
     },
     "execution_count": 167,
     "metadata": {},
     "output_type": "execute_result"
    }
   ],
   "source": [
    "RFR_Prediction_final"
   ]
  },
  {
   "cell_type": "code",
   "execution_count": 168,
   "metadata": {},
   "outputs": [
    {
     "name": "stdout",
     "output_type": "stream",
     "text": [
      "MAE is 6778643188.0\n",
      "MAE % is 7.08\n"
     ]
    }
   ],
   "source": [
    "print('MAE is', Sum_Absolute_Error_RFR.round())\n",
    "print('MAE % is', ((RFR_Prediction_final['diff2'].sum()/RFR_Prediction_final['GDP'].sum()*100).round(decimals=2)))"
   ]
  },
  {
   "cell_type": "markdown",
   "metadata": {},
   "source": [
    "The selected Model is Random Forest Regression. It has the lowest the MSE and MAE. "
   ]
  },
  {
   "cell_type": "markdown",
   "metadata": {},
   "source": [
    "# END OF THE FIRST TASK"
   ]
  },
  {
   "cell_type": "markdown",
   "metadata": {},
   "source": [
    "# Update the independent features for prediction GDP"
   ]
  },
  {
   "cell_type": "markdown",
   "metadata": {},
   "source": [
    "# MACHINE LEARNING MODELS FOR UPDATING THE INDEPENDENT PARAMETERS"
   ]
  },
  {
   "cell_type": "markdown",
   "metadata": {},
   "source": [
    "## 1 - Mean Temp"
   ]
  },
  {
   "cell_type": "code",
   "execution_count": 169,
   "metadata": {},
   "outputs": [],
   "source": [
    "# Predict the Mean Temp for 2035, 2040, 2045, 2050, 2100\n",
    "\n",
    "mean_temp = final_dataset[['Year','Mean_Temp']]\n",
    "\n",
    "x = mean_temp[['Year']]\n",
    "y = mean_temp['Mean_Temp']\n",
    "\n",
    "x_train, x_test, y_train, y_test = train_test_split(x,y,test_size=0.33, random_state=0)\n",
    "\n",
    "lr = LinearRegression()\n",
    "lr.fit(x_train, y_train)\n",
    "\n",
    "mean_temp_prediction_2035 = lr.predict([[2035.0]])\n",
    "mean_temp_prediction_2040 = lr.predict([[2040.0]])\n",
    "mean_temp_prediction_2045 = lr.predict([[2045.0]])\n",
    "mean_temp_prediction_2050 = lr.predict([[2050.0]])"
   ]
  },
  {
   "cell_type": "markdown",
   "metadata": {},
   "source": [
    "## 2 - Summer_Mean_Temp"
   ]
  },
  {
   "cell_type": "code",
   "execution_count": 170,
   "metadata": {},
   "outputs": [],
   "source": [
    "# Predict the Summer_Mean_Temp for 2035, 2040, 2045, 2050, 2100\n",
    "\n",
    "Summer_Mean_Temp = final_dataset[['Year','Summer_Mean_Temp']]\n",
    "\n",
    "x = Summer_Mean_Temp[['Year']]\n",
    "y = Summer_Mean_Temp['Summer_Mean_Temp']\n",
    "\n",
    "x_train, x_test, y_train, y_test = train_test_split(x,y,test_size=0.33, random_state=0)\n",
    "\n",
    "lr = LinearRegression()\n",
    "lr.fit(x_train, y_train)\n",
    "\n",
    "Summer_Mean_Temp_prediction_2035 = lr.predict([[2035.0]])\n",
    "Summer_Mean_Temp_prediction_2040 = lr.predict([[2040.0]])\n",
    "Summer_Mean_Temp_prediction_2045 = lr.predict([[2045.0]])\n",
    "Summer_Mean_Temp_prediction_2050 = lr.predict([[2050.0]])"
   ]
  },
  {
   "cell_type": "markdown",
   "metadata": {},
   "source": [
    "## 3 - Number_of_Hot_Days"
   ]
  },
  {
   "cell_type": "code",
   "execution_count": 171,
   "metadata": {},
   "outputs": [],
   "source": [
    "# Predict the Number_of_Hot_Days for 2035, 2040, 2045, 2050, 2100\n",
    "\n",
    "Number_of_Hot_Days = final_dataset[['Year','Number_of_Hot_Days']]\n",
    "\n",
    "x = Number_of_Hot_Days[['Year']]\n",
    "y = Number_of_Hot_Days['Number_of_Hot_Days']\n",
    "\n",
    "x_train, x_test, y_train, y_test = train_test_split(x,y,test_size=0.33, random_state=0)\n",
    "\n",
    "lr = LinearRegression()\n",
    "lr.fit(x_train, y_train)\n",
    "\n",
    "Number_of_Hot_Days_prediction_2035 = lr.predict([[2035.0]])\n",
    "Number_of_Hot_Days_prediction_2040 = lr.predict([[2040.0]])\n",
    "Number_of_Hot_Days_prediction_2045 = lr.predict([[2045.0]])\n",
    "Number_of_Hot_Days_prediction_2050 = lr.predict([[2050.0]])"
   ]
  },
  {
   "cell_type": "markdown",
   "metadata": {},
   "source": [
    "## 4 - Max_Daily_Temp"
   ]
  },
  {
   "cell_type": "code",
   "execution_count": 172,
   "metadata": {},
   "outputs": [],
   "source": [
    "# Predict the Max_Daily_Temp for 2035, 2040, 2045, 2050, 2100\n",
    "\n",
    "Max_Daily_Temp = final_dataset[['Year','Max_Daily_Temp']]\n",
    "\n",
    "x = Max_Daily_Temp[['Year']]\n",
    "y = Max_Daily_Temp['Max_Daily_Temp']\n",
    "\n",
    "x_train, x_test, y_train, y_test = train_test_split(x,y,test_size=0.33, random_state=0)\n",
    "\n",
    "lr = LinearRegression()\n",
    "lr.fit(x_train, y_train)\n",
    "\n",
    "Max_Daily_Temp_prediction_2035 = lr.predict([[2035.0]])\n",
    "Max_Daily_Temp_prediction_2040 = lr.predict([[2040.0]])\n",
    "Max_Daily_Temp_prediction_2045 = lr.predict([[2045.0]])\n",
    "Max_Daily_Temp_prediction_2050 = lr.predict([[2050.0]])"
   ]
  },
  {
   "cell_type": "markdown",
   "metadata": {},
   "source": [
    "## 5 - Mean_Feels_Temp"
   ]
  },
  {
   "cell_type": "code",
   "execution_count": 173,
   "metadata": {},
   "outputs": [],
   "source": [
    "# Predict the Mean_Feels_Temp for 2035, 2040, 2045, 2050, 2100\n",
    "\n",
    "Mean_Feels_Temp = final_dataset[['Year','Mean_Feels_Temp']]\n",
    "\n",
    "x = Mean_Feels_Temp[['Year']]\n",
    "y = Mean_Feels_Temp['Mean_Feels_Temp']\n",
    "\n",
    "x_train, x_test, y_train, y_test = train_test_split(x,y,test_size=0.33, random_state=0)\n",
    "\n",
    "lr = LinearRegression()\n",
    "lr.fit(x_train, y_train)\n",
    "\n",
    "Mean_Feels_Temp_prediction_2035 = lr.predict([[2035.0]])\n",
    "Mean_Feels_Temp_prediction_2040 = lr.predict([[2040.0]])\n",
    "Mean_Feels_Temp_prediction_2045 = lr.predict([[2045.0]])\n",
    "Mean_Feels_Temp_prediction_2050 = lr.predict([[2050.0]])"
   ]
  },
  {
   "cell_type": "markdown",
   "metadata": {},
   "source": [
    "## 6 - Summer_Mean_Feels_Temp"
   ]
  },
  {
   "cell_type": "code",
   "execution_count": 174,
   "metadata": {},
   "outputs": [],
   "source": [
    "# Predict the Summer_Mean_Feels_Temp for 2035, 2040, 2045, 2050, 2100\n",
    "\n",
    "Summer_Mean_Feels_Temp = final_dataset[['Year','Summer_Mean_Feels_Temp']]\n",
    "\n",
    "x = Summer_Mean_Feels_Temp[['Year']]\n",
    "y = Summer_Mean_Feels_Temp['Summer_Mean_Feels_Temp']\n",
    "\n",
    "x_train, x_test, y_train, y_test = train_test_split(x,y,test_size=0.33, random_state=0)\n",
    "\n",
    "lr = LinearRegression()\n",
    "lr.fit(x_train, y_train)\n",
    "\n",
    "Summer_Mean_Feels_Temp_prediction_2035 = lr.predict([[2035.0]])\n",
    "Summer_Mean_Feels_Temp_prediction_2040 = lr.predict([[2040.0]])\n",
    "Summer_Mean_Feels_Temp_prediction_2045 = lr.predict([[2045.0]])\n",
    "Summer_Mean_Feels_Temp_prediction_2050 = lr.predict([[2050.0]])"
   ]
  },
  {
   "cell_type": "markdown",
   "metadata": {},
   "source": [
    "## 7 - uvIndex"
   ]
  },
  {
   "cell_type": "code",
   "execution_count": 175,
   "metadata": {},
   "outputs": [],
   "source": [
    "# Predict the uvIndex for 2035, 2040, 2045, 2050, 2100\n",
    "\n",
    "uvIndex = final_dataset[['Year','uvIndex']]\n",
    "\n",
    "x = uvIndex[['Year']]\n",
    "y = uvIndex['uvIndex']\n",
    "\n",
    "x_train, x_test, y_train, y_test = train_test_split(x,y,test_size=0.33, random_state=0)\n",
    "\n",
    "lr = LinearRegression()\n",
    "lr.fit(x_train, y_train)\n",
    "\n",
    "uvIndex_prediction_2035 = lr.predict([[2035.0]])\n",
    "uvIndex_prediction_2040 = lr.predict([[2040.0]])\n",
    "uvIndex_prediction_2045 = lr.predict([[2045.0]])\n",
    "uvIndex_prediction_2050 = lr.predict([[2050.0]])"
   ]
  },
  {
   "cell_type": "markdown",
   "metadata": {},
   "source": [
    "## 8 - Summer_uvIndex"
   ]
  },
  {
   "cell_type": "code",
   "execution_count": 176,
   "metadata": {},
   "outputs": [],
   "source": [
    "# Predict the uvIndex for 2035, 2040, 2045, 2050, 2100\n",
    "\n",
    "Summer_uvIndex = final_dataset[['Year','Summer_uvIndex']]\n",
    "\n",
    "x = Summer_uvIndex[['Year']]\n",
    "y = Summer_uvIndex['Summer_uvIndex']\n",
    "\n",
    "x_train, x_test, y_train, y_test = train_test_split(x,y,test_size=0.33, random_state=0)\n",
    "\n",
    "lr = LinearRegression()\n",
    "lr.fit(x_train, y_train)\n",
    "\n",
    "Summer_uvIndex_prediction_2035 = lr.predict([[2035.0]])\n",
    "Summer_uvIndex_prediction_2040 = lr.predict([[2040.0]])\n",
    "Summer_uvIndex_prediction_2045 = lr.predict([[2045.0]])\n",
    "Summer_uvIndex_prediction_2050 = lr.predict([[2050.0]])"
   ]
  },
  {
   "cell_type": "markdown",
   "metadata": {},
   "source": [
    "## 9 - Mean_Heat_Waves_Temp"
   ]
  },
  {
   "cell_type": "code",
   "execution_count": 177,
   "metadata": {},
   "outputs": [],
   "source": [
    "# Predict the uvIndex for 2035, 2040, 2045, 2050, 2100\n",
    "\n",
    "Mean_Heat_Waves_Temp = final_dataset[['Year','Mean_Heat_Waves_Temp']]\n",
    "\n",
    "x = Mean_Heat_Waves_Temp[['Year']]\n",
    "y = Mean_Heat_Waves_Temp['Mean_Heat_Waves_Temp']\n",
    "\n",
    "x_train, x_test, y_train, y_test = train_test_split(x,y,test_size=0.33, random_state=0)\n",
    "\n",
    "lr = LinearRegression()\n",
    "lr.fit(x_train, y_train)\n",
    "\n",
    "Mean_Heat_Waves_Temp_prediction_2035 = lr.predict([[2035.0]])\n",
    "Mean_Heat_Waves_Temp_prediction_2040 = lr.predict([[2040.0]])\n",
    "Mean_Heat_Waves_Temp_prediction_2045 = lr.predict([[2045.0]])\n",
    "Mean_Heat_Waves_Temp_prediction_2050 = lr.predict([[2050.0]])"
   ]
  },
  {
   "cell_type": "markdown",
   "metadata": {},
   "source": [
    "## 10 - Summer_Mean_Heat_Waves_Temp"
   ]
  },
  {
   "cell_type": "code",
   "execution_count": 178,
   "metadata": {},
   "outputs": [],
   "source": [
    "# Predict the uvIndex for 2035, 2040, 2045, 2050, 2100\n",
    "\n",
    "Summer_Mean_Heat_Waves_Temp = final_dataset[['Year','Summer_Mean_Heat_Waves_Temp']]\n",
    "\n",
    "x = Summer_Mean_Heat_Waves_Temp[['Year']]\n",
    "y = Summer_Mean_Heat_Waves_Temp['Summer_Mean_Heat_Waves_Temp']\n",
    "\n",
    "x_train, x_test, y_train, y_test = train_test_split(x,y,test_size=0.33, random_state=0)\n",
    "\n",
    "lr = LinearRegression()\n",
    "lr.fit(x_train, y_train)\n",
    "\n",
    "Summer_Mean_Heat_Waves_Temp_prediction_2035 = lr.predict([[2035.0]])\n",
    "Summer_Mean_Heat_Waves_Temp_prediction_2040 = lr.predict([[2040.0]])\n",
    "Summer_Mean_Heat_Waves_Temp_prediction_2045 = lr.predict([[2045.0]])\n",
    "Summer_Mean_Heat_Waves_Temp_prediction_2050 = lr.predict([[2050.0]])"
   ]
  },
  {
   "cell_type": "markdown",
   "metadata": {},
   "source": [
    "## 11 - max_daily_heat_waves_temp"
   ]
  },
  {
   "cell_type": "code",
   "execution_count": 179,
   "metadata": {},
   "outputs": [],
   "source": [
    "# Predict the uvIndex for 2035, 2040, 2045, 2050, 2100\n",
    "\n",
    "max_daily_heat_waves_temp = final_dataset[['Year','max_daily_heat_waves_temp']]\n",
    "\n",
    "x = max_daily_heat_waves_temp[['Year']]\n",
    "y = max_daily_heat_waves_temp['max_daily_heat_waves_temp']\n",
    "\n",
    "x_train, x_test, y_train, y_test = train_test_split(x,y,test_size=0.33, random_state=0)\n",
    "\n",
    "lr = LinearRegression()\n",
    "lr.fit(x_train, y_train)\n",
    "\n",
    "max_daily_heat_waves_temp_prediction_2035 = lr.predict([[2035.0]])\n",
    "max_daily_heat_waves_temp_prediction_2040 = lr.predict([[2040.0]])\n",
    "max_daily_heat_waves_temp_prediction_2045 = lr.predict([[2045.0]])\n",
    "max_daily_heat_waves_temp_prediction_2050 = lr.predict([[2050.0]])"
   ]
  },
  {
   "cell_type": "markdown",
   "metadata": {},
   "source": [
    "## 12 - Number_of_Ext_Heat_Waves_Days"
   ]
  },
  {
   "cell_type": "code",
   "execution_count": 180,
   "metadata": {},
   "outputs": [],
   "source": [
    "# Predict the uvIndex for 2035, 2040, 2045, 2050, 2100\n",
    "\n",
    "Number_of_Ext_Heat_Waves_Days = final_dataset[['Year','Number_of_Ext_Heat_Waves_Days']]\n",
    "\n",
    "x = Number_of_Ext_Heat_Waves_Days[['Year']]\n",
    "y = Number_of_Ext_Heat_Waves_Days['Number_of_Ext_Heat_Waves_Days']\n",
    "\n",
    "x_train, x_test, y_train, y_test = train_test_split(x,y,test_size=0.33, random_state=0)\n",
    "\n",
    "lr = LinearRegression()\n",
    "lr.fit(x_train, y_train)\n",
    "\n",
    "Number_of_Ext_Heat_Waves_Days_prediction_2035 = lr.predict([[2035.0]])\n",
    "Number_of_Ext_Heat_Waves_Days_prediction_2040 = lr.predict([[2040.0]])\n",
    "Number_of_Ext_Heat_Waves_Days_prediction_2045 = lr.predict([[2045.0]])\n",
    "Number_of_Ext_Heat_Waves_Days_prediction_2050 = lr.predict([[2050.0]])"
   ]
  },
  {
   "cell_type": "markdown",
   "metadata": {},
   "source": [
    "## 13 - humidity"
   ]
  },
  {
   "cell_type": "code",
   "execution_count": 181,
   "metadata": {},
   "outputs": [],
   "source": [
    "# Predict the uvIndex for 2035, 2040, 2045, 2050, 2100\n",
    "\n",
    "humidity = final_dataset[['Year','humidity']]\n",
    "\n",
    "x = humidity[['Year']]\n",
    "y = humidity['humidity']\n",
    "\n",
    "x_train, x_test, y_train, y_test = train_test_split(x,y,test_size=0.33, random_state=0)\n",
    "\n",
    "lr = LinearRegression()\n",
    "lr.fit(x_train, y_train)\n",
    "\n",
    "humidity_prediction_2035 = lr.predict([[2035.0]])\n",
    "humidity_prediction_2040 = lr.predict([[2040.0]])\n",
    "humidity_prediction_2045 = lr.predict([[2045.0]])\n",
    "humidity_prediction_2050 = lr.predict([[2050.0]])"
   ]
  },
  {
   "cell_type": "markdown",
   "metadata": {},
   "source": [
    "## 14 - Precipetion"
   ]
  },
  {
   "cell_type": "code",
   "execution_count": 182,
   "metadata": {},
   "outputs": [],
   "source": [
    "# Predict the uvIndex for 2035, 2040, 2045, 2050, 2100\n",
    "\n",
    "Precipetion = final_dataset[['Year','Precipetion']]\n",
    "\n",
    "x = Precipetion[['Year']]\n",
    "y = Precipetion['Precipetion']\n",
    "\n",
    "x_train, x_test, y_train, y_test = train_test_split(x,y,test_size=0.33, random_state=0)\n",
    "\n",
    "lr = LinearRegression()\n",
    "lr.fit(x_train, y_train)\n",
    "\n",
    "Precipetion_prediction_2035 = lr.predict([[2035.0]])\n",
    "Precipetion_prediction_2040 = lr.predict([[2040.0]])\n",
    "Precipetion_prediction_2045 = lr.predict([[2045.0]])\n",
    "Precipetion_prediction_2050 = lr.predict([[2050.0]])"
   ]
  },
  {
   "cell_type": "markdown",
   "metadata": {},
   "source": [
    "## 15 - Weather Quality"
   ]
  },
  {
   "cell_type": "code",
   "execution_count": 183,
   "metadata": {},
   "outputs": [],
   "source": [
    "# Predict the uvIndex for 2035, 2040, 2045, 2050, 2100\n",
    "\n",
    "Weather_Quality = final_dataset[['Year','Weather Quality']]\n",
    "\n",
    "x = Weather_Quality[['Year']]\n",
    "y = Weather_Quality['Weather Quality']\n",
    "\n",
    "x_train, x_test, y_train, y_test = train_test_split(x,y,test_size=0.33, random_state=0)\n",
    "\n",
    "lr = LinearRegression()\n",
    "lr.fit(x_train, y_train)\n",
    "\n",
    "Weather_Quality_prediction_2035 = lr.predict([[2035.0]])\n",
    "Weather_Quality_prediction_2040 = lr.predict([[2040.0]])\n",
    "Weather_Quality_prediction_2045 = lr.predict([[2045.0]])\n",
    "Weather_Quality_prediction_2050 = lr.predict([[2050.0]])"
   ]
  },
  {
   "cell_type": "markdown",
   "metadata": {},
   "source": [
    "## 16 - Labor Productivity"
   ]
  },
  {
   "cell_type": "code",
   "execution_count": 184,
   "metadata": {},
   "outputs": [],
   "source": [
    "# Predict the uvIndex for 2035, 2040, 2045, 2050, 2100\n",
    "\n",
    "Labor_Productivity = final_dataset[['Year','Labor Productivity']]\n",
    "\n",
    "x = Labor_Productivity[['Year']]\n",
    "y = Labor_Productivity['Labor Productivity']\n",
    "\n",
    "x_train, x_test, y_train, y_test = train_test_split(x,y,test_size=0.33, random_state=0)\n",
    "\n",
    "lr = LinearRegression()\n",
    "lr.fit(x_train, y_train)\n",
    "\n",
    "Labor_Productivity_prediction_2035 = lr.predict([[2035.0]])\n",
    "Labor_Productivity_prediction_2040 = lr.predict([[2040.0]])\n",
    "Labor_Productivity_prediction_2045 = lr.predict([[2045.0]])\n",
    "Labor_Productivity_prediction_2050 = lr.predict([[2050.0]])"
   ]
  },
  {
   "cell_type": "markdown",
   "metadata": {},
   "source": [
    "## 17 - Labor Productivity"
   ]
  },
  {
   "cell_type": "code",
   "execution_count": 185,
   "metadata": {},
   "outputs": [],
   "source": [
    "# Predict the uvIndex for 2035, 2040, 2045, 2050, 2100\n",
    "\n",
    "Labor_Productivity_2 = final_dataset[['Year','Labor_Productivity_2']]\n",
    "\n",
    "x = Labor_Productivity_2[['Year']]\n",
    "y = Labor_Productivity_2['Labor_Productivity_2']\n",
    "\n",
    "x_train, x_test, y_train, y_test = train_test_split(x,y,test_size=0.33, random_state=0)\n",
    "\n",
    "lr = LinearRegression()\n",
    "lr.fit(x_train, y_train)\n",
    "\n",
    "Labor_Productivity_2_prediction_2035 = lr.predict([[2035.0]])\n",
    "Labor_Productivity_2_prediction_2040 = lr.predict([[2040.0]])\n",
    "Labor_Productivity_2_prediction_2045 = lr.predict([[2045.0]])\n",
    "Labor_Productivity_2_prediction_2050 = lr.predict([[2050.0]])"
   ]
  },
  {
   "cell_type": "markdown",
   "metadata": {},
   "source": [
    "# END OF THE UPDATES MODEL"
   ]
  },
  {
   "cell_type": "markdown",
   "metadata": {},
   "source": [
    "# APPLY THE FIRST TASK TO GDP"
   ]
  },
  {
   "cell_type": "markdown",
   "metadata": {},
   "source": [
    "# Prediction for 2035, 2040, 2045 and 2050 "
   ]
  },
  {
   "cell_type": "code",
   "execution_count": 186,
   "metadata": {},
   "outputs": [],
   "source": [
    "GDP_2035 = lr_2.predict([[2035.0,\n",
    "                              mean_temp_prediction_2035[0],\n",
    "                              Summer_Mean_Temp_prediction_2035[0],\n",
    "                              Number_of_Hot_Days_prediction_2035[0],\n",
    "                              Max_Daily_Temp_prediction_2035[0],\n",
    "                              Mean_Feels_Temp_prediction_2035[0],\n",
    "                              Summer_Mean_Feels_Temp_prediction_2035[0],\n",
    "                              uvIndex_prediction_2035[0],\n",
    "                              Summer_uvIndex_prediction_2035[0],\n",
    "                              Mean_Heat_Waves_Temp_prediction_2035[0],\n",
    "                              Summer_Mean_Heat_Waves_Temp_prediction_2035[0],\n",
    "                              max_daily_heat_waves_temp_prediction_2035[0],\n",
    "                              Number_of_Ext_Heat_Waves_Days_prediction_2035[0],\n",
    "                              Weather_Quality_prediction_2035[0],\n",
    "                              Labor_Productivity_prediction_2035[0],\n",
    "                              Labor_Productivity_2_prediction_2035[0]]])            "
   ]
  },
  {
   "cell_type": "code",
   "execution_count": 187,
   "metadata": {},
   "outputs": [],
   "source": [
    "GDP_2040 = lr_2.predict([[2040.0,\n",
    "                              mean_temp_prediction_2040[0],\n",
    "                              Summer_Mean_Temp_prediction_2040[0],\n",
    "                              Number_of_Hot_Days_prediction_2040[0],\n",
    "                              Max_Daily_Temp_prediction_2040[0],\n",
    "                              Mean_Feels_Temp_prediction_2040[0],\n",
    "                              Summer_Mean_Feels_Temp_prediction_2040[0],\n",
    "                              uvIndex_prediction_2040[0],\n",
    "                              Summer_uvIndex_prediction_2040[0],\n",
    "                              Mean_Heat_Waves_Temp_prediction_2040[0],\n",
    "                              Summer_Mean_Heat_Waves_Temp_prediction_2040[0],\n",
    "                              max_daily_heat_waves_temp_prediction_2040[0],\n",
    "                              Number_of_Ext_Heat_Waves_Days_prediction_2040[0],\n",
    "                              Weather_Quality_prediction_2040[0],\n",
    "                              Labor_Productivity_prediction_2040[0],\n",
    "                              Labor_Productivity_2_prediction_2040[0]]])"
   ]
  },
  {
   "cell_type": "code",
   "execution_count": 188,
   "metadata": {},
   "outputs": [],
   "source": [
    "GDP_2045 = lr_2.predict([[2045.0,\n",
    "                              mean_temp_prediction_2045[0],\n",
    "                              Summer_Mean_Temp_prediction_2045[0],\n",
    "                              Number_of_Hot_Days_prediction_2045[0],\n",
    "                              Max_Daily_Temp_prediction_2045[0],\n",
    "                              Mean_Feels_Temp_prediction_2045[0],\n",
    "                              Summer_Mean_Feels_Temp_prediction_2045[0],\n",
    "                              uvIndex_prediction_2045[0],\n",
    "                              Summer_uvIndex_prediction_2045[0],\n",
    "                              Mean_Heat_Waves_Temp_prediction_2045[0],\n",
    "                              Summer_Mean_Heat_Waves_Temp_prediction_2045[0],\n",
    "                              max_daily_heat_waves_temp_prediction_2045[0],\n",
    "                              Number_of_Ext_Heat_Waves_Days_prediction_2045[0],\n",
    "                              Weather_Quality_prediction_2045[0],\n",
    "                              Labor_Productivity_prediction_2045[0],\n",
    "                              Labor_Productivity_2_prediction_2045[0]]])"
   ]
  },
  {
   "cell_type": "code",
   "execution_count": 189,
   "metadata": {},
   "outputs": [],
   "source": [
    "GDP_2050 = lr_2.predict([[2050.0,\n",
    "                              mean_temp_prediction_2050[0],\n",
    "                              Summer_Mean_Temp_prediction_2050[0],\n",
    "                              Number_of_Hot_Days_prediction_2050[0],\n",
    "                              Max_Daily_Temp_prediction_2050[0],\n",
    "                              Mean_Feels_Temp_prediction_2050[0],\n",
    "                              Summer_Mean_Feels_Temp_prediction_2050[0],\n",
    "                              uvIndex_prediction_2050[0],\n",
    "                              Summer_uvIndex_prediction_2050[0],\n",
    "                              Mean_Heat_Waves_Temp_prediction_2050[0],\n",
    "                              Summer_Mean_Heat_Waves_Temp_prediction_2050[0],\n",
    "                              max_daily_heat_waves_temp_prediction_2050[0],\n",
    "                              Number_of_Ext_Heat_Waves_Days_prediction_2050[0],\n",
    "                              Weather_Quality_prediction_2050[0],\n",
    "                              Labor_Productivity_prediction_2050[0],\n",
    "                              Labor_Productivity_2_prediction_2050[0]]])"
   ]
  },
  {
   "cell_type": "code",
   "execution_count": 190,
   "metadata": {},
   "outputs": [],
   "source": [
    "#GDP_2035 = lr_2.predict([[2035.0,30.222603,37.327899,211.0,46.75,31.761758,41.72962,7.441096,8.673913, \n",
    "#                              30.28242,37.327899,46.75,223.0,220.50495,5517.0,3.45]])"
   ]
  },
  {
   "cell_type": "code",
   "execution_count": 191,
   "metadata": {},
   "outputs": [],
   "source": [
    "#GDP_2040 = lr_2.predict([[2040.0,30.222603,37.327899,211.0,46.75,31.761758,41.72962,7.441096,8.673913, \n",
    "#                              30.28242,37.327899,46.75,223.0,220.50495,5517.0,3.45]])"
   ]
  },
  {
   "cell_type": "code",
   "execution_count": 192,
   "metadata": {},
   "outputs": [],
   "source": [
    "#GDP_2045 = lr_2.predict([[2045.0,30.222603,37.327899,211.0,46.75,31.761758,41.72962,7.441096,8.673913, \n",
    "#                              30.28242,37.327899,46.75,223.0,220.50495,5517.0,3.45]])"
   ]
  },
  {
   "cell_type": "code",
   "execution_count": 193,
   "metadata": {},
   "outputs": [],
   "source": [
    "#GDP_2050 = lr_2.predict([[2050.0,30.222603,37.327899,211.0,46.75,31.761758,41.72962,7.441096,8.673913, \n",
    "#                              30.28242,37.327899,46.75,223.0,220.50495,5517.0,3.45]])"
   ]
  },
  {
   "cell_type": "markdown",
   "metadata": {},
   "source": [
    "# TASK 2"
   ]
  },
  {
   "cell_type": "markdown",
   "metadata": {},
   "source": [
    "# GDP Prediction without Climate Effect"
   ]
  },
  {
   "cell_type": "code",
   "execution_count": 194,
   "metadata": {},
   "outputs": [
    {
     "data": {
      "text/html": [
       "<div>\n",
       "<style scoped>\n",
       "    .dataframe tbody tr th:only-of-type {\n",
       "        vertical-align: middle;\n",
       "    }\n",
       "\n",
       "    .dataframe tbody tr th {\n",
       "        vertical-align: top;\n",
       "    }\n",
       "\n",
       "    .dataframe thead th {\n",
       "        text-align: right;\n",
       "    }\n",
       "</style>\n",
       "<table border=\"1\" class=\"dataframe\">\n",
       "  <thead>\n",
       "    <tr style=\"text-align: right;\">\n",
       "      <th></th>\n",
       "      <th>Year</th>\n",
       "      <th>Mean_Temp</th>\n",
       "      <th>Summer_Mean_Temp</th>\n",
       "      <th>Number_of_Hot_Days</th>\n",
       "      <th>Max_Daily_Temp</th>\n",
       "      <th>Mean_Feels_Temp</th>\n",
       "      <th>Summer_Mean_Feels_Temp</th>\n",
       "      <th>uvIndex</th>\n",
       "      <th>Summer_uvIndex</th>\n",
       "      <th>Mean_Heat_Waves_Temp</th>\n",
       "      <th>Summer_Mean_Heat_Waves_Temp</th>\n",
       "      <th>max_daily_heat_waves_temp</th>\n",
       "      <th>Number_of_Ext_Heat_Waves_Days</th>\n",
       "      <th>Weather Quality</th>\n",
       "      <th>Labor Productivity</th>\n",
       "      <th>Labor_Productivity_2</th>\n",
       "      <th>GDP</th>\n",
       "    </tr>\n",
       "  </thead>\n",
       "  <tbody>\n",
       "    <tr>\n",
       "      <th>0</th>\n",
       "      <td>2009.0</td>\n",
       "      <td>26.067808</td>\n",
       "      <td>33.861866</td>\n",
       "      <td>142.0</td>\n",
       "      <td>41.208333</td>\n",
       "      <td>30.504338</td>\n",
       "      <td>40.293931</td>\n",
       "      <td>6.638356</td>\n",
       "      <td>8.043478</td>\n",
       "      <td>28.795890</td>\n",
       "      <td>35.579257</td>\n",
       "      <td>44.500000</td>\n",
       "      <td>168.0</td>\n",
       "      <td>288.723288</td>\n",
       "      <td>8229.0</td>\n",
       "      <td>7.5</td>\n",
       "      <td>7.173982e+10</td>\n",
       "    </tr>\n",
       "    <tr>\n",
       "      <th>1</th>\n",
       "      <td>2010.0</td>\n",
       "      <td>25.749315</td>\n",
       "      <td>32.528986</td>\n",
       "      <td>117.0</td>\n",
       "      <td>39.750000</td>\n",
       "      <td>30.600000</td>\n",
       "      <td>38.850543</td>\n",
       "      <td>6.493151</td>\n",
       "      <td>7.652174</td>\n",
       "      <td>28.591324</td>\n",
       "      <td>33.968750</td>\n",
       "      <td>44.041667</td>\n",
       "      <td>165.0</td>\n",
       "      <td>288.723288</td>\n",
       "      <td>9745.0</td>\n",
       "      <td>7.9</td>\n",
       "      <td>7.173982e+10</td>\n",
       "    </tr>\n",
       "  </tbody>\n",
       "</table>\n",
       "</div>"
      ],
      "text/plain": [
       "     Year  Mean_Temp  Summer_Mean_Temp  Number_of_Hot_Days  Max_Daily_Temp  \\\n",
       "0  2009.0  26.067808         33.861866               142.0       41.208333   \n",
       "1  2010.0  25.749315         32.528986               117.0       39.750000   \n",
       "\n",
       "   Mean_Feels_Temp  Summer_Mean_Feels_Temp   uvIndex  Summer_uvIndex  \\\n",
       "0        30.504338               40.293931  6.638356        8.043478   \n",
       "1        30.600000               38.850543  6.493151        7.652174   \n",
       "\n",
       "   Mean_Heat_Waves_Temp  Summer_Mean_Heat_Waves_Temp  \\\n",
       "0             28.795890                    35.579257   \n",
       "1             28.591324                    33.968750   \n",
       "\n",
       "   max_daily_heat_waves_temp  Number_of_Ext_Heat_Waves_Days  Weather Quality  \\\n",
       "0                  44.500000                          168.0       288.723288   \n",
       "1                  44.041667                          165.0       288.723288   \n",
       "\n",
       "   Labor Productivity  Labor_Productivity_2           GDP  \n",
       "0              8229.0                   7.5  7.173982e+10  \n",
       "1              9745.0                   7.9  7.173982e+10  "
      ]
     },
     "execution_count": 194,
     "metadata": {},
     "output_type": "execute_result"
    }
   ],
   "source": [
    "# Determine the climate related features and drop them out from the dataset\n",
    "\n",
    "final_dataset_2.head(2)"
   ]
  },
  {
   "cell_type": "code",
   "execution_count": 195,
   "metadata": {},
   "outputs": [],
   "source": [
    "final_dataset_3 = final_dataset_2[['Year','Labor Productivity','Labor_Productivity_2','GDP']]"
   ]
  },
  {
   "cell_type": "markdown",
   "metadata": {},
   "source": [
    "## Test and Train Split"
   ]
  },
  {
   "cell_type": "code",
   "execution_count": 196,
   "metadata": {},
   "outputs": [],
   "source": [
    "x = final_dataset_3.iloc[:,:3]\n",
    "y = final_dataset_3['GDP']"
   ]
  },
  {
   "cell_type": "code",
   "execution_count": 197,
   "metadata": {},
   "outputs": [],
   "source": [
    "x_train, x_test, y_train, y_test = train_test_split(x,y,test_size=0.33, random_state=0)"
   ]
  },
  {
   "cell_type": "markdown",
   "metadata": {},
   "source": [
    "## Model_1 - Linear Regression"
   ]
  },
  {
   "cell_type": "code",
   "execution_count": 198,
   "metadata": {},
   "outputs": [
    {
     "data": {
      "text/plain": [
       "LinearRegression(copy_X=True, fit_intercept=True, n_jobs=None, normalize=False)"
      ]
     },
     "execution_count": 198,
     "metadata": {},
     "output_type": "execute_result"
    }
   ],
   "source": [
    "lr_3 = LinearRegression()\n",
    "lr_3.fit(x_train, y_train)"
   ]
  },
  {
   "cell_type": "code",
   "execution_count": 199,
   "metadata": {},
   "outputs": [],
   "source": [
    "# Calculates Error Rates\n",
    "\n",
    "LR_prediction_final_2 = lr_3.predict(x_test)\n",
    "LR_prediction_final_2 = pd.DataFrame(LR_prediction_final_2, columns=['Prediction_LR'])\n",
    "LR_prediction_final_2 = LR_prediction_final_2.astype(float)\n",
    "y_test = y_test.reset_index(drop=True)\n",
    "LR_prediction_final_2 = pd.concat([LR_prediction_final_2,y_test],axis=1)\n",
    "\n",
    "# MSE\n",
    "\n",
    "#LR_prediction['diff'] = LR_prediction['Prediction_LR'] - LR_prediction['GDP']\n",
    "#LR_prediction['diff'] = LR_prediction['diff'] ** 2\n",
    "#Sum_Squared_Error_LR = np.sum(LR_prediction['diff'])/LR_prediction['diff'].size\n",
    "\n",
    "# MAE\n",
    "\n",
    "LR_prediction_final_2['diff2'] = abs(LR_prediction_final_2['Prediction_LR'] - LR_prediction_final_2['GDP'])\n",
    "Sum_Absolute_Error_LR = np.sum(LR_prediction_final_2['diff2'])\n",
    "Sum_Absolute_Error_LR = Sum_Absolute_Error_LR/LR_prediction_final_2['diff2'].size"
   ]
  },
  {
   "cell_type": "code",
   "execution_count": 200,
   "metadata": {},
   "outputs": [
    {
     "data": {
      "text/html": [
       "<div>\n",
       "<style scoped>\n",
       "    .dataframe tbody tr th:only-of-type {\n",
       "        vertical-align: middle;\n",
       "    }\n",
       "\n",
       "    .dataframe tbody tr th {\n",
       "        vertical-align: top;\n",
       "    }\n",
       "\n",
       "    .dataframe thead th {\n",
       "        text-align: right;\n",
       "    }\n",
       "</style>\n",
       "<table border=\"1\" class=\"dataframe\">\n",
       "  <thead>\n",
       "    <tr style=\"text-align: right;\">\n",
       "      <th></th>\n",
       "      <th>Prediction_LR</th>\n",
       "      <th>GDP</th>\n",
       "      <th>diff2</th>\n",
       "    </tr>\n",
       "  </thead>\n",
       "  <tbody>\n",
       "    <tr>\n",
       "      <th>0</th>\n",
       "      <td>9.239289e+10</td>\n",
       "      <td>8.413267e+10</td>\n",
       "      <td>8.260218e+09</td>\n",
       "    </tr>\n",
       "    <tr>\n",
       "      <th>1</th>\n",
       "      <td>1.169743e+11</td>\n",
       "      <td>1.076873e+11</td>\n",
       "      <td>9.286905e+09</td>\n",
       "    </tr>\n",
       "    <tr>\n",
       "      <th>2</th>\n",
       "      <td>7.778426e+10</td>\n",
       "      <td>7.337951e+10</td>\n",
       "      <td>4.404747e+09</td>\n",
       "    </tr>\n",
       "    <tr>\n",
       "      <th>3</th>\n",
       "      <td>1.117624e+11</td>\n",
       "      <td>1.180117e+11</td>\n",
       "      <td>6.249308e+09</td>\n",
       "    </tr>\n",
       "  </tbody>\n",
       "</table>\n",
       "</div>"
      ],
      "text/plain": [
       "   Prediction_LR           GDP         diff2\n",
       "0   9.239289e+10  8.413267e+10  8.260218e+09\n",
       "1   1.169743e+11  1.076873e+11  9.286905e+09\n",
       "2   7.778426e+10  7.337951e+10  4.404747e+09\n",
       "3   1.117624e+11  1.180117e+11  6.249308e+09"
      ]
     },
     "execution_count": 200,
     "metadata": {},
     "output_type": "execute_result"
    }
   ],
   "source": [
    "LR_prediction_final_2"
   ]
  },
  {
   "cell_type": "code",
   "execution_count": 201,
   "metadata": {},
   "outputs": [
    {
     "name": "stdout",
     "output_type": "stream",
     "text": [
      "MAE is 7050294459.868603\n",
      "MAE % is 7.359172994400284\n"
     ]
    }
   ],
   "source": [
    "print('MAE is', float(Sum_Absolute_Error_LR))\n",
    "print('MAE % is', (LR_prediction_final_2['diff2'].sum()/LR_prediction_final_2['GDP'].sum()*100))"
   ]
  },
  {
   "cell_type": "markdown",
   "metadata": {},
   "source": [
    "## Model_2 - SVM Regression"
   ]
  },
  {
   "cell_type": "code",
   "execution_count": 202,
   "metadata": {},
   "outputs": [],
   "source": [
    "from sklearn import svm"
   ]
  },
  {
   "cell_type": "code",
   "execution_count": 203,
   "metadata": {},
   "outputs": [
    {
     "data": {
      "text/plain": [
       "SVR(C=1.0, cache_size=200, coef0=0.0, degree=3, epsilon=0.1,\n",
       "    gamma='auto_deprecated', kernel='rbf', max_iter=-1, shrinking=True,\n",
       "    tol=0.001, verbose=False)"
      ]
     },
     "execution_count": 203,
     "metadata": {},
     "output_type": "execute_result"
    }
   ],
   "source": [
    "svr_reg_3 = svm.SVR()\n",
    "svr_reg_3.fit(x_train,y_train)"
   ]
  },
  {
   "cell_type": "code",
   "execution_count": 204,
   "metadata": {},
   "outputs": [],
   "source": [
    "# Calculates Error Rates\n",
    "\n",
    "SVM_Prediction = svr_reg_3.predict(x_test)\n",
    "SVM_Prediction = pd.DataFrame(SVM_Prediction, columns=['Prediction_SVM'])\n",
    "SVM_Prediction = SVM_Prediction.astype(float)\n",
    "y_test = y_test.reset_index(drop=True)\n",
    "SVM_Prediction = pd.concat([SVM_Prediction,y_test],axis=1)\n",
    "\n",
    "# MSE\n",
    "\n",
    "#LR_prediction['diff'] = LR_prediction['Prediction_LR'] - LR_prediction['GDP']\n",
    "#LR_prediction['diff'] = LR_prediction['diff'] ** 2\n",
    "#Sum_Squared_Error_LR = np.sum(LR_prediction['diff'])/LR_prediction['diff'].size\n",
    "\n",
    "# MAE\n",
    "\n",
    "SVM_Prediction['diff2'] = abs(SVM_Prediction['Prediction_SVM'] - SVM_Prediction['GDP'])\n",
    "Sum_Absolute_Error_SV = np.sum(SVM_Prediction['diff2'])\n",
    "Sum_Absolute_Error_SV = Sum_Absolute_Error_SV/SVM_Prediction['diff2'].size"
   ]
  },
  {
   "cell_type": "code",
   "execution_count": 205,
   "metadata": {},
   "outputs": [
    {
     "data": {
      "text/html": [
       "<div>\n",
       "<style scoped>\n",
       "    .dataframe tbody tr th:only-of-type {\n",
       "        vertical-align: middle;\n",
       "    }\n",
       "\n",
       "    .dataframe tbody tr th {\n",
       "        vertical-align: top;\n",
       "    }\n",
       "\n",
       "    .dataframe thead th {\n",
       "        text-align: right;\n",
       "    }\n",
       "</style>\n",
       "<table border=\"1\" class=\"dataframe\">\n",
       "  <thead>\n",
       "    <tr style=\"text-align: right;\">\n",
       "      <th></th>\n",
       "      <th>Prediction_SVM</th>\n",
       "      <th>GDP</th>\n",
       "      <th>diff2</th>\n",
       "    </tr>\n",
       "  </thead>\n",
       "  <tbody>\n",
       "    <tr>\n",
       "      <th>0</th>\n",
       "      <td>7.723452e+10</td>\n",
       "      <td>8.413267e+10</td>\n",
       "      <td>6.898158e+09</td>\n",
       "    </tr>\n",
       "    <tr>\n",
       "      <th>1</th>\n",
       "      <td>7.723452e+10</td>\n",
       "      <td>1.076873e+11</td>\n",
       "      <td>3.045283e+10</td>\n",
       "    </tr>\n",
       "    <tr>\n",
       "      <th>2</th>\n",
       "      <td>7.723452e+10</td>\n",
       "      <td>7.337951e+10</td>\n",
       "      <td>3.855003e+09</td>\n",
       "    </tr>\n",
       "    <tr>\n",
       "      <th>3</th>\n",
       "      <td>7.723452e+10</td>\n",
       "      <td>1.180117e+11</td>\n",
       "      <td>4.077718e+10</td>\n",
       "    </tr>\n",
       "  </tbody>\n",
       "</table>\n",
       "</div>"
      ],
      "text/plain": [
       "   Prediction_SVM           GDP         diff2\n",
       "0    7.723452e+10  8.413267e+10  6.898158e+09\n",
       "1    7.723452e+10  1.076873e+11  3.045283e+10\n",
       "2    7.723452e+10  7.337951e+10  3.855003e+09\n",
       "3    7.723452e+10  1.180117e+11  4.077718e+10"
      ]
     },
     "execution_count": 205,
     "metadata": {},
     "output_type": "execute_result"
    }
   ],
   "source": [
    "SVM_Prediction"
   ]
  },
  {
   "cell_type": "code",
   "execution_count": 206,
   "metadata": {},
   "outputs": [
    {
     "name": "stdout",
     "output_type": "stream",
     "text": [
      "MAE is 20495794181.0\n",
      "MAE % is 21.39\n"
     ]
    }
   ],
   "source": [
    "print('MAE is', Sum_Absolute_Error_SV.round())\n",
    "print('MAE % is', ((SVM_Prediction['diff2'].sum()/SVM_Prediction['GDP'].sum()*100).round(decimals=2)))"
   ]
  },
  {
   "cell_type": "markdown",
   "metadata": {},
   "source": [
    "## Model_3 - DecisionTree Regressor"
   ]
  },
  {
   "cell_type": "code",
   "execution_count": 207,
   "metadata": {},
   "outputs": [],
   "source": [
    "from sklearn.tree import DecisionTreeRegressor"
   ]
  },
  {
   "cell_type": "code",
   "execution_count": 208,
   "metadata": {},
   "outputs": [
    {
     "data": {
      "text/plain": [
       "DecisionTreeRegressor(criterion='mse', max_depth=None, max_features=None,\n",
       "                      max_leaf_nodes=None, min_impurity_decrease=0.0,\n",
       "                      min_impurity_split=None, min_samples_leaf=1,\n",
       "                      min_samples_split=2, min_weight_fraction_leaf=0.0,\n",
       "                      presort=False, random_state=0, splitter='best')"
      ]
     },
     "execution_count": 208,
     "metadata": {},
     "output_type": "execute_result"
    }
   ],
   "source": [
    "DT_reg_3 = DecisionTreeRegressor(random_state=0)\n",
    "DT_reg_3.fit(x_train,y_train)"
   ]
  },
  {
   "cell_type": "code",
   "execution_count": 209,
   "metadata": {},
   "outputs": [],
   "source": [
    "# Calculates Error Rates\n",
    "\n",
    "DTR_Prediction = DT_reg_3.predict(x_test)\n",
    "DTR_Prediction = pd.DataFrame(DTR_Prediction, columns=['DTR_Prediction'])\n",
    "DTR_Prediction = DTR_Prediction.astype(float)\n",
    "y_test = y_test.reset_index(drop=True)\n",
    "DTR_Prediction = pd.concat([DTR_Prediction,y_test],axis=1)\n",
    "\n",
    "# MSE\n",
    "\n",
    "#LR_prediction['diff'] = LR_prediction['Prediction_LR'] - LR_prediction['GDP']\n",
    "#LR_prediction['diff'] = LR_prediction['diff'] ** 2\n",
    "#Sum_Squared_Error_LR = np.sum(LR_prediction['diff'])/LR_prediction['diff'].size\n",
    "\n",
    "# MAE\n",
    "\n",
    "DTR_Prediction['diff2'] = abs(DTR_Prediction['DTR_Prediction'] - DTR_Prediction['GDP'])\n",
    "Sum_Absolute_Error_DTR = np.sum(DTR_Prediction['diff2'])\n",
    "Sum_Absolute_Error_DTR = Sum_Absolute_Error_DTR/DTR_Prediction['diff2'].size"
   ]
  },
  {
   "cell_type": "code",
   "execution_count": 210,
   "metadata": {},
   "outputs": [
    {
     "data": {
      "text/html": [
       "<div>\n",
       "<style scoped>\n",
       "    .dataframe tbody tr th:only-of-type {\n",
       "        vertical-align: middle;\n",
       "    }\n",
       "\n",
       "    .dataframe tbody tr th {\n",
       "        vertical-align: top;\n",
       "    }\n",
       "\n",
       "    .dataframe thead th {\n",
       "        text-align: right;\n",
       "    }\n",
       "</style>\n",
       "<table border=\"1\" class=\"dataframe\">\n",
       "  <thead>\n",
       "    <tr style=\"text-align: right;\">\n",
       "      <th></th>\n",
       "      <th>DTR_Prediction</th>\n",
       "      <th>GDP</th>\n",
       "      <th>diff2</th>\n",
       "    </tr>\n",
       "  </thead>\n",
       "  <tbody>\n",
       "    <tr>\n",
       "      <th>0</th>\n",
       "      <td>8.092474e+10</td>\n",
       "      <td>8.413267e+10</td>\n",
       "      <td>3.207933e+09</td>\n",
       "    </tr>\n",
       "    <tr>\n",
       "      <th>1</th>\n",
       "      <td>1.073986e+11</td>\n",
       "      <td>1.076873e+11</td>\n",
       "      <td>2.887702e+08</td>\n",
       "    </tr>\n",
       "    <tr>\n",
       "      <th>2</th>\n",
       "      <td>7.354429e+10</td>\n",
       "      <td>7.337951e+10</td>\n",
       "      <td>1.647777e+08</td>\n",
       "    </tr>\n",
       "    <tr>\n",
       "      <th>3</th>\n",
       "      <td>1.073986e+11</td>\n",
       "      <td>1.180117e+11</td>\n",
       "      <td>1.061312e+10</td>\n",
       "    </tr>\n",
       "  </tbody>\n",
       "</table>\n",
       "</div>"
      ],
      "text/plain": [
       "   DTR_Prediction           GDP         diff2\n",
       "0    8.092474e+10  8.413267e+10  3.207933e+09\n",
       "1    1.073986e+11  1.076873e+11  2.887702e+08\n",
       "2    7.354429e+10  7.337951e+10  1.647777e+08\n",
       "3    1.073986e+11  1.180117e+11  1.061312e+10"
      ]
     },
     "execution_count": 210,
     "metadata": {},
     "output_type": "execute_result"
    }
   ],
   "source": [
    "DTR_Prediction"
   ]
  },
  {
   "cell_type": "code",
   "execution_count": 211,
   "metadata": {},
   "outputs": [
    {
     "name": "stdout",
     "output_type": "stream",
     "text": [
      "MAE is 3568651107.0\n",
      "MAE % is 3.72\n"
     ]
    }
   ],
   "source": [
    "print('MAE is', Sum_Absolute_Error_DTR.round())\n",
    "print('MAE % is', ((DTR_Prediction['diff2'].sum()/DTR_Prediction['GDP'].sum()*100).round(decimals=2)))"
   ]
  },
  {
   "cell_type": "markdown",
   "metadata": {},
   "source": [
    "## Model_4 - Random Forest Regression"
   ]
  },
  {
   "cell_type": "code",
   "execution_count": 212,
   "metadata": {},
   "outputs": [],
   "source": [
    "from sklearn.ensemble import RandomForestRegressor"
   ]
  },
  {
   "cell_type": "code",
   "execution_count": 213,
   "metadata": {},
   "outputs": [
    {
     "data": {
      "text/plain": [
       "RandomForestRegressor(bootstrap=True, criterion='mse', max_depth=2,\n",
       "                      max_features='auto', max_leaf_nodes=None,\n",
       "                      min_impurity_decrease=0.0, min_impurity_split=None,\n",
       "                      min_samples_leaf=1, min_samples_split=2,\n",
       "                      min_weight_fraction_leaf=0.0, n_estimators=10,\n",
       "                      n_jobs=None, oob_score=False, random_state=0, verbose=0,\n",
       "                      warm_start=False)"
      ]
     },
     "execution_count": 213,
     "metadata": {},
     "output_type": "execute_result"
    }
   ],
   "source": [
    "RFR_3 = RandomForestRegressor(max_depth=2, random_state=0)\n",
    "RFR_3.fit(x_train,y_train)"
   ]
  },
  {
   "cell_type": "code",
   "execution_count": 214,
   "metadata": {},
   "outputs": [],
   "source": [
    "# Calculates Error Rates\n",
    "\n",
    "RFR_Prediction = RFR_3.predict(x_test)\n",
    "RFR_Prediction = pd.DataFrame(RFR_Prediction, columns=['RFR_Prediction'])\n",
    "RFR_Prediction = RFR_Prediction.astype(float)\n",
    "y_test = y_test.reset_index(drop=True)\n",
    "RFR_Prediction = pd.concat([RFR_Prediction,y_test],axis=1)\n",
    "\n",
    "# MSE\n",
    "\n",
    "#LR_prediction['diff'] = LR_prediction['Prediction_LR'] - LR_prediction['GDP']\n",
    "#LR_prediction['diff'] = LR_prediction['diff'] ** 2\n",
    "#Sum_Squared_Error_LR = np.sum(LR_prediction['diff'])/LR_prediction['diff'].size\n",
    "\n",
    "# MAE\n",
    "\n",
    "RFR_Prediction['diff2'] = abs(RFR_Prediction['RFR_Prediction'] - RFR_Prediction['GDP'])\n",
    "Sum_Absolute_Error_RFR = np.sum(RFR_Prediction['diff2'])\n",
    "Sum_Absolute_Error_RFR = Sum_Absolute_Error_RFR/RFR_Prediction['diff2'].size"
   ]
  },
  {
   "cell_type": "code",
   "execution_count": 215,
   "metadata": {},
   "outputs": [
    {
     "data": {
      "text/html": [
       "<div>\n",
       "<style scoped>\n",
       "    .dataframe tbody tr th:only-of-type {\n",
       "        vertical-align: middle;\n",
       "    }\n",
       "\n",
       "    .dataframe tbody tr th {\n",
       "        vertical-align: top;\n",
       "    }\n",
       "\n",
       "    .dataframe thead th {\n",
       "        text-align: right;\n",
       "    }\n",
       "</style>\n",
       "<table border=\"1\" class=\"dataframe\">\n",
       "  <thead>\n",
       "    <tr style=\"text-align: right;\">\n",
       "      <th></th>\n",
       "      <th>RFR_Prediction</th>\n",
       "      <th>GDP</th>\n",
       "      <th>diff2</th>\n",
       "    </tr>\n",
       "  </thead>\n",
       "  <tbody>\n",
       "    <tr>\n",
       "      <th>0</th>\n",
       "      <td>8.530876e+10</td>\n",
       "      <td>8.413267e+10</td>\n",
       "      <td>1.176085e+09</td>\n",
       "    </tr>\n",
       "    <tr>\n",
       "      <th>1</th>\n",
       "      <td>9.936648e+10</td>\n",
       "      <td>1.076873e+11</td>\n",
       "      <td>8.320865e+09</td>\n",
       "    </tr>\n",
       "    <tr>\n",
       "      <th>2</th>\n",
       "      <td>8.039153e+10</td>\n",
       "      <td>7.337951e+10</td>\n",
       "      <td>7.012018e+09</td>\n",
       "    </tr>\n",
       "    <tr>\n",
       "      <th>3</th>\n",
       "      <td>9.936648e+10</td>\n",
       "      <td>1.180117e+11</td>\n",
       "      <td>1.864522e+10</td>\n",
       "    </tr>\n",
       "  </tbody>\n",
       "</table>\n",
       "</div>"
      ],
      "text/plain": [
       "   RFR_Prediction           GDP         diff2\n",
       "0    8.530876e+10  8.413267e+10  1.176085e+09\n",
       "1    9.936648e+10  1.076873e+11  8.320865e+09\n",
       "2    8.039153e+10  7.337951e+10  7.012018e+09\n",
       "3    9.936648e+10  1.180117e+11  1.864522e+10"
      ]
     },
     "execution_count": 215,
     "metadata": {},
     "output_type": "execute_result"
    }
   ],
   "source": [
    "RFR_Prediction"
   ]
  },
  {
   "cell_type": "code",
   "execution_count": 216,
   "metadata": {},
   "outputs": [
    {
     "name": "stdout",
     "output_type": "stream",
     "text": [
      "MAE is 8788546531.0\n",
      "MAE % is 9.17\n"
     ]
    }
   ],
   "source": [
    "print('MAE is', Sum_Absolute_Error_RFR.round())\n",
    "print('MAE % is', ((RFR_Prediction['diff2'].sum()/RFR_Prediction['GDP'].sum()*100).round(decimals=2)))"
   ]
  },
  {
   "cell_type": "markdown",
   "metadata": {},
   "source": [
    "# Model_5 - Lasso Regression"
   ]
  },
  {
   "cell_type": "code",
   "execution_count": 217,
   "metadata": {},
   "outputs": [],
   "source": [
    "from sklearn import linear_model"
   ]
  },
  {
   "cell_type": "code",
   "execution_count": 218,
   "metadata": {},
   "outputs": [
    {
     "data": {
      "text/plain": [
       "Lasso(alpha=0.1, copy_X=True, fit_intercept=True, max_iter=1000,\n",
       "      normalize=False, positive=False, precompute=False, random_state=None,\n",
       "      selection='cyclic', tol=0.0001, warm_start=False)"
      ]
     },
     "execution_count": 218,
     "metadata": {},
     "output_type": "execute_result"
    }
   ],
   "source": [
    "clf = linear_model.Lasso(alpha=0.1)\n",
    "clf.fit(x_train,y_train)"
   ]
  },
  {
   "cell_type": "code",
   "execution_count": 219,
   "metadata": {},
   "outputs": [],
   "source": [
    "# Calculates Error Rates\n",
    "\n",
    "Lasso_Prediction = clf.predict(x_test)\n",
    "Lasso_Prediction = pd.DataFrame(Lasso_Prediction, columns=['Lasso_Prediction'])\n",
    "Lasso_Prediction = Lasso_Prediction.astype(float)\n",
    "y_test = y_test.reset_index(drop=True)\n",
    "Lasso_Prediction = pd.concat([Lasso_Prediction,y_test],axis=1)\n",
    "\n",
    "# MSE\n",
    "\n",
    "#LR_prediction['diff'] = LR_prediction['Prediction_LR'] - LR_prediction['GDP']\n",
    "#LR_prediction['diff'] = LR_prediction['diff'] ** 2\n",
    "#Sum_Squared_Error_LR = np.sum(LR_prediction['diff'])/LR_prediction['diff'].size\n",
    "\n",
    "# MAE\n",
    "\n",
    "Lasso_Prediction['diff2'] = abs(Lasso_Prediction['Lasso_Prediction'] - Lasso_Prediction['GDP'])\n",
    "Sum_Absolute_Error_Lasso = np.sum(Lasso_Prediction['diff2'])\n",
    "Sum_Absolute_Error_Lasso = Sum_Absolute_Error_Lasso/Lasso_Prediction['diff2'].size"
   ]
  },
  {
   "cell_type": "code",
   "execution_count": 220,
   "metadata": {},
   "outputs": [
    {
     "data": {
      "text/html": [
       "<div>\n",
       "<style scoped>\n",
       "    .dataframe tbody tr th:only-of-type {\n",
       "        vertical-align: middle;\n",
       "    }\n",
       "\n",
       "    .dataframe tbody tr th {\n",
       "        vertical-align: top;\n",
       "    }\n",
       "\n",
       "    .dataframe thead th {\n",
       "        text-align: right;\n",
       "    }\n",
       "</style>\n",
       "<table border=\"1\" class=\"dataframe\">\n",
       "  <thead>\n",
       "    <tr style=\"text-align: right;\">\n",
       "      <th></th>\n",
       "      <th>Lasso_Prediction</th>\n",
       "      <th>GDP</th>\n",
       "      <th>diff2</th>\n",
       "    </tr>\n",
       "  </thead>\n",
       "  <tbody>\n",
       "    <tr>\n",
       "      <th>0</th>\n",
       "      <td>9.239289e+10</td>\n",
       "      <td>8.413267e+10</td>\n",
       "      <td>8.260218e+09</td>\n",
       "    </tr>\n",
       "    <tr>\n",
       "      <th>1</th>\n",
       "      <td>1.169743e+11</td>\n",
       "      <td>1.076873e+11</td>\n",
       "      <td>9.286905e+09</td>\n",
       "    </tr>\n",
       "    <tr>\n",
       "      <th>2</th>\n",
       "      <td>7.778426e+10</td>\n",
       "      <td>7.337951e+10</td>\n",
       "      <td>4.404747e+09</td>\n",
       "    </tr>\n",
       "    <tr>\n",
       "      <th>3</th>\n",
       "      <td>1.117624e+11</td>\n",
       "      <td>1.180117e+11</td>\n",
       "      <td>6.249308e+09</td>\n",
       "    </tr>\n",
       "  </tbody>\n",
       "</table>\n",
       "</div>"
      ],
      "text/plain": [
       "   Lasso_Prediction           GDP         diff2\n",
       "0      9.239289e+10  8.413267e+10  8.260218e+09\n",
       "1      1.169743e+11  1.076873e+11  9.286905e+09\n",
       "2      7.778426e+10  7.337951e+10  4.404747e+09\n",
       "3      1.117624e+11  1.180117e+11  6.249308e+09"
      ]
     },
     "execution_count": 220,
     "metadata": {},
     "output_type": "execute_result"
    }
   ],
   "source": [
    "Lasso_Prediction"
   ]
  },
  {
   "cell_type": "code",
   "execution_count": 221,
   "metadata": {},
   "outputs": [
    {
     "name": "stdout",
     "output_type": "stream",
     "text": [
      "MAE is 7050294460.0\n",
      "MAE % is 7.36\n"
     ]
    }
   ],
   "source": [
    "print('MAE is', Sum_Absolute_Error_Lasso.round())\n",
    "print('MAE % is', ((Lasso_Prediction['diff2'].sum()/Lasso_Prediction['GDP'].sum()*100).round(decimals=2)))"
   ]
  },
  {
   "cell_type": "markdown",
   "metadata": {},
   "source": [
    "## Future Selection"
   ]
  },
  {
   "cell_type": "code",
   "execution_count": 222,
   "metadata": {},
   "outputs": [],
   "source": [
    "final_dataset_4 = final_dataset_3.drop(columns=['Labor Productivity','Labor_Productivity_2'])"
   ]
  },
  {
   "cell_type": "markdown",
   "metadata": {},
   "source": [
    "## Test and Train Split"
   ]
  },
  {
   "cell_type": "code",
   "execution_count": 223,
   "metadata": {},
   "outputs": [],
   "source": [
    "x_2 = final_dataset_3[['Year']]\n",
    "y_2 = final_dataset_3['GDP']\n",
    "x_train_2, x_test_2, y_train_2, y_test_2 = train_test_split(x_2,y_2,test_size=0.33, random_state=0)"
   ]
  },
  {
   "cell_type": "markdown",
   "metadata": {},
   "source": [
    "## Model_1 - Linear Regression"
   ]
  },
  {
   "cell_type": "code",
   "execution_count": 224,
   "metadata": {},
   "outputs": [
    {
     "data": {
      "text/plain": [
       "LinearRegression(copy_X=True, fit_intercept=True, n_jobs=None, normalize=False)"
      ]
     },
     "execution_count": 224,
     "metadata": {},
     "output_type": "execute_result"
    }
   ],
   "source": [
    "lr_4 = LinearRegression()\n",
    "lr_4.fit(x_train_2, y_train_2)"
   ]
  },
  {
   "cell_type": "code",
   "execution_count": 225,
   "metadata": {},
   "outputs": [],
   "source": [
    "# Calculates Error Rates\n",
    "\n",
    "LR_prediction_test = lr_4.predict(x_test_2)\n",
    "LR_prediction_test = pd.DataFrame(LR_prediction, columns=['Prediction_LR'])\n",
    "LR_prediction_test = LR_prediction_test.astype(float)\n",
    "y_test_2 = y_test_2.reset_index(drop=True)\n",
    "LR_prediction_test = pd.concat([LR_prediction_test,y_test_2],axis=1)\n",
    "\n",
    "# MSE\n",
    "\n",
    "#LR_prediction['diff'] = LR_prediction['Prediction_LR'] - LR_prediction['GDP']\n",
    "#LR_prediction['diff'] = LR_prediction['diff'] ** 2\n",
    "#Sum_Squared_Error_LR = np.sum(LR_prediction['diff'])/LR_prediction['diff'].size\n",
    "\n",
    "# MAE\n",
    "\n",
    "LR_prediction_test['diff2'] = abs(LR_prediction_test['Prediction_LR'] - LR_prediction_test['GDP'])\n",
    "Sum_Absolute_Error_LR = np.sum(LR_prediction_test['diff2'])\n",
    "Sum_Absolute_Error_LR = Sum_Absolute_Error_LR/LR_prediction_test['diff2'].size"
   ]
  },
  {
   "cell_type": "code",
   "execution_count": 226,
   "metadata": {},
   "outputs": [
    {
     "data": {
      "text/html": [
       "<div>\n",
       "<style scoped>\n",
       "    .dataframe tbody tr th:only-of-type {\n",
       "        vertical-align: middle;\n",
       "    }\n",
       "\n",
       "    .dataframe tbody tr th {\n",
       "        vertical-align: top;\n",
       "    }\n",
       "\n",
       "    .dataframe thead th {\n",
       "        text-align: right;\n",
       "    }\n",
       "</style>\n",
       "<table border=\"1\" class=\"dataframe\">\n",
       "  <thead>\n",
       "    <tr style=\"text-align: right;\">\n",
       "      <th></th>\n",
       "      <th>Prediction_LR</th>\n",
       "      <th>GDP</th>\n",
       "      <th>diff2</th>\n",
       "    </tr>\n",
       "  </thead>\n",
       "  <tbody>\n",
       "    <tr>\n",
       "      <th>0</th>\n",
       "      <td>8.806732e+10</td>\n",
       "      <td>8.413267e+10</td>\n",
       "      <td>3.934649e+09</td>\n",
       "    </tr>\n",
       "    <tr>\n",
       "      <th>1</th>\n",
       "      <td>1.170873e+11</td>\n",
       "      <td>1.076873e+11</td>\n",
       "      <td>9.399999e+09</td>\n",
       "    </tr>\n",
       "    <tr>\n",
       "      <th>2</th>\n",
       "      <td>8.365297e+10</td>\n",
       "      <td>7.337951e+10</td>\n",
       "      <td>1.027346e+10</td>\n",
       "    </tr>\n",
       "    <tr>\n",
       "      <th>3</th>\n",
       "      <td>1.131053e+11</td>\n",
       "      <td>1.180117e+11</td>\n",
       "      <td>4.906395e+09</td>\n",
       "    </tr>\n",
       "  </tbody>\n",
       "</table>\n",
       "</div>"
      ],
      "text/plain": [
       "   Prediction_LR           GDP         diff2\n",
       "0   8.806732e+10  8.413267e+10  3.934649e+09\n",
       "1   1.170873e+11  1.076873e+11  9.399999e+09\n",
       "2   8.365297e+10  7.337951e+10  1.027346e+10\n",
       "3   1.131053e+11  1.180117e+11  4.906395e+09"
      ]
     },
     "execution_count": 226,
     "metadata": {},
     "output_type": "execute_result"
    }
   ],
   "source": [
    "LR_prediction_test"
   ]
  },
  {
   "cell_type": "code",
   "execution_count": 227,
   "metadata": {},
   "outputs": [
    {
     "name": "stdout",
     "output_type": "stream",
     "text": [
      "MAE is 7128624672.0\n",
      "MAE % is 7.44\n"
     ]
    }
   ],
   "source": [
    "print('MAE is', Sum_Absolute_Error_LR.round())\n",
    "print('MAE % is', ((LR_prediction['diff2'].sum()/LR_prediction['GDP'].sum()*100).round(decimals=2)))"
   ]
  },
  {
   "cell_type": "markdown",
   "metadata": {},
   "source": [
    "The error rate is higher than the previous model with 'Labor Productivity' and 'Labor_Productivity_2 features, \n",
    "therefore use the previous model"
   ]
  },
  {
   "cell_type": "markdown",
   "metadata": {},
   "source": [
    "# Model_2 - DecisionTree Regressor"
   ]
  },
  {
   "cell_type": "code",
   "execution_count": 228,
   "metadata": {},
   "outputs": [],
   "source": [
    "from sklearn.tree import DecisionTreeRegressor"
   ]
  },
  {
   "cell_type": "code",
   "execution_count": 229,
   "metadata": {},
   "outputs": [
    {
     "data": {
      "text/plain": [
       "DecisionTreeRegressor(criterion='mse', max_depth=None, max_features=None,\n",
       "                      max_leaf_nodes=None, min_impurity_decrease=0.0,\n",
       "                      min_impurity_split=None, min_samples_leaf=1,\n",
       "                      min_samples_split=2, min_weight_fraction_leaf=0.0,\n",
       "                      presort=False, random_state=0, splitter='best')"
      ]
     },
     "execution_count": 229,
     "metadata": {},
     "output_type": "execute_result"
    }
   ],
   "source": [
    "DT_reg_4 = DecisionTreeRegressor(random_state=0)\n",
    "DT_reg_4.fit(x_train_2, y_train_2)"
   ]
  },
  {
   "cell_type": "code",
   "execution_count": 230,
   "metadata": {},
   "outputs": [],
   "source": [
    "# Calculates Error Rates\n",
    "\n",
    "DTR_Prediction_test = DT_reg_4.predict(x_test_2)\n",
    "DTR_Prediction_test = pd.DataFrame(DTR_Prediction_test, columns=['DTR_Prediction'])\n",
    "DTR_Prediction_test = DTR_Prediction_test.astype(float)\n",
    "y_test_2 = y_test_2.reset_index(drop=True)\n",
    "DTR_Prediction_test = pd.concat([DTR_Prediction_test,y_test_2],axis=1)\n",
    "\n",
    "# MSE\n",
    "\n",
    "#LR_prediction['diff'] = LR_prediction['Prediction_LR'] - LR_prediction['GDP']\n",
    "#LR_prediction['diff'] = LR_prediction['diff'] ** 2\n",
    "#Sum_Squared_Error_LR = np.sum(LR_prediction['diff'])/LR_prediction['diff'].size\n",
    "\n",
    "# MAE\n",
    "\n",
    "DTR_Prediction_test['diff2'] = abs(DTR_Prediction_test['DTR_Prediction'] - DTR_Prediction_test['GDP'])\n",
    "Sum_Absolute_Error_DTR = np.sum(DTR_Prediction_test['diff2'])\n",
    "Sum_Absolute_Error_DTR = Sum_Absolute_Error_DTR/DTR_Prediction_test['diff2'].size"
   ]
  },
  {
   "cell_type": "code",
   "execution_count": 231,
   "metadata": {},
   "outputs": [
    {
     "data": {
      "text/html": [
       "<div>\n",
       "<style scoped>\n",
       "    .dataframe tbody tr th:only-of-type {\n",
       "        vertical-align: middle;\n",
       "    }\n",
       "\n",
       "    .dataframe tbody tr th {\n",
       "        vertical-align: top;\n",
       "    }\n",
       "\n",
       "    .dataframe thead th {\n",
       "        text-align: right;\n",
       "    }\n",
       "</style>\n",
       "<table border=\"1\" class=\"dataframe\">\n",
       "  <thead>\n",
       "    <tr style=\"text-align: right;\">\n",
       "      <th></th>\n",
       "      <th>DTR_Prediction</th>\n",
       "      <th>GDP</th>\n",
       "      <th>diff2</th>\n",
       "    </tr>\n",
       "  </thead>\n",
       "  <tbody>\n",
       "    <tr>\n",
       "      <th>0</th>\n",
       "      <td>8.092474e+10</td>\n",
       "      <td>8.413267e+10</td>\n",
       "      <td>3.207933e+09</td>\n",
       "    </tr>\n",
       "    <tr>\n",
       "      <th>1</th>\n",
       "      <td>1.073986e+11</td>\n",
       "      <td>1.076873e+11</td>\n",
       "      <td>2.887702e+08</td>\n",
       "    </tr>\n",
       "    <tr>\n",
       "      <th>2</th>\n",
       "      <td>7.354429e+10</td>\n",
       "      <td>7.337951e+10</td>\n",
       "      <td>1.647777e+08</td>\n",
       "    </tr>\n",
       "    <tr>\n",
       "      <th>3</th>\n",
       "      <td>1.073986e+11</td>\n",
       "      <td>1.180117e+11</td>\n",
       "      <td>1.061312e+10</td>\n",
       "    </tr>\n",
       "  </tbody>\n",
       "</table>\n",
       "</div>"
      ],
      "text/plain": [
       "   DTR_Prediction           GDP         diff2\n",
       "0    8.092474e+10  8.413267e+10  3.207933e+09\n",
       "1    1.073986e+11  1.076873e+11  2.887702e+08\n",
       "2    7.354429e+10  7.337951e+10  1.647777e+08\n",
       "3    1.073986e+11  1.180117e+11  1.061312e+10"
      ]
     },
     "execution_count": 231,
     "metadata": {},
     "output_type": "execute_result"
    }
   ],
   "source": [
    "DTR_Prediction_test"
   ]
  },
  {
   "cell_type": "code",
   "execution_count": 232,
   "metadata": {},
   "outputs": [
    {
     "name": "stdout",
     "output_type": "stream",
     "text": [
      "MAE is 3568651107.0\n",
      "MAE % is 3.72\n"
     ]
    }
   ],
   "source": [
    "print('MAE is', Sum_Absolute_Error_DTR.round())\n",
    "print('MAE % is', ((DTR_Prediction_test['diff2'].sum()/DTR_Prediction_test['GDP'].sum()*100).round(decimals=2)))"
   ]
  },
  {
   "cell_type": "markdown",
   "metadata": {},
   "source": [
    "# Model_5 - Lasso Regression"
   ]
  },
  {
   "cell_type": "code",
   "execution_count": 233,
   "metadata": {},
   "outputs": [],
   "source": [
    "from sklearn import linear_model"
   ]
  },
  {
   "cell_type": "code",
   "execution_count": 234,
   "metadata": {},
   "outputs": [
    {
     "data": {
      "text/plain": [
       "Lasso(alpha=0.1, copy_X=True, fit_intercept=True, max_iter=1000,\n",
       "      normalize=False, positive=False, precompute=False, random_state=None,\n",
       "      selection='cyclic', tol=0.0001, warm_start=False)"
      ]
     },
     "execution_count": 234,
     "metadata": {},
     "output_type": "execute_result"
    }
   ],
   "source": [
    "clf_2 = linear_model.Lasso(alpha=0.1)\n",
    "clf_2.fit(x_train_2, y_train_2)"
   ]
  },
  {
   "cell_type": "code",
   "execution_count": 235,
   "metadata": {},
   "outputs": [],
   "source": [
    "# Calculates Error Rates\n",
    "\n",
    "Lasso_Prediction = clf_2.predict(x_test_2)\n",
    "Lasso_Prediction = pd.DataFrame(Lasso_Prediction, columns=['Lasso_Prediction'])\n",
    "Lasso_Prediction = Lasso_Prediction.astype(float)\n",
    "y_test_2 = y_test_2.reset_index(drop=True)\n",
    "Lasso_Prediction = pd.concat([Lasso_Prediction,y_test_2],axis=1)\n",
    "\n",
    "# MSE\n",
    "\n",
    "#LR_prediction['diff'] = LR_prediction['Prediction_LR'] - LR_prediction['GDP']\n",
    "#LR_prediction['diff'] = LR_prediction['diff'] ** 2\n",
    "#Sum_Squared_Error_LR = np.sum(LR_prediction['diff'])/LR_prediction['diff'].size\n",
    "\n",
    "# MAE\n",
    "\n",
    "Lasso_Prediction['diff2'] = abs(Lasso_Prediction['Lasso_Prediction'] - Lasso_Prediction['GDP'])\n",
    "Sum_Absolute_Error_Lasso = np.sum(Lasso_Prediction['diff2'])\n",
    "Sum_Absolute_Error_Lasso = Sum_Absolute_Error_Lasso/Lasso_Prediction['diff2'].size"
   ]
  },
  {
   "cell_type": "code",
   "execution_count": 236,
   "metadata": {},
   "outputs": [
    {
     "data": {
      "text/html": [
       "<div>\n",
       "<style scoped>\n",
       "    .dataframe tbody tr th:only-of-type {\n",
       "        vertical-align: middle;\n",
       "    }\n",
       "\n",
       "    .dataframe tbody tr th {\n",
       "        vertical-align: top;\n",
       "    }\n",
       "\n",
       "    .dataframe thead th {\n",
       "        text-align: right;\n",
       "    }\n",
       "</style>\n",
       "<table border=\"1\" class=\"dataframe\">\n",
       "  <thead>\n",
       "    <tr style=\"text-align: right;\">\n",
       "      <th></th>\n",
       "      <th>Lasso_Prediction</th>\n",
       "      <th>GDP</th>\n",
       "      <th>diff2</th>\n",
       "    </tr>\n",
       "  </thead>\n",
       "  <tbody>\n",
       "    <tr>\n",
       "      <th>0</th>\n",
       "      <td>9.122590e+10</td>\n",
       "      <td>8.413267e+10</td>\n",
       "      <td>7.093225e+09</td>\n",
       "    </tr>\n",
       "    <tr>\n",
       "      <th>1</th>\n",
       "      <td>1.126457e+11</td>\n",
       "      <td>1.076873e+11</td>\n",
       "      <td>4.958378e+09</td>\n",
       "    </tr>\n",
       "    <tr>\n",
       "      <th>2</th>\n",
       "      <td>8.265797e+10</td>\n",
       "      <td>7.337951e+10</td>\n",
       "      <td>9.278455e+09</td>\n",
       "    </tr>\n",
       "    <tr>\n",
       "      <th>3</th>\n",
       "      <td>1.083618e+11</td>\n",
       "      <td>1.180117e+11</td>\n",
       "      <td>9.649940e+09</td>\n",
       "    </tr>\n",
       "  </tbody>\n",
       "</table>\n",
       "</div>"
      ],
      "text/plain": [
       "   Lasso_Prediction           GDP         diff2\n",
       "0      9.122590e+10  8.413267e+10  7.093225e+09\n",
       "1      1.126457e+11  1.076873e+11  4.958378e+09\n",
       "2      8.265797e+10  7.337951e+10  9.278455e+09\n",
       "3      1.083618e+11  1.180117e+11  9.649940e+09"
      ]
     },
     "execution_count": 236,
     "metadata": {},
     "output_type": "execute_result"
    }
   ],
   "source": [
    "Lasso_Prediction"
   ]
  },
  {
   "cell_type": "code",
   "execution_count": 237,
   "metadata": {},
   "outputs": [
    {
     "name": "stdout",
     "output_type": "stream",
     "text": [
      "MAE is 7744999633.0\n",
      "MAE % is 8.08\n"
     ]
    }
   ],
   "source": [
    "print('MAE is', Sum_Absolute_Error_Lasso.round())\n",
    "print('MAE % is', ((Lasso_Prediction['diff2'].sum()/Lasso_Prediction['GDP'].sum()*100).round(decimals=2)))"
   ]
  },
  {
   "cell_type": "markdown",
   "metadata": {},
   "source": [
    "## Prediction for 2035, 2040, 2045 and 2050 without Climate Features"
   ]
  },
  {
   "cell_type": "code",
   "execution_count": 238,
   "metadata": {},
   "outputs": [
    {
     "data": {
      "text/html": [
       "<div>\n",
       "<style scoped>\n",
       "    .dataframe tbody tr th:only-of-type {\n",
       "        vertical-align: middle;\n",
       "    }\n",
       "\n",
       "    .dataframe tbody tr th {\n",
       "        vertical-align: top;\n",
       "    }\n",
       "\n",
       "    .dataframe thead th {\n",
       "        text-align: right;\n",
       "    }\n",
       "</style>\n",
       "<table border=\"1\" class=\"dataframe\">\n",
       "  <thead>\n",
       "    <tr style=\"text-align: right;\">\n",
       "      <th></th>\n",
       "      <th>Year</th>\n",
       "      <th>Labor Productivity</th>\n",
       "      <th>Labor_Productivity_2</th>\n",
       "      <th>GDP</th>\n",
       "    </tr>\n",
       "  </thead>\n",
       "  <tbody>\n",
       "    <tr>\n",
       "      <th>0</th>\n",
       "      <td>2009.0</td>\n",
       "      <td>8229.0</td>\n",
       "      <td>7.50</td>\n",
       "      <td>7.173982e+10</td>\n",
       "    </tr>\n",
       "    <tr>\n",
       "      <th>1</th>\n",
       "      <td>2010.0</td>\n",
       "      <td>9745.0</td>\n",
       "      <td>7.90</td>\n",
       "      <td>7.173982e+10</td>\n",
       "    </tr>\n",
       "    <tr>\n",
       "      <th>2</th>\n",
       "      <td>2011.0</td>\n",
       "      <td>6565.0</td>\n",
       "      <td>5.06</td>\n",
       "      <td>7.173982e+10</td>\n",
       "    </tr>\n",
       "    <tr>\n",
       "      <th>3</th>\n",
       "      <td>2012.0</td>\n",
       "      <td>5447.0</td>\n",
       "      <td>5.24</td>\n",
       "      <td>7.354429e+10</td>\n",
       "    </tr>\n",
       "    <tr>\n",
       "      <th>4</th>\n",
       "      <td>2013.0</td>\n",
       "      <td>4532.0</td>\n",
       "      <td>5.41</td>\n",
       "      <td>7.337951e+10</td>\n",
       "    </tr>\n",
       "    <tr>\n",
       "      <th>5</th>\n",
       "      <td>2014.0</td>\n",
       "      <td>5400.0</td>\n",
       "      <td>6.38</td>\n",
       "      <td>8.092474e+10</td>\n",
       "    </tr>\n",
       "    <tr>\n",
       "      <th>6</th>\n",
       "      <td>2015.0</td>\n",
       "      <td>6313.0</td>\n",
       "      <td>7.05</td>\n",
       "      <td>8.413267e+10</td>\n",
       "    </tr>\n",
       "    <tr>\n",
       "      <th>7</th>\n",
       "      <td>2016.0</td>\n",
       "      <td>5300.0</td>\n",
       "      <td>7.32</td>\n",
       "      <td>9.185428e+10</td>\n",
       "    </tr>\n",
       "    <tr>\n",
       "      <th>8</th>\n",
       "      <td>2017.0</td>\n",
       "      <td>4816.0</td>\n",
       "      <td>6.19</td>\n",
       "      <td>1.051743e+11</td>\n",
       "    </tr>\n",
       "    <tr>\n",
       "      <th>9</th>\n",
       "      <td>2018.0</td>\n",
       "      <td>5802.0</td>\n",
       "      <td>5.36</td>\n",
       "      <td>1.073986e+11</td>\n",
       "    </tr>\n",
       "    <tr>\n",
       "      <th>10</th>\n",
       "      <td>2019.0</td>\n",
       "      <td>5517.0</td>\n",
       "      <td>3.45</td>\n",
       "      <td>1.180117e+11</td>\n",
       "    </tr>\n",
       "    <tr>\n",
       "      <th>11</th>\n",
       "      <td>2020.0</td>\n",
       "      <td>5517.0</td>\n",
       "      <td>3.45</td>\n",
       "      <td>1.076873e+11</td>\n",
       "    </tr>\n",
       "  </tbody>\n",
       "</table>\n",
       "</div>"
      ],
      "text/plain": [
       "      Year  Labor Productivity  Labor_Productivity_2           GDP\n",
       "0   2009.0              8229.0                  7.50  7.173982e+10\n",
       "1   2010.0              9745.0                  7.90  7.173982e+10\n",
       "2   2011.0              6565.0                  5.06  7.173982e+10\n",
       "3   2012.0              5447.0                  5.24  7.354429e+10\n",
       "4   2013.0              4532.0                  5.41  7.337951e+10\n",
       "5   2014.0              5400.0                  6.38  8.092474e+10\n",
       "6   2015.0              6313.0                  7.05  8.413267e+10\n",
       "7   2016.0              5300.0                  7.32  9.185428e+10\n",
       "8   2017.0              4816.0                  6.19  1.051743e+11\n",
       "9   2018.0              5802.0                  5.36  1.073986e+11\n",
       "10  2019.0              5517.0                  3.45  1.180117e+11\n",
       "11  2020.0              5517.0                  3.45  1.076873e+11"
      ]
     },
     "execution_count": 238,
     "metadata": {},
     "output_type": "execute_result"
    }
   ],
   "source": [
    "final_dataset_3"
   ]
  },
  {
   "cell_type": "code",
   "execution_count": 239,
   "metadata": {},
   "outputs": [],
   "source": [
    "GDP_2035_wo_cf = clf.predict([[2035.0,5517.0,3.45]])"
   ]
  },
  {
   "cell_type": "code",
   "execution_count": 240,
   "metadata": {},
   "outputs": [],
   "source": [
    "GDP_2040_wo_cf = clf.predict([[2040.0,5517.0,3.45]])"
   ]
  },
  {
   "cell_type": "code",
   "execution_count": 241,
   "metadata": {},
   "outputs": [],
   "source": [
    "GDP_2045_wo_cf = clf.predict([[2045.0,5517.0,3.45]])"
   ]
  },
  {
   "cell_type": "code",
   "execution_count": 242,
   "metadata": {},
   "outputs": [],
   "source": [
    "GDP_2050_wo_cf = clf.predict([[2050.0,5517.0,3.45]])"
   ]
  },
  {
   "cell_type": "code",
   "execution_count": 243,
   "metadata": {},
   "outputs": [
    {
     "data": {
      "text/plain": [
       "(195152152580, 221211452544, 247270752509, 273330052474)"
      ]
     },
     "execution_count": 243,
     "metadata": {},
     "output_type": "execute_result"
    }
   ],
   "source": [
    "int(GDP_2035_wo_cf), int(GDP_2040_wo_cf), int(GDP_2045_wo_cf), int(GDP_2050_wo_cf),"
   ]
  },
  {
   "cell_type": "code",
   "execution_count": 244,
   "metadata": {},
   "outputs": [
    {
     "data": {
      "text/plain": [
       "(176905203786, 198325029863, 219744855940, 241164682017)"
      ]
     },
     "execution_count": 244,
     "metadata": {},
     "output_type": "execute_result"
    }
   ],
   "source": [
    "int(GDP_2035), int(GDP_2040), int(GDP_2045), int(GDP_2050),"
   ]
  },
  {
   "cell_type": "markdown",
   "metadata": {},
   "source": [
    "## Visualize the Results"
   ]
  },
  {
   "cell_type": "markdown",
   "metadata": {},
   "source": [
    "### GDP_w_Climate_Effect "
   ]
  },
  {
   "cell_type": "code",
   "execution_count": 245,
   "metadata": {},
   "outputs": [],
   "source": [
    "# Convert to DataFrame\n",
    "GDP_2035 = {'Year':[2035],'GDP_w_Climate_Effect':[GDP_2035[0]]}\n",
    "GDP_2035 = pd.DataFrame(GDP_2035)"
   ]
  },
  {
   "cell_type": "code",
   "execution_count": 246,
   "metadata": {},
   "outputs": [],
   "source": [
    "# Convert to DataFrame\n",
    "GDP_2040 = {'Year':[2040],'GDP_w_Climate_Effect':[GDP_2040[0]]}\n",
    "GDP_2040 = pd.DataFrame(GDP_2040)"
   ]
  },
  {
   "cell_type": "code",
   "execution_count": 247,
   "metadata": {},
   "outputs": [],
   "source": [
    "# Convert to DataFrame\n",
    "GDP_2045 = {'Year':[2045],'GDP_w_Climate_Effect':[GDP_2045[0]]}\n",
    "GDP_2045 = pd.DataFrame(GDP_2045)"
   ]
  },
  {
   "cell_type": "code",
   "execution_count": 248,
   "metadata": {},
   "outputs": [],
   "source": [
    "# Convert to DataFrame\n",
    "GDP_2050 = {'Year':[2050],'GDP_w_Climate_Effect':[GDP_2050[0]]}\n",
    "GDP_2050 = pd.DataFrame(GDP_2050)"
   ]
  },
  {
   "cell_type": "code",
   "execution_count": 249,
   "metadata": {},
   "outputs": [],
   "source": [
    "# Concat the dataframes\n",
    "GDP_w_ce = pd.concat([GDP_2035,GDP_2040,GDP_2045,GDP_2050])\n",
    "GDP_w_ce['GDP_w_Climate_Effect'] = GDP_w_ce['GDP_w_Climate_Effect'].astype(int)\n",
    "GDP_w_ce = GDP_w_ce.reset_index()\n",
    "GDP_w_ce.drop(columns='index',inplace=True)"
   ]
  },
  {
   "cell_type": "markdown",
   "metadata": {},
   "source": [
    "### GDP_wo_Climate_Effect "
   ]
  },
  {
   "cell_type": "code",
   "execution_count": 250,
   "metadata": {},
   "outputs": [],
   "source": [
    "# Convert to DataFrame\n",
    "GDP_wo_ce_2035 = {'Year':[2035],'GDP_wo_Climate_Effect':[GDP_2035_wo_cf[0]]}\n",
    "GDP_wo_ce_2035 = pd.DataFrame(GDP_wo_ce_2035)"
   ]
  },
  {
   "cell_type": "code",
   "execution_count": 251,
   "metadata": {},
   "outputs": [],
   "source": [
    "# Convert to DataFrame\n",
    "GDP_wo_ce_2040 = {'Year':[2040],'GDP_wo_Climate_Effect':[GDP_2040_wo_cf[0]]}\n",
    "GDP_wo_ce_2040 = pd.DataFrame(GDP_wo_ce_2040)"
   ]
  },
  {
   "cell_type": "code",
   "execution_count": 252,
   "metadata": {},
   "outputs": [],
   "source": [
    "# Convert to DataFrame\n",
    "GDP_wo_ce_2045 = {'Year':[2045],'GDP_wo_Climate_Effect':[GDP_2045_wo_cf[0]]}\n",
    "GDP_wo_ce_2045 = pd.DataFrame(GDP_wo_ce_2045)"
   ]
  },
  {
   "cell_type": "code",
   "execution_count": 253,
   "metadata": {},
   "outputs": [],
   "source": [
    "# Convert to DataFrame\n",
    "GDP_wo_ce_2050 = {'Year':[2050],'GDP_wo_Climate_Effect':[GDP_2050_wo_cf[0]]}\n",
    "GDP_wo_ce_2050 = pd.DataFrame(GDP_wo_ce_2050)"
   ]
  },
  {
   "cell_type": "code",
   "execution_count": 254,
   "metadata": {},
   "outputs": [],
   "source": [
    "# Concat the dataframes\n",
    "GDP_wo_ce = pd.concat([GDP_wo_ce_2035,GDP_wo_ce_2040,GDP_wo_ce_2045,GDP_wo_ce_2050])\n",
    "GDP_wo_ce['GDP_wo_Climate_Effect'] = GDP_wo_ce['GDP_wo_Climate_Effect'].astype(int)\n",
    "GDP_wo_ce = GDP_wo_ce.reset_index()\n",
    "GDP_wo_ce.drop(columns='index',inplace=True)"
   ]
  },
  {
   "cell_type": "markdown",
   "metadata": {},
   "source": [
    "## Concat both dataframes"
   ]
  },
  {
   "cell_type": "code",
   "execution_count": 255,
   "metadata": {},
   "outputs": [],
   "source": [
    "# Combine the datasets\n",
    "GDP_variation = GDP_w_ce.merge(GDP_wo_ce, on='Year', how='left')"
   ]
  },
  {
   "cell_type": "code",
   "execution_count": 256,
   "metadata": {},
   "outputs": [],
   "source": [
    "# Calculate the climate change effect of percentage \n",
    "GDP_variation['Climate_Effect'] = GDP_variation.apply(lambda x: ((x['GDP_wo_Climate_Effect'] - x['GDP_w_Climate_Effect'])/x['GDP_wo_Climate_Effect'])*100, axis=1)"
   ]
  },
  {
   "cell_type": "code",
   "execution_count": 257,
   "metadata": {},
   "outputs": [],
   "source": [
    "# Convert local currency to dollar\n",
    "GDP_variation['GDP_w_Climate_Effect']  = GDP_variation['GDP_w_Climate_Effect']\n",
    "GDP_variation['GDP_wo_Climate_Effect'] = GDP_variation['GDP_wo_Climate_Effect']\n",
    "\n",
    "GDP_variation['GDP_w_Climate_Effect']  = GDP_variation['GDP_w_Climate_Effect'].astype(int)\n",
    "GDP_variation['GDP_wo_Climate_Effect'] = GDP_variation['GDP_wo_Climate_Effect'].astype(int)"
   ]
  },
  {
   "cell_type": "code",
   "execution_count": 258,
   "metadata": {},
   "outputs": [
    {
     "data": {
      "text/html": [
       "<div>\n",
       "<style scoped>\n",
       "    .dataframe tbody tr th:only-of-type {\n",
       "        vertical-align: middle;\n",
       "    }\n",
       "\n",
       "    .dataframe tbody tr th {\n",
       "        vertical-align: top;\n",
       "    }\n",
       "\n",
       "    .dataframe thead th {\n",
       "        text-align: right;\n",
       "    }\n",
       "</style>\n",
       "<table border=\"1\" class=\"dataframe\">\n",
       "  <thead>\n",
       "    <tr style=\"text-align: right;\">\n",
       "      <th></th>\n",
       "      <th>Year</th>\n",
       "      <th>GDP_w_Climate_Effect</th>\n",
       "      <th>GDP_wo_Climate_Effect</th>\n",
       "      <th>Climate_Effect</th>\n",
       "    </tr>\n",
       "  </thead>\n",
       "  <tbody>\n",
       "    <tr>\n",
       "      <th>0</th>\n",
       "      <td>2035</td>\n",
       "      <td>176905203786</td>\n",
       "      <td>195152152580</td>\n",
       "      <td>9.350114</td>\n",
       "    </tr>\n",
       "    <tr>\n",
       "      <th>1</th>\n",
       "      <td>2040</td>\n",
       "      <td>198325029863</td>\n",
       "      <td>221211452544</td>\n",
       "      <td>10.345948</td>\n",
       "    </tr>\n",
       "    <tr>\n",
       "      <th>2</th>\n",
       "      <td>2045</td>\n",
       "      <td>219744855940</td>\n",
       "      <td>247270752509</td>\n",
       "      <td>11.131885</td>\n",
       "    </tr>\n",
       "    <tr>\n",
       "      <th>3</th>\n",
       "      <td>2050</td>\n",
       "      <td>241164682017</td>\n",
       "      <td>273330052474</td>\n",
       "      <td>11.767960</td>\n",
       "    </tr>\n",
       "  </tbody>\n",
       "</table>\n",
       "</div>"
      ],
      "text/plain": [
       "   Year  GDP_w_Climate_Effect  GDP_wo_Climate_Effect  Climate_Effect\n",
       "0  2035          176905203786           195152152580        9.350114\n",
       "1  2040          198325029863           221211452544       10.345948\n",
       "2  2045          219744855940           247270752509       11.131885\n",
       "3  2050          241164682017           273330052474       11.767960"
      ]
     },
     "execution_count": 258,
     "metadata": {},
     "output_type": "execute_result"
    }
   ],
   "source": [
    "GDP_variation"
   ]
  },
  {
   "cell_type": "code",
   "execution_count": 260,
   "metadata": {},
   "outputs": [
    {
     "data": {
      "image/png": "[encoded data removed]",
      "text/plain": [
       "<Figure size 432x288 with 1 Axes>"
      ]
     },
     "metadata": {
      "needs_background": "light"
     },
     "output_type": "display_data"
    }
   ],
   "source": [
    "# Visualize the Climate Change effect on the currency\n",
    "\n",
    "plt.title('Climate Change Effect on New Delhi GDP')\n",
    "\n",
    "plt.plot(GDP_variation['Year'], GDP_variation['Climate_Effect'],  label ='Climate Change Effect on GDP')\n",
    "\n",
    "plt.xlabel('Years')\n",
    "plt.ylabel('% Decrease')\n",
    "\n",
    "plt.legend(loc=\"upper left\")\n",
    "plt.show()"
   ]
  },
  {
   "cell_type": "code",
   "execution_count": 259,
   "metadata": {},
   "outputs": [
    {
     "data": {
      "image/png": "[encoded data removed]",
      "text/plain": [
       "<Figure size 432x288 with 1 Axes>"
      ]
     },
     "metadata": {
      "needs_background": "light"
     },
     "output_type": "display_data"
    }
   ],
   "source": [
    "# Visualize the Climate Change effect on the currency\n",
    "\n",
    "plt.title('Climate Change Effect on New Delhi GDP')\n",
    "\n",
    "plt.plot(GDP_variation['Year'], GDP_variation['GDP_w_Climate_Effect'],  label ='GDP_w_Climate_Effect')\n",
    "plt.plot(GDP_variation['Year'], GDP_variation['GDP_wo_Climate_Effect'], label ='GDP_wo_Climate_Effect')\n",
    "\n",
    "plt.xlabel('bn dollar')\n",
    "plt.ylabel('Years')\n",
    "\n",
    "plt.legend(loc=\"upper left\")\n",
    "plt.show()"
   ]
  }
 ],
 "metadata": {
  "kernelspec": {
   "display_name": "Python 3",
   "language": "python",
   "name": "python3"
  },
  "language_info": {
   "codemirror_mode": {
    "name": "ipython",
    "version": 3
   },
   "file_extension": ".py",
   "mimetype": "text/x-python",
   "name": "python",
   "nbconvert_exporter": "python",
   "pygments_lexer": "ipython3",
   "version": "3.7.4"
  }
 },
 "nbformat": 4,
 "nbformat_minor": 2
}
